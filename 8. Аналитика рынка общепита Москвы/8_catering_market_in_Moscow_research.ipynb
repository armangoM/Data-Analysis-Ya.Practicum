{
 "cells": [
  {
   "cell_type": "markdown",
   "metadata": {},
   "source": [
    "# Аналитика рынка заведений общественного питания Москвы"
   ]
  },
  {
   "cell_type": "markdown",
   "metadata": {},
   "source": [
    "**Цель проекта** - изучение данных о рынке заведений общественного питания в Москве. На основе полученной информации о географическом местоположении, типах заведения, числе посадочных мест, принадлежности к сети требуется дать рекомендации заказчику, планирующему открыть инновационное кафе. \n",
    "\n",
    "В ходе исследования решается ряд **задач**:\n",
    "- подготовка данных; \n",
    "- проведение анализа информации:\n",
    "    + определение соотношения количества заведений разных типов;\n",
    "    + исследование заведений в разрезе сетевых и несетевых точек - распространенность типов, посадочные места;\n",
    "    + выявление информации о географическом расположении заведений;\n",
    "    + выбор улиц с максимаьным и минимальным количеством точек на них;\n",
    "- подготовка рекомндаций.  "
   ]
  },
  {
   "cell_type": "markdown",
   "metadata": {},
   "source": [
    "# Обзор информации <a name=\"review\"></a>"
   ]
  },
  {
   "cell_type": "markdown",
   "metadata": {},
   "source": [
    "Импорт библиотек, которые потребуются для выполнения исследования:"
   ]
  },
  {
   "cell_type": "code",
   "execution_count": 1,
   "metadata": {},
   "outputs": [],
   "source": [
    "import pandas as pd\n",
    "import matplotlib.pyplot as plt\n",
    "import seaborn as sns\n",
    "import numpy as np\n",
    "from io import BytesIO\n",
    "import requests"
   ]
  },
  {
   "cell_type": "markdown",
   "metadata": {},
   "source": [
    "### **Загрузка датафрейма** <a name=\"download\"></a>"
   ]
  },
  {
   "cell_type": "markdown",
   "metadata": {},
   "source": [
    "Считывание файлов с данными в датафрейм:"
   ]
  },
  {
   "cell_type": "code",
   "execution_count": 2,
   "metadata": {},
   "outputs": [],
   "source": [
    "rest = pd.read_csv('/datasets/rest_data.csv')"
   ]
  },
  {
   "cell_type": "markdown",
   "metadata": {},
   "source": [
    "Получение данных о первых 10 строках таблицы **rest**:"
   ]
  },
  {
   "cell_type": "code",
   "execution_count": 3,
   "metadata": {},
   "outputs": [
    {
     "data": {
      "text/html": [
       "<div>\n",
       "<style scoped>\n",
       "    .dataframe tbody tr th:only-of-type {\n",
       "        vertical-align: middle;\n",
       "    }\n",
       "\n",
       "    .dataframe tbody tr th {\n",
       "        vertical-align: top;\n",
       "    }\n",
       "\n",
       "    .dataframe thead th {\n",
       "        text-align: right;\n",
       "    }\n",
       "</style>\n",
       "<table border=\"1\" class=\"dataframe\">\n",
       "  <thead>\n",
       "    <tr style=\"text-align: right;\">\n",
       "      <th></th>\n",
       "      <th>id</th>\n",
       "      <th>object_name</th>\n",
       "      <th>chain</th>\n",
       "      <th>object_type</th>\n",
       "      <th>address</th>\n",
       "      <th>number</th>\n",
       "    </tr>\n",
       "  </thead>\n",
       "  <tbody>\n",
       "    <tr>\n",
       "      <td>0</td>\n",
       "      <td>151635</td>\n",
       "      <td>СМЕТАНА</td>\n",
       "      <td>нет</td>\n",
       "      <td>кафе</td>\n",
       "      <td>город Москва, улица Егора Абакумова, дом 9</td>\n",
       "      <td>48</td>\n",
       "    </tr>\n",
       "    <tr>\n",
       "      <td>1</td>\n",
       "      <td>77874</td>\n",
       "      <td>Родник</td>\n",
       "      <td>нет</td>\n",
       "      <td>кафе</td>\n",
       "      <td>город Москва, улица Талалихина, дом 2/1, корпус 1</td>\n",
       "      <td>35</td>\n",
       "    </tr>\n",
       "    <tr>\n",
       "      <td>2</td>\n",
       "      <td>24309</td>\n",
       "      <td>Кафе «Академия»</td>\n",
       "      <td>нет</td>\n",
       "      <td>кафе</td>\n",
       "      <td>город Москва, Абельмановская улица, дом 6</td>\n",
       "      <td>95</td>\n",
       "    </tr>\n",
       "    <tr>\n",
       "      <td>3</td>\n",
       "      <td>21894</td>\n",
       "      <td>ПИЦЦЕТОРИЯ</td>\n",
       "      <td>да</td>\n",
       "      <td>кафе</td>\n",
       "      <td>город Москва, Абрамцевская улица, дом 1</td>\n",
       "      <td>40</td>\n",
       "    </tr>\n",
       "    <tr>\n",
       "      <td>4</td>\n",
       "      <td>119365</td>\n",
       "      <td>Кафе «Вишневая метель»</td>\n",
       "      <td>нет</td>\n",
       "      <td>кафе</td>\n",
       "      <td>город Москва, Абрамцевская улица, дом 9, корпус 1</td>\n",
       "      <td>50</td>\n",
       "    </tr>\n",
       "    <tr>\n",
       "      <td>5</td>\n",
       "      <td>27429</td>\n",
       "      <td>СТОЛ. ПРИ ГОУ СОШ № 1051</td>\n",
       "      <td>нет</td>\n",
       "      <td>столовая</td>\n",
       "      <td>город Москва, Абрамцевская улица, дом 15, корп...</td>\n",
       "      <td>240</td>\n",
       "    </tr>\n",
       "    <tr>\n",
       "      <td>6</td>\n",
       "      <td>148815</td>\n",
       "      <td>Брусника</td>\n",
       "      <td>да</td>\n",
       "      <td>кафе</td>\n",
       "      <td>город Москва, переулок Сивцев Вражек, дом 6/2</td>\n",
       "      <td>10</td>\n",
       "    </tr>\n",
       "    <tr>\n",
       "      <td>7</td>\n",
       "      <td>20957</td>\n",
       "      <td>Буфет МТУСИ</td>\n",
       "      <td>нет</td>\n",
       "      <td>столовая</td>\n",
       "      <td>город Москва, Авиамоторная улица, дом 8, строе...</td>\n",
       "      <td>90</td>\n",
       "    </tr>\n",
       "    <tr>\n",
       "      <td>8</td>\n",
       "      <td>20958</td>\n",
       "      <td>КПФ СЕМЬЯ-1</td>\n",
       "      <td>нет</td>\n",
       "      <td>столовая</td>\n",
       "      <td>город Москва, Авиамоторная улица, дом 8, строе...</td>\n",
       "      <td>150</td>\n",
       "    </tr>\n",
       "    <tr>\n",
       "      <td>9</td>\n",
       "      <td>28858</td>\n",
       "      <td>Столовая МТУСИ</td>\n",
       "      <td>нет</td>\n",
       "      <td>столовая</td>\n",
       "      <td>город Москва, Авиамоторная улица, дом 8, строе...</td>\n",
       "      <td>120</td>\n",
       "    </tr>\n",
       "  </tbody>\n",
       "</table>\n",
       "</div>"
      ],
      "text/plain": [
       "       id               object_name chain object_type  \\\n",
       "0  151635                   СМЕТАНА   нет        кафе   \n",
       "1   77874                    Родник   нет        кафе   \n",
       "2   24309           Кафе «Академия»   нет        кафе   \n",
       "3   21894                ПИЦЦЕТОРИЯ    да        кафе   \n",
       "4  119365    Кафе «Вишневая метель»   нет        кафе   \n",
       "5   27429  СТОЛ. ПРИ ГОУ СОШ № 1051   нет    столовая   \n",
       "6  148815                  Брусника    да        кафе   \n",
       "7   20957               Буфет МТУСИ   нет    столовая   \n",
       "8   20958               КПФ СЕМЬЯ-1   нет    столовая   \n",
       "9   28858            Столовая МТУСИ   нет    столовая   \n",
       "\n",
       "                                             address  number  \n",
       "0         город Москва, улица Егора Абакумова, дом 9      48  \n",
       "1  город Москва, улица Талалихина, дом 2/1, корпус 1      35  \n",
       "2          город Москва, Абельмановская улица, дом 6      95  \n",
       "3            город Москва, Абрамцевская улица, дом 1      40  \n",
       "4  город Москва, Абрамцевская улица, дом 9, корпус 1      50  \n",
       "5  город Москва, Абрамцевская улица, дом 15, корп...     240  \n",
       "6      город Москва, переулок Сивцев Вражек, дом 6/2      10  \n",
       "7  город Москва, Авиамоторная улица, дом 8, строе...      90  \n",
       "8  город Москва, Авиамоторная улица, дом 8, строе...     150  \n",
       "9  город Москва, Авиамоторная улица, дом 8, строе...     120  "
      ]
     },
     "execution_count": 3,
     "metadata": {},
     "output_type": "execute_result"
    }
   ],
   "source": [
    "rest.head(10)"
   ]
  },
  {
   "cell_type": "markdown",
   "metadata": {},
   "source": [
    "Общая информация о данных таблицы **rest**:"
   ]
  },
  {
   "cell_type": "code",
   "execution_count": 4,
   "metadata": {},
   "outputs": [
    {
     "name": "stdout",
     "output_type": "stream",
     "text": [
      "<class 'pandas.core.frame.DataFrame'>\n",
      "RangeIndex: 15366 entries, 0 to 15365\n",
      "Data columns (total 6 columns):\n",
      "id             15366 non-null int64\n",
      "object_name    15366 non-null object\n",
      "chain          15366 non-null object\n",
      "object_type    15366 non-null object\n",
      "address        15366 non-null object\n",
      "number         15366 non-null int64\n",
      "dtypes: int64(2), object(4)\n",
      "memory usage: 720.4+ KB\n"
     ]
    }
   ],
   "source": [
    "rest.info()"
   ]
  },
  {
   "cell_type": "markdown",
   "metadata": {},
   "source": [
    "В датафрейме **rest** представлена информация о заведениях общепита в Москве. В нем 6 столбцов: \n",
    "\n",
    "- **id** - идентификатор заведения / целочисл. тип данных\n",
    "- **object_name** - название заведения / строковый тип данных\n",
    "- **chain** - сетевой ресторан или нет / строковый тип данных\n",
    "- **object_type** - тип заведения / строковый тип данных\n",
    "- **address** - адрес / строковый тип данных\n",
    "- **number** - число посадочных мест /целочисл. тип данных\n",
    "\n",
    "Общее количество записей о ресторанах - 15366. Пропусков нет.\n",
    "\n",
    "---"
   ]
  },
  {
   "cell_type": "markdown",
   "metadata": {},
   "source": [
    "### **Подготовка данных** <a name=\"preparation\"></a>"
   ]
  },
  {
   "cell_type": "markdown",
   "metadata": {},
   "source": [
    "Прежде всего проверим таблицу на наличие полностью повторяющихся строк:"
   ]
  },
  {
   "cell_type": "code",
   "execution_count": 5,
   "metadata": {},
   "outputs": [
    {
     "data": {
      "text/plain": [
       "0"
      ]
     },
     "execution_count": 5,
     "metadata": {},
     "output_type": "execute_result"
    }
   ],
   "source": [
    "rest.duplicated().sum()"
   ]
  },
  {
   "cell_type": "markdown",
   "metadata": {},
   "source": [
    "Полных дубликатов в данных нет. Теперь рассмотрим отдельно столбцы каждой таблицы на предмет наличия ошибок в данных, а также приведем их к нужным типам там, где это необходимо. "
   ]
  },
  {
   "cell_type": "markdown",
   "metadata": {},
   "source": [
    "**id** - идентификатор заведения"
   ]
  },
  {
   "cell_type": "markdown",
   "metadata": {},
   "source": [
    "Столбец **id** отдельно рассматривать на аномалии особо не имеет смысла, т.к. это всего лишь неотрицательные (предположительно) числа:"
   ]
  },
  {
   "cell_type": "code",
   "execution_count": 6,
   "metadata": {},
   "outputs": [
    {
     "name": "stdout",
     "output_type": "stream",
     "text": [
      "838\n",
      "223439\n"
     ]
    }
   ],
   "source": [
    "print(rest['id'].min())\n",
    "print(rest['id'].max())"
   ]
  },
  {
   "cell_type": "code",
   "execution_count": 7,
   "metadata": {},
   "outputs": [
    {
     "data": {
      "text/plain": [
       "15366"
      ]
     },
     "execution_count": 7,
     "metadata": {},
     "output_type": "execute_result"
    }
   ],
   "source": [
    "rest['id'].nunique()"
   ]
  },
  {
   "cell_type": "markdown",
   "metadata": {},
   "source": [
    "Повторяющихся id в датафрейме нет."
   ]
  },
  {
   "cell_type": "markdown",
   "metadata": {},
   "source": [
    "Для экономии памяти поменяем тип данных с int64 на int32:"
   ]
  },
  {
   "cell_type": "code",
   "execution_count": 8,
   "metadata": {},
   "outputs": [],
   "source": [
    "rest['id'] = rest['id'].astype('int32')"
   ]
  },
  {
   "cell_type": "markdown",
   "metadata": {},
   "source": [
    "**object_name** - название заведения "
   ]
  },
  {
   "cell_type": "code",
   "execution_count": 9,
   "metadata": {},
   "outputs": [
    {
     "data": {
      "text/plain": [
       "count        15366\n",
       "unique       10393\n",
       "top       Столовая\n",
       "freq           267\n",
       "Name: object_name, dtype: object"
      ]
     },
     "execution_count": 9,
     "metadata": {},
     "output_type": "execute_result"
    }
   ],
   "source": [
    "rest['object_name'].describe()"
   ]
  },
  {
   "cell_type": "code",
   "execution_count": 10,
   "metadata": {},
   "outputs": [
    {
     "data": {
      "text/plain": [
       "Столовая           267\n",
       "Кафе               236\n",
       "Шаурма             234\n",
       "KFC                155\n",
       "Шоколадница        142\n",
       "Бургер Кинг        122\n",
       "Макдоналдс         122\n",
       "Домино'с Пицца      86\n",
       "Теремок             84\n",
       "Крошка Картошка     82\n",
       "Name: object_name, dtype: int64"
      ]
     },
     "execution_count": 10,
     "metadata": {},
     "output_type": "execute_result"
    }
   ],
   "source": [
    "rest['object_name'].value_counts().head(10)"
   ]
  },
  {
   "cell_type": "markdown",
   "metadata": {},
   "source": [
    "Две трети заведений носят не повторяющиеся имена. Остальные называются незамысловато, признак не уникален (столовые, кафе, шаурма, сетевые рестораны и т.п.).\n",
    "\n",
    "Тип данных корректный."
   ]
  },
  {
   "cell_type": "markdown",
   "metadata": {},
   "source": [
    "**chain** - сетевой ресторан "
   ]
  },
  {
   "cell_type": "code",
   "execution_count": 11,
   "metadata": {},
   "outputs": [
    {
     "data": {
      "text/plain": [
       "count     15366\n",
       "unique        2\n",
       "top         нет\n",
       "freq      12398\n",
       "Name: chain, dtype: object"
      ]
     },
     "execution_count": 11,
     "metadata": {},
     "output_type": "execute_result"
    }
   ],
   "source": [
    "rest['chain'].describe()"
   ]
  },
  {
   "cell_type": "code",
   "execution_count": 12,
   "metadata": {},
   "outputs": [
    {
     "data": {
      "text/plain": [
       "0    нет\n",
       "1    нет\n",
       "2    нет\n",
       "3     да\n",
       "4    нет\n",
       "Name: chain, dtype: object"
      ]
     },
     "execution_count": 12,
     "metadata": {},
     "output_type": "execute_result"
    }
   ],
   "source": [
    "rest['chain'].head()"
   ]
  },
  {
   "cell_type": "markdown",
   "metadata": {},
   "source": [
    "В столбце встречаются всего два значения - да и нет. Несетевых ресторанов больше: 12 398 против 2 968 сетевых. Для экономии памяти приведем данные к типу bool:"
   ]
  },
  {
   "cell_type": "code",
   "execution_count": 13,
   "metadata": {},
   "outputs": [],
   "source": [
    "rest['chain'] = [True if (i == 'да') else False for i in rest['chain']]"
   ]
  },
  {
   "cell_type": "code",
   "execution_count": 14,
   "metadata": {},
   "outputs": [
    {
     "data": {
      "text/plain": [
       "count     15366\n",
       "unique        2\n",
       "top       False\n",
       "freq      12398\n",
       "Name: chain, dtype: object"
      ]
     },
     "execution_count": 14,
     "metadata": {},
     "output_type": "execute_result"
    }
   ],
   "source": [
    "rest['chain'].describe()"
   ]
  },
  {
   "cell_type": "code",
   "execution_count": 15,
   "metadata": {},
   "outputs": [
    {
     "name": "stdout",
     "output_type": "stream",
     "text": [
      "<class 'pandas.core.frame.DataFrame'>\n",
      "RangeIndex: 15366 entries, 0 to 15365\n",
      "Data columns (total 6 columns):\n",
      "id             15366 non-null int32\n",
      "object_name    15366 non-null object\n",
      "chain          15366 non-null bool\n",
      "object_type    15366 non-null object\n",
      "address        15366 non-null object\n",
      "number         15366 non-null int64\n",
      "dtypes: bool(1), int32(1), int64(1), object(3)\n",
      "memory usage: 555.3+ KB\n"
     ]
    }
   ],
   "source": [
    "rest.info()"
   ]
  },
  {
   "cell_type": "markdown",
   "metadata": {},
   "source": [
    "**object_type** - тип заведения "
   ]
  },
  {
   "cell_type": "code",
   "execution_count": 16,
   "metadata": {},
   "outputs": [
    {
     "data": {
      "text/plain": [
       "count     15366\n",
       "unique        9\n",
       "top        кафе\n",
       "freq       6099\n",
       "Name: object_type, dtype: object"
      ]
     },
     "execution_count": 16,
     "metadata": {},
     "output_type": "execute_result"
    }
   ],
   "source": [
    "rest['object_type'].describe()"
   ]
  },
  {
   "cell_type": "markdown",
   "metadata": {},
   "source": [
    "Всего 9 типов заведений:"
   ]
  },
  {
   "cell_type": "code",
   "execution_count": 17,
   "metadata": {},
   "outputs": [
    {
     "data": {
      "text/plain": [
       "кафе                                 6099\n",
       "столовая                             2587\n",
       "ресторан                             2285\n",
       "предприятие быстрого обслуживания    1923\n",
       "бар                                   856\n",
       "буфет                                 585\n",
       "кафетерий                             398\n",
       "закусочная                            360\n",
       "магазин (отдел кулинарии)             273\n",
       "Name: object_type, dtype: int64"
      ]
     },
     "execution_count": 17,
     "metadata": {},
     "output_type": "execute_result"
    }
   ],
   "source": [
    "rest['object_type'].value_counts()"
   ]
  },
  {
   "cell_type": "markdown",
   "metadata": {},
   "source": [
    "Дублирующих друг друга типов нет."
   ]
  },
  {
   "cell_type": "markdown",
   "metadata": {},
   "source": [
    "Переименуем предприятия быстрого обслуживания в фастфуд, а магазины с отделами кулинарии просто в кулинарию для компактности:"
   ]
  },
  {
   "cell_type": "code",
   "execution_count": 18,
   "metadata": {},
   "outputs": [],
   "source": [
    "rest['object_type'] = rest['object_type'].str.replace('предприятие быстрого обслуживания', 'фастфуд')\n",
    "rest['object_type'] = rest['object_type'].str.replace('магазин \\(отдел кулинарии\\)', 'кулинария')"
   ]
  },
  {
   "cell_type": "markdown",
   "metadata": {},
   "source": [
    "**address** - адрес"
   ]
  },
  {
   "cell_type": "code",
   "execution_count": 19,
   "metadata": {},
   "outputs": [
    {
     "data": {
      "text/plain": [
       "count                                      15366\n",
       "unique                                      9108\n",
       "top       город Москва, Ходынский бульвар, дом 4\n",
       "freq                                          95\n",
       "Name: address, dtype: object"
      ]
     },
     "execution_count": 19,
     "metadata": {},
     "output_type": "execute_result"
    }
   ],
   "source": [
    "rest['address'].describe()"
   ]
  },
  {
   "cell_type": "markdown",
   "metadata": {},
   "source": [
    "Исключать дубликаты не следует, поскольку по одному и тому же адресу может находиться несколько точек общепита, особенно это касается торговых центров."
   ]
  },
  {
   "cell_type": "markdown",
   "metadata": {},
   "source": [
    "**number** - число посадочных мест"
   ]
  },
  {
   "cell_type": "code",
   "execution_count": 20,
   "metadata": {},
   "outputs": [
    {
     "name": "stdout",
     "output_type": "stream",
     "text": [
      "0\n",
      "1700\n"
     ]
    }
   ],
   "source": [
    "print(rest['number'].min())\n",
    "print(rest['number'].max())"
   ]
  },
  {
   "cell_type": "markdown",
   "metadata": {},
   "source": [
    "Рассмотрим, сколько записей о ресторанах, в которых число посадочных мест нулевое:"
   ]
  },
  {
   "cell_type": "code",
   "execution_count": 21,
   "metadata": {},
   "outputs": [
    {
     "data": {
      "text/plain": [
       "1621"
      ]
     },
     "execution_count": 21,
     "metadata": {},
     "output_type": "execute_result"
    }
   ],
   "source": [
    "rest.query('number == 0').shape[0]"
   ]
  },
  {
   "cell_type": "markdown",
   "metadata": {},
   "source": [
    "Таких заведений 1621. Это достаточно много по отношению к общему количеству записей. Рассмотрим в разрезе типа заведений:"
   ]
  },
  {
   "cell_type": "code",
   "execution_count": 22,
   "metadata": {},
   "outputs": [
    {
     "data": {
      "text/html": [
       "<div>\n",
       "<style scoped>\n",
       "    .dataframe tbody tr th:only-of-type {\n",
       "        vertical-align: middle;\n",
       "    }\n",
       "\n",
       "    .dataframe tbody tr th {\n",
       "        vertical-align: top;\n",
       "    }\n",
       "\n",
       "    .dataframe thead th {\n",
       "        text-align: right;\n",
       "    }\n",
       "</style>\n",
       "<table border=\"1\" class=\"dataframe\">\n",
       "  <thead>\n",
       "    <tr style=\"text-align: right;\">\n",
       "      <th></th>\n",
       "      <th>object_type</th>\n",
       "      <th>num_id</th>\n",
       "    </tr>\n",
       "  </thead>\n",
       "  <tbody>\n",
       "    <tr>\n",
       "      <td>0</td>\n",
       "      <td>бар</td>\n",
       "      <td>28</td>\n",
       "    </tr>\n",
       "    <tr>\n",
       "      <td>1</td>\n",
       "      <td>буфет</td>\n",
       "      <td>68</td>\n",
       "    </tr>\n",
       "    <tr>\n",
       "      <td>2</td>\n",
       "      <td>закусочная</td>\n",
       "      <td>189</td>\n",
       "    </tr>\n",
       "    <tr>\n",
       "      <td>3</td>\n",
       "      <td>кафе</td>\n",
       "      <td>310</td>\n",
       "    </tr>\n",
       "    <tr>\n",
       "      <td>4</td>\n",
       "      <td>кафетерий</td>\n",
       "      <td>113</td>\n",
       "    </tr>\n",
       "    <tr>\n",
       "      <td>5</td>\n",
       "      <td>кулинария</td>\n",
       "      <td>145</td>\n",
       "    </tr>\n",
       "    <tr>\n",
       "      <td>6</td>\n",
       "      <td>ресторан</td>\n",
       "      <td>45</td>\n",
       "    </tr>\n",
       "    <tr>\n",
       "      <td>7</td>\n",
       "      <td>столовая</td>\n",
       "      <td>19</td>\n",
       "    </tr>\n",
       "    <tr>\n",
       "      <td>8</td>\n",
       "      <td>фастфуд</td>\n",
       "      <td>704</td>\n",
       "    </tr>\n",
       "  </tbody>\n",
       "</table>\n",
       "</div>"
      ],
      "text/plain": [
       "  object_type  num_id\n",
       "0         бар      28\n",
       "1       буфет      68\n",
       "2  закусочная     189\n",
       "3        кафе     310\n",
       "4   кафетерий     113\n",
       "5   кулинария     145\n",
       "6    ресторан      45\n",
       "7    столовая      19\n",
       "8     фастфуд     704"
      ]
     },
     "execution_count": 22,
     "metadata": {},
     "output_type": "execute_result"
    }
   ],
   "source": [
    "rest.query('number == 0').groupby(by = 'object_type').agg({'id' : 'count'}).reset_index()\\\n",
    "                         .rename(columns = {'id':'num_id'})"
   ]
  },
  {
   "cell_type": "markdown",
   "metadata": {},
   "source": [
    "Можно допустить, что в некоторых барах, буфетах, закусочных, столовых действительно отсутствуют посадочные места. Также это справедливо для отделов кулинарии. Что касается остальных точек, то, во-первых, заведение может располагаться на фуд-корте в ТЦ, где посадочные места не привязаны к какому-либо конкретному ресторану. Во-вторых, есть заведения, которые готовят только под доставку, т.н. дарк-китчен. Оставим данные как есть, поскольку заполнение нулей средними значениями может исказить картину."
   ]
  },
  {
   "cell_type": "markdown",
   "metadata": {},
   "source": [
    "Что касается верхней границы, то заведений с большим числом посадочных мест не так и много:"
   ]
  },
  {
   "cell_type": "code",
   "execution_count": 23,
   "metadata": {},
   "outputs": [
    {
     "data": {
      "text/html": [
       "<div>\n",
       "<style scoped>\n",
       "    .dataframe tbody tr th:only-of-type {\n",
       "        vertical-align: middle;\n",
       "    }\n",
       "\n",
       "    .dataframe tbody tr th {\n",
       "        vertical-align: top;\n",
       "    }\n",
       "\n",
       "    .dataframe thead th {\n",
       "        text-align: right;\n",
       "    }\n",
       "</style>\n",
       "<table border=\"1\" class=\"dataframe\">\n",
       "  <thead>\n",
       "    <tr style=\"text-align: right;\">\n",
       "      <th></th>\n",
       "      <th>id</th>\n",
       "      <th>object_name</th>\n",
       "      <th>chain</th>\n",
       "      <th>object_type</th>\n",
       "      <th>address</th>\n",
       "      <th>number</th>\n",
       "    </tr>\n",
       "  </thead>\n",
       "  <tbody>\n",
       "    <tr>\n",
       "      <td>2313</td>\n",
       "      <td>26560</td>\n",
       "      <td>Ресторан «АЛЬФА»</td>\n",
       "      <td>False</td>\n",
       "      <td>ресторан</td>\n",
       "      <td>город Москва, Измайловское шоссе, дом 71, корп...</td>\n",
       "      <td>1040</td>\n",
       "    </tr>\n",
       "    <tr>\n",
       "      <td>3686</td>\n",
       "      <td>27026</td>\n",
       "      <td>РУМ СЕРВИС</td>\n",
       "      <td>False</td>\n",
       "      <td>ресторан</td>\n",
       "      <td>город Москва, площадь Европы, дом 2</td>\n",
       "      <td>1200</td>\n",
       "    </tr>\n",
       "    <tr>\n",
       "      <td>4480</td>\n",
       "      <td>27024</td>\n",
       "      <td>РУМ СЕРВИС</td>\n",
       "      <td>False</td>\n",
       "      <td>ресторан</td>\n",
       "      <td>город Москва, Кутузовский проспект, дом 2/1, с...</td>\n",
       "      <td>1200</td>\n",
       "    </tr>\n",
       "    <tr>\n",
       "      <td>8148</td>\n",
       "      <td>80291</td>\n",
       "      <td>Банкетный зал Шелк</td>\n",
       "      <td>False</td>\n",
       "      <td>ресторан</td>\n",
       "      <td>город Москва, Большой Саввинский переулок, дом...</td>\n",
       "      <td>1500</td>\n",
       "    </tr>\n",
       "    <tr>\n",
       "      <td>8345</td>\n",
       "      <td>27750</td>\n",
       "      <td>СТОЛОВАЯ-БУФЕТ</td>\n",
       "      <td>False</td>\n",
       "      <td>столовая</td>\n",
       "      <td>город Москва, улица Волхонка, дом 15</td>\n",
       "      <td>1400</td>\n",
       "    </tr>\n",
       "    <tr>\n",
       "      <td>9064</td>\n",
       "      <td>19719</td>\n",
       "      <td>КОМБИНАТ ПИТАНИЯ «УПРАВЛЕНИЕ АКАДЕМСЕРВИС»</td>\n",
       "      <td>False</td>\n",
       "      <td>столовая</td>\n",
       "      <td>город Москва, проспект Вернадского, дом 84, ст...</td>\n",
       "      <td>1288</td>\n",
       "    </tr>\n",
       "    <tr>\n",
       "      <td>12723</td>\n",
       "      <td>199696</td>\n",
       "      <td>Arena by Soho Family</td>\n",
       "      <td>False</td>\n",
       "      <td>бар</td>\n",
       "      <td>город Москва, Кутузовский проспект, дом 36, ст...</td>\n",
       "      <td>1700</td>\n",
       "    </tr>\n",
       "  </tbody>\n",
       "</table>\n",
       "</div>"
      ],
      "text/plain": [
       "           id                                 object_name  chain object_type  \\\n",
       "2313    26560                            Ресторан «АЛЬФА»  False    ресторан   \n",
       "3686    27026                                  РУМ СЕРВИС  False    ресторан   \n",
       "4480    27024                                  РУМ СЕРВИС  False    ресторан   \n",
       "8148    80291                          Банкетный зал Шелк  False    ресторан   \n",
       "8345    27750                              СТОЛОВАЯ-БУФЕТ  False    столовая   \n",
       "9064    19719  КОМБИНАТ ПИТАНИЯ «УПРАВЛЕНИЕ АКАДЕМСЕРВИС»  False    столовая   \n",
       "12723  199696                        Arena by Soho Family  False         бар   \n",
       "\n",
       "                                                 address  number  \n",
       "2313   город Москва, Измайловское шоссе, дом 71, корп...    1040  \n",
       "3686                 город Москва, площадь Европы, дом 2    1200  \n",
       "4480   город Москва, Кутузовский проспект, дом 2/1, с...    1200  \n",
       "8148   город Москва, Большой Саввинский переулок, дом...    1500  \n",
       "8345                город Москва, улица Волхонка, дом 15    1400  \n",
       "9064   город Москва, проспект Вернадского, дом 84, ст...    1288  \n",
       "12723  город Москва, Кутузовский проспект, дом 36, ст...    1700  "
      ]
     },
     "execution_count": 23,
     "metadata": {},
     "output_type": "execute_result"
    }
   ],
   "source": [
    "rest.query('number >= 1000')"
   ]
  },
  {
   "cell_type": "markdown",
   "metadata": {},
   "source": [
    "Беглый поиск в Google подтверждает информацию о столь большом числе посадочных мест (например, [здесь](https://data.mos.ru/opendata/7710881420-kombinaty-pitaniya/row/20731002?pageNumber=2&versionNumber=1&releaseNumber=1) и [здесь](https://www.pogostite.ru/conferenc-zaly/moskva/arena-soho-family))."
   ]
  },
  {
   "cell_type": "markdown",
   "metadata": {},
   "source": [
    "Для экономии памяти поменяем тип данных с int64 на int16:"
   ]
  },
  {
   "cell_type": "code",
   "execution_count": 24,
   "metadata": {},
   "outputs": [],
   "source": [
    "rest['number'] = rest['number'].astype('int16')"
   ]
  },
  {
   "cell_type": "markdown",
   "metadata": {},
   "source": [
    "Наконец, попробуем найти дубликаты в таблице, не учитывая id, а по комбинации остальных параметров: "
   ]
  },
  {
   "cell_type": "code",
   "execution_count": 25,
   "metadata": {},
   "outputs": [
    {
     "data": {
      "text/html": [
       "<div>\n",
       "<style scoped>\n",
       "    .dataframe tbody tr th:only-of-type {\n",
       "        vertical-align: middle;\n",
       "    }\n",
       "\n",
       "    .dataframe tbody tr th {\n",
       "        vertical-align: top;\n",
       "    }\n",
       "\n",
       "    .dataframe thead th {\n",
       "        text-align: right;\n",
       "    }\n",
       "</style>\n",
       "<table border=\"1\" class=\"dataframe\">\n",
       "  <thead>\n",
       "    <tr style=\"text-align: right;\">\n",
       "      <th></th>\n",
       "      <th>id</th>\n",
       "      <th>object_name</th>\n",
       "      <th>chain</th>\n",
       "      <th>object_type</th>\n",
       "      <th>address</th>\n",
       "      <th>number</th>\n",
       "    </tr>\n",
       "  </thead>\n",
       "  <tbody>\n",
       "    <tr>\n",
       "      <td>2381</td>\n",
       "      <td>28611</td>\n",
       "      <td>КОМБИНАТ ПИТАНИЯ МГТУ ИМ.Н.Э.БАУМАНА</td>\n",
       "      <td>False</td>\n",
       "      <td>столовая</td>\n",
       "      <td>город Москва, 2-я Бауманская улица, дом 5, стр...</td>\n",
       "      <td>100</td>\n",
       "    </tr>\n",
       "    <tr>\n",
       "      <td>3481</td>\n",
       "      <td>20914</td>\n",
       "      <td>Буфет Мади</td>\n",
       "      <td>False</td>\n",
       "      <td>буфет</td>\n",
       "      <td>город Москва, Ленинградский проспект, дом 64</td>\n",
       "      <td>40</td>\n",
       "    </tr>\n",
       "    <tr>\n",
       "      <td>4431</td>\n",
       "      <td>23759</td>\n",
       "      <td>СТОЛОВАЯ ГБОУ города Москвы № 384</td>\n",
       "      <td>False</td>\n",
       "      <td>буфет</td>\n",
       "      <td>город Москва, Беловежская улица, дом 67</td>\n",
       "      <td>100</td>\n",
       "    </tr>\n",
       "    <tr>\n",
       "      <td>4537</td>\n",
       "      <td>23391</td>\n",
       "      <td>Столовая «Комбинат питания КОСМОС»</td>\n",
       "      <td>False</td>\n",
       "      <td>столовая</td>\n",
       "      <td>город Москва, Новозаводская улица, дом 12/11</td>\n",
       "      <td>15</td>\n",
       "    </tr>\n",
       "    <tr>\n",
       "      <td>5059</td>\n",
       "      <td>20021</td>\n",
       "      <td>LIFT</td>\n",
       "      <td>False</td>\n",
       "      <td>кафе</td>\n",
       "      <td>город Москва, Багратионовский проезд, дом 7, к...</td>\n",
       "      <td>20</td>\n",
       "    </tr>\n",
       "  </tbody>\n",
       "</table>\n",
       "</div>"
      ],
      "text/plain": [
       "         id                           object_name  chain object_type  \\\n",
       "2381  28611  КОМБИНАТ ПИТАНИЯ МГТУ ИМ.Н.Э.БАУМАНА  False    столовая   \n",
       "3481  20914                            Буфет Мади  False       буфет   \n",
       "4431  23759     СТОЛОВАЯ ГБОУ города Москвы № 384  False       буфет   \n",
       "4537  23391    Столовая «Комбинат питания КОСМОС»  False    столовая   \n",
       "5059  20021                                  LIFT  False        кафе   \n",
       "\n",
       "                                                address  number  \n",
       "2381  город Москва, 2-я Бауманская улица, дом 5, стр...     100  \n",
       "3481       город Москва, Ленинградский проспект, дом 64      40  \n",
       "4431            город Москва, Беловежская улица, дом 67     100  \n",
       "4537       город Москва, Новозаводская улица, дом 12/11      15  \n",
       "5059  город Москва, Багратионовский проезд, дом 7, к...      20  "
      ]
     },
     "metadata": {},
     "output_type": "display_data"
    },
    {
     "name": "stdout",
     "output_type": "stream",
     "text": [
      "Количество дубликатов: 82\n"
     ]
    }
   ],
   "source": [
    "dupl_rows = rest[rest.duplicated(['object_name', 'object_type', 'address', 'number'])]\n",
    "display(dupl_rows.head())\n",
    "print('Количество дубликатов:', dupl_rows.shape[0])"
   ]
  },
  {
   "cell_type": "code",
   "execution_count": 26,
   "metadata": {},
   "outputs": [
    {
     "data": {
      "text/plain": [
       "array(['КОМБИНАТ ПИТАНИЯ МГТУ ИМ.Н.Э.БАУМАНА', 'Буфет Мади',\n",
       "       'СТОЛОВАЯ ГБОУ города Москвы № 384',\n",
       "       'Столовая «Комбинат питания КОСМОС»', 'LIFT', 'Кафе при АЗС',\n",
       "       'Кафе', 'Алекс', 'Павильон «Кукуруза»', 'Лиор', 'БАР',\n",
       "       'СТОЛОВАЯ при МГУ', 'Кофе Хаус', 'Кафе Лукойл', 'Кафе Трасса',\n",
       "       'Шаурма', 'Каменев Василий Владимирович',\n",
       "       'Ибрагимов Магомед Сулейманович', 'Пункт питания', 'Буфет',\n",
       "       'Кафетерий', 'Кофе с собой', 'Доннер (шаурма)',\n",
       "       'Гацоева Анжела Камалдиновна', 'Закусочная', 'Гришаев В.В',\n",
       "       'Осетинские пироги', 'LALTRO BOSCO', 'Пекарня', 'Пунк питания',\n",
       "       'Бистро', 'Шурма', 'Старый Баку', 'Буфет при кинотеатре',\n",
       "       'Sushi-Make', 'Макдоналдс'], dtype=object)"
      ]
     },
     "execution_count": 26,
     "metadata": {},
     "output_type": "execute_result"
    }
   ],
   "source": [
    "dupl_rows['object_name'].unique()"
   ]
  },
  {
   "cell_type": "code",
   "execution_count": 27,
   "metadata": {},
   "outputs": [
    {
     "data": {
      "text/plain": [
       "15366"
      ]
     },
     "execution_count": 27,
     "metadata": {},
     "output_type": "execute_result"
    }
   ],
   "source": [
    "rest.shape[0]"
   ]
  },
  {
   "cell_type": "markdown",
   "metadata": {},
   "source": [
    "Удалим все дубликаты:"
   ]
  },
  {
   "cell_type": "code",
   "execution_count": 28,
   "metadata": {},
   "outputs": [
    {
     "data": {
      "text/plain": [
       "15284"
      ]
     },
     "execution_count": 28,
     "metadata": {},
     "output_type": "execute_result"
    }
   ],
   "source": [
    "rest = rest.query('id not in @dupl_rows.id')\n",
    "rest.shape[0]"
   ]
  },
  {
   "cell_type": "markdown",
   "metadata": {},
   "source": [
    "Таким образом, в исходном датафрейме был заменен тип столбца **chain** на bool, столбца **id** на int32, столбца **number** на int16. Без потери смысла переименованы несколько категорий заведений для компактного отображения на графиках в дальнейшем, а также исключены дубликаты по совокупности факторов (название + тип заведения + адрес + число посадочных мест).\n",
    "\n",
    "Теперь можно приступать к анализу данных."
   ]
  },
  {
   "cell_type": "markdown",
   "metadata": {},
   "source": [
    "# Анализ данных <a name=\"analysis\"></a>"
   ]
  },
  {
   "cell_type": "markdown",
   "metadata": {},
   "source": [
    "### **Соотношение видов объектов общественного питания по количеству** <a name=\"types\"></a>"
   ]
  },
  {
   "cell_type": "markdown",
   "metadata": {},
   "source": [
    "Рассмотрим, как распределились точки общепита в зависимости от типа заведения:"
   ]
  },
  {
   "cell_type": "code",
   "execution_count": 29,
   "metadata": {},
   "outputs": [
    {
     "data": {
      "text/html": [
       "<div>\n",
       "<style scoped>\n",
       "    .dataframe tbody tr th:only-of-type {\n",
       "        vertical-align: middle;\n",
       "    }\n",
       "\n",
       "    .dataframe tbody tr th {\n",
       "        vertical-align: top;\n",
       "    }\n",
       "\n",
       "    .dataframe thead th {\n",
       "        text-align: right;\n",
       "    }\n",
       "</style>\n",
       "<table border=\"1\" class=\"dataframe\">\n",
       "  <thead>\n",
       "    <tr style=\"text-align: right;\">\n",
       "      <th></th>\n",
       "      <th>object_type</th>\n",
       "      <th>num_id</th>\n",
       "    </tr>\n",
       "  </thead>\n",
       "  <tbody>\n",
       "    <tr>\n",
       "      <td>3</td>\n",
       "      <td>кафе</td>\n",
       "      <td>6071</td>\n",
       "    </tr>\n",
       "    <tr>\n",
       "      <td>7</td>\n",
       "      <td>столовая</td>\n",
       "      <td>2584</td>\n",
       "    </tr>\n",
       "    <tr>\n",
       "      <td>6</td>\n",
       "      <td>ресторан</td>\n",
       "      <td>2282</td>\n",
       "    </tr>\n",
       "    <tr>\n",
       "      <td>8</td>\n",
       "      <td>фастфуд</td>\n",
       "      <td>1898</td>\n",
       "    </tr>\n",
       "    <tr>\n",
       "      <td>0</td>\n",
       "      <td>бар</td>\n",
       "      <td>855</td>\n",
       "    </tr>\n",
       "    <tr>\n",
       "      <td>1</td>\n",
       "      <td>буфет</td>\n",
       "      <td>577</td>\n",
       "    </tr>\n",
       "    <tr>\n",
       "      <td>4</td>\n",
       "      <td>кафетерий</td>\n",
       "      <td>395</td>\n",
       "    </tr>\n",
       "    <tr>\n",
       "      <td>2</td>\n",
       "      <td>закусочная</td>\n",
       "      <td>349</td>\n",
       "    </tr>\n",
       "    <tr>\n",
       "      <td>5</td>\n",
       "      <td>кулинария</td>\n",
       "      <td>273</td>\n",
       "    </tr>\n",
       "  </tbody>\n",
       "</table>\n",
       "</div>"
      ],
      "text/plain": [
       "  object_type  num_id\n",
       "3        кафе    6071\n",
       "7    столовая    2584\n",
       "6    ресторан    2282\n",
       "8     фастфуд    1898\n",
       "0         бар     855\n",
       "1       буфет     577\n",
       "4   кафетерий     395\n",
       "2  закусочная     349\n",
       "5   кулинария     273"
      ]
     },
     "execution_count": 29,
     "metadata": {},
     "output_type": "execute_result"
    }
   ],
   "source": [
    "kind = rest.groupby(by = 'object_type').agg({'id' : 'count'}).reset_index()\\\n",
    "                         .rename(columns = {'id':'num_id'}).sort_values(by = 'num_id', ascending = False)\n",
    "kind"
   ]
  },
  {
   "cell_type": "code",
   "execution_count": 30,
   "metadata": {},
   "outputs": [],
   "source": [
    "sns.set_palette('bright') "
   ]
  },
  {
   "cell_type": "code",
   "execution_count": 31,
   "metadata": {},
   "outputs": [
    {
     "data": {
      "image/png": "[encoded data removed]",
      "text/plain": [
       "<Figure size 864x576 with 1 Axes>"
      ]
     },
     "metadata": {
      "needs_background": "light"
     },
     "output_type": "display_data"
    }
   ],
   "source": [
    "plt.figure(figsize=(12, 8))\n",
    "fig = sns.barplot(x = \"object_type\", y = \"num_id\", data = kind) \n",
    "fig.set_title(\"Количество заведений разного типа\", fontsize = 20)\n",
    "fig.set_xlabel(\"Тип заведения\", fontsize = 15)\n",
    "fig.set_ylabel(\"Число заведений\", fontsize = 15)\n",
    "fig.set_xticklabels(fig.get_xticklabels(), rotation=45)\n",
    "\n",
    "totals = []\n",
    "for i in fig.patches:\n",
    "    totals.append(i.get_height())\n",
    "    \n",
    "total = sum(totals)\n",
    "\n",
    "for i in fig.patches:\n",
    "    fig.text(i.get_x() + 0.1, i.get_height() + 100, \\\n",
    "            str(round((i.get_height() / total) * 100, 2)) + '%', fontsize=12,\n",
    "                color='black')\n",
    "plt.ylim(0,6500)\n",
    "plt.show()"
   ]
  },
  {
   "cell_type": "markdown",
   "metadata": {},
   "source": [
    "Подавляющее большинство заведений в Москве - это кафе. Их более 6 000. Все остальные существенно отстают: столовых около 2 600, ресторанов - 2 300, заведений фастфуда - 1900. Доля прочих заведений совсем незначительна. "
   ]
  },
  {
   "cell_type": "markdown",
   "metadata": {},
   "source": [
    "### **Соотношение сетевых и несетевых объектов общественного питания по количеству** <a name=\"chain\"></a>"
   ]
  },
  {
   "cell_type": "markdown",
   "metadata": {},
   "source": [
    "Посмотрим на показатели в разрезе сетей:"
   ]
  },
  {
   "cell_type": "code",
   "execution_count": 32,
   "metadata": {},
   "outputs": [
    {
     "data": {
      "text/html": [
       "<div>\n",
       "<style scoped>\n",
       "    .dataframe tbody tr th:only-of-type {\n",
       "        vertical-align: middle;\n",
       "    }\n",
       "\n",
       "    .dataframe tbody tr th {\n",
       "        vertical-align: top;\n",
       "    }\n",
       "\n",
       "    .dataframe thead th {\n",
       "        text-align: right;\n",
       "    }\n",
       "</style>\n",
       "<table border=\"1\" class=\"dataframe\">\n",
       "  <thead>\n",
       "    <tr style=\"text-align: right;\">\n",
       "      <th></th>\n",
       "      <th>chain</th>\n",
       "      <th>num_id</th>\n",
       "      <th>label</th>\n",
       "    </tr>\n",
       "  </thead>\n",
       "  <tbody>\n",
       "    <tr>\n",
       "      <td>0</td>\n",
       "      <td>False</td>\n",
       "      <td>12320</td>\n",
       "      <td>Несетевой</td>\n",
       "    </tr>\n",
       "    <tr>\n",
       "      <td>1</td>\n",
       "      <td>True</td>\n",
       "      <td>2964</td>\n",
       "      <td>Сетевой</td>\n",
       "    </tr>\n",
       "  </tbody>\n",
       "</table>\n",
       "</div>"
      ],
      "text/plain": [
       "   chain  num_id      label\n",
       "0  False   12320  Несетевой\n",
       "1   True    2964    Сетевой"
      ]
     },
     "execution_count": 32,
     "metadata": {},
     "output_type": "execute_result"
    }
   ],
   "source": [
    "chain = rest.groupby(by = 'chain').agg({'id' : 'count'}).reset_index()\\\n",
    "                         .rename(columns = {'id':'num_id'}).sort_values(by = 'num_id', ascending = False)\n",
    "chain['label'] = ['Сетевой' if (i == True) else 'Несетевой' for i in chain['chain']]\n",
    "chain"
   ]
  },
  {
   "cell_type": "markdown",
   "metadata": {},
   "source": [
    "Несетевых заведений в 4,1 раз больше, чем сетевых.\n",
    "\n",
    "Распределение посадочных мест:"
   ]
  },
  {
   "cell_type": "code",
   "execution_count": 33,
   "metadata": {},
   "outputs": [
    {
     "data": {
      "text/html": [
       "<div>\n",
       "<style scoped>\n",
       "    .dataframe tbody tr th:only-of-type {\n",
       "        vertical-align: middle;\n",
       "    }\n",
       "\n",
       "    .dataframe tbody tr th {\n",
       "        vertical-align: top;\n",
       "    }\n",
       "\n",
       "    .dataframe thead th {\n",
       "        text-align: right;\n",
       "    }\n",
       "</style>\n",
       "<table border=\"1\" class=\"dataframe\">\n",
       "  <thead>\n",
       "    <tr style=\"text-align: right;\">\n",
       "      <th></th>\n",
       "      <th>chain</th>\n",
       "      <th>num_seats</th>\n",
       "      <th>label</th>\n",
       "    </tr>\n",
       "  </thead>\n",
       "  <tbody>\n",
       "    <tr>\n",
       "      <td>0</td>\n",
       "      <td>False</td>\n",
       "      <td>756708.0</td>\n",
       "      <td>Несетевой</td>\n",
       "    </tr>\n",
       "    <tr>\n",
       "      <td>1</td>\n",
       "      <td>True</td>\n",
       "      <td>157036.0</td>\n",
       "      <td>Сетевой</td>\n",
       "    </tr>\n",
       "  </tbody>\n",
       "</table>\n",
       "</div>"
      ],
      "text/plain": [
       "   chain  num_seats      label\n",
       "0  False   756708.0  Несетевой\n",
       "1   True   157036.0    Сетевой"
      ]
     },
     "execution_count": 33,
     "metadata": {},
     "output_type": "execute_result"
    }
   ],
   "source": [
    "chain_seats = rest.groupby(by = 'chain').agg({'number' : 'sum'}).reset_index()\\\n",
    "                         .rename(columns = {'number':'num_seats'}).sort_values(by = 'num_seats', ascending = False)\n",
    "chain_seats['label'] = ['Сетевой' if (i == True) else 'Несетевой' for i in chain_seats['chain']]\n",
    "chain_seats"
   ]
  },
  {
   "cell_type": "markdown",
   "metadata": {},
   "source": [
    "Посадочных мест в несетевых заведениях в 4,8 раз больше, чем в сетевых."
   ]
  },
  {
   "cell_type": "code",
   "execution_count": 34,
   "metadata": {},
   "outputs": [
    {
     "data": {
      "image/png": "[encoded data removed]",
      "text/plain": [
       "<Figure size 864x432 with 2 Axes>"
      ]
     },
     "metadata": {
      "needs_background": "light"
     },
     "output_type": "display_data"
    }
   ],
   "source": [
    "fig, axes = plt.subplots(1, 2, figsize=(12, 6))\n",
    "\n",
    "fig.suptitle('Сетевые и несетевые заведения', fontsize = 20)\n",
    "\n",
    "fig1 = sns.barplot(ax=axes[0], x = \"label\", y = \"num_id\", data = chain) \n",
    "fig1.set_title(\"Общее число заведений\", fontsize = 15)\n",
    "fig1.set_xlabel(\"Принадлежность к сети\", fontsize = 10)\n",
    "fig1.set_ylabel(\"Количество заведений\", fontsize = 10)\n",
    "\n",
    "totals1 = []\n",
    "for i in fig1.patches:\n",
    "    totals1.append(i.get_height())\n",
    "    \n",
    "total1 = sum(totals1)\n",
    "\n",
    "for i in fig1.patches:\n",
    "    fig1.text(i.get_x() + 0.25, i.get_height() + 100, \\\n",
    "            str(round((i.get_height() / total1) * 100, 2)) + '%', fontsize=12,\n",
    "                color='black')\n",
    "\n",
    "fig2 = sns.barplot(ax=axes[1], x = \"label\", y = \"num_seats\", data = chain_seats) \n",
    "fig2.set_title(\"Общее число мест\", fontsize = 15)\n",
    "fig2.set_xlabel(\"Принадлежность к сети\", fontsize = 10)\n",
    "fig2.set_ylabel(\"Количество мест\", fontsize = 10)\n",
    "\n",
    "totals2 = []\n",
    "for i in fig2.patches:\n",
    "    totals2.append(i.get_height())\n",
    "    \n",
    "total2 = sum(totals2)\n",
    "\n",
    "for i in fig2.patches:\n",
    "    fig2.text(i.get_x() + 0.25, i.get_height() + 10000, \\\n",
    "            str(round((i.get_height() / total2) * 100, 2)) + '%', fontsize=12,\n",
    "                color='black')\n",
    "plt.show()"
   ]
  },
  {
   "cell_type": "markdown",
   "metadata": {},
   "source": [
    "### **Сетевое распространение в разрезе типов заведений** <a name=\"chain_types\"></a>"
   ]
  },
  {
   "cell_type": "markdown",
   "metadata": {},
   "source": [
    "Рассмотрим, как распределились сетевые и несетевые заведения в зависимости от их типа:"
   ]
  },
  {
   "cell_type": "code",
   "execution_count": 35,
   "metadata": {},
   "outputs": [
    {
     "data": {
      "text/html": [
       "<div>\n",
       "<style scoped>\n",
       "    .dataframe tbody tr th:only-of-type {\n",
       "        vertical-align: middle;\n",
       "    }\n",
       "\n",
       "    .dataframe tbody tr th {\n",
       "        vertical-align: top;\n",
       "    }\n",
       "\n",
       "    .dataframe thead th {\n",
       "        text-align: right;\n",
       "    }\n",
       "</style>\n",
       "<table border=\"1\" class=\"dataframe\">\n",
       "  <thead>\n",
       "    <tr style=\"text-align: right;\">\n",
       "      <th></th>\n",
       "      <th>object_type</th>\n",
       "      <th>num_id_chain</th>\n",
       "    </tr>\n",
       "  </thead>\n",
       "  <tbody>\n",
       "    <tr>\n",
       "      <td>3</td>\n",
       "      <td>кафе</td>\n",
       "      <td>1396</td>\n",
       "    </tr>\n",
       "    <tr>\n",
       "      <td>8</td>\n",
       "      <td>фастфуд</td>\n",
       "      <td>788</td>\n",
       "    </tr>\n",
       "    <tr>\n",
       "      <td>6</td>\n",
       "      <td>ресторан</td>\n",
       "      <td>543</td>\n",
       "    </tr>\n",
       "    <tr>\n",
       "      <td>5</td>\n",
       "      <td>кулинария</td>\n",
       "      <td>78</td>\n",
       "    </tr>\n",
       "    <tr>\n",
       "      <td>2</td>\n",
       "      <td>закусочная</td>\n",
       "      <td>56</td>\n",
       "    </tr>\n",
       "    <tr>\n",
       "      <td>4</td>\n",
       "      <td>кафетерий</td>\n",
       "      <td>52</td>\n",
       "    </tr>\n",
       "    <tr>\n",
       "      <td>0</td>\n",
       "      <td>бар</td>\n",
       "      <td>37</td>\n",
       "    </tr>\n",
       "    <tr>\n",
       "      <td>1</td>\n",
       "      <td>буфет</td>\n",
       "      <td>11</td>\n",
       "    </tr>\n",
       "    <tr>\n",
       "      <td>7</td>\n",
       "      <td>столовая</td>\n",
       "      <td>3</td>\n",
       "    </tr>\n",
       "  </tbody>\n",
       "</table>\n",
       "</div>"
      ],
      "text/plain": [
       "  object_type  num_id_chain\n",
       "3        кафе          1396\n",
       "8     фастфуд           788\n",
       "6    ресторан           543\n",
       "5   кулинария            78\n",
       "2  закусочная            56\n",
       "4   кафетерий            52\n",
       "0         бар            37\n",
       "1       буфет            11\n",
       "7    столовая             3"
      ]
     },
     "execution_count": 35,
     "metadata": {},
     "output_type": "execute_result"
    }
   ],
   "source": [
    "kind_chain = rest.query('chain == True').groupby(by = 'object_type').agg({'id' : 'count'}).reset_index()\\\n",
    "                         .rename(columns = {'id':'num_id_chain'})\\\n",
    "                         .sort_values(by = 'num_id_chain', ascending = False)\n",
    "kind_chain"
   ]
  },
  {
   "cell_type": "code",
   "execution_count": 36,
   "metadata": {},
   "outputs": [
    {
     "data": {
      "text/html": [
       "<div>\n",
       "<style scoped>\n",
       "    .dataframe tbody tr th:only-of-type {\n",
       "        vertical-align: middle;\n",
       "    }\n",
       "\n",
       "    .dataframe tbody tr th {\n",
       "        vertical-align: top;\n",
       "    }\n",
       "\n",
       "    .dataframe thead th {\n",
       "        text-align: right;\n",
       "    }\n",
       "</style>\n",
       "<table border=\"1\" class=\"dataframe\">\n",
       "  <thead>\n",
       "    <tr style=\"text-align: right;\">\n",
       "      <th></th>\n",
       "      <th>object_type</th>\n",
       "      <th>num_id_unchain</th>\n",
       "    </tr>\n",
       "  </thead>\n",
       "  <tbody>\n",
       "    <tr>\n",
       "      <td>3</td>\n",
       "      <td>кафе</td>\n",
       "      <td>4675</td>\n",
       "    </tr>\n",
       "    <tr>\n",
       "      <td>7</td>\n",
       "      <td>столовая</td>\n",
       "      <td>2581</td>\n",
       "    </tr>\n",
       "    <tr>\n",
       "      <td>6</td>\n",
       "      <td>ресторан</td>\n",
       "      <td>1739</td>\n",
       "    </tr>\n",
       "    <tr>\n",
       "      <td>8</td>\n",
       "      <td>фастфуд</td>\n",
       "      <td>1110</td>\n",
       "    </tr>\n",
       "    <tr>\n",
       "      <td>0</td>\n",
       "      <td>бар</td>\n",
       "      <td>818</td>\n",
       "    </tr>\n",
       "    <tr>\n",
       "      <td>1</td>\n",
       "      <td>буфет</td>\n",
       "      <td>566</td>\n",
       "    </tr>\n",
       "    <tr>\n",
       "      <td>4</td>\n",
       "      <td>кафетерий</td>\n",
       "      <td>343</td>\n",
       "    </tr>\n",
       "    <tr>\n",
       "      <td>2</td>\n",
       "      <td>закусочная</td>\n",
       "      <td>293</td>\n",
       "    </tr>\n",
       "    <tr>\n",
       "      <td>5</td>\n",
       "      <td>кулинария</td>\n",
       "      <td>195</td>\n",
       "    </tr>\n",
       "  </tbody>\n",
       "</table>\n",
       "</div>"
      ],
      "text/plain": [
       "  object_type  num_id_unchain\n",
       "3        кафе            4675\n",
       "7    столовая            2581\n",
       "6    ресторан            1739\n",
       "8     фастфуд            1110\n",
       "0         бар             818\n",
       "1       буфет             566\n",
       "4   кафетерий             343\n",
       "2  закусочная             293\n",
       "5   кулинария             195"
      ]
     },
     "execution_count": 36,
     "metadata": {},
     "output_type": "execute_result"
    }
   ],
   "source": [
    "kind_unchain = rest.query('chain == False').groupby(by = 'object_type').agg({'id' : 'count'}).reset_index()\\\n",
    "                         .rename(columns = {'id':'num_id_unchain'})\\\n",
    "                         .sort_values(by = 'num_id_unchain', ascending = False)\n",
    "kind_unchain"
   ]
  },
  {
   "cell_type": "code",
   "execution_count": 37,
   "metadata": {},
   "outputs": [
    {
     "data": {
      "image/png": "[encoded data removed]",
      "text/plain": [
       "<Figure size 1152x432 with 2 Axes>"
      ]
     },
     "metadata": {
      "needs_background": "light"
     },
     "output_type": "display_data"
    }
   ],
   "source": [
    "fig, axes = plt.subplots(1, 2, figsize=(16, 6))\n",
    "\n",
    "fig.suptitle('Распределение заведений по типам', fontsize = 20)\n",
    "\n",
    "fig1 = sns.barplot(ax=axes[0], x = \"object_type\", y = \"num_id_chain\", data = kind_chain) \n",
    "fig1.set_title(\"Сетевые заведения\", fontsize = 15)\n",
    "fig1.set_xlabel(\"Тип заведения\", fontsize = 10)\n",
    "fig1.set_ylabel(\"Количество заведений\", fontsize = 10)\n",
    "fig1.set_xticklabels(fig1.get_xticklabels(), rotation=45)\n",
    "\n",
    "totals1 = []\n",
    "for i in fig1.patches:\n",
    "    totals1.append(i.get_height())\n",
    "    \n",
    "total1 = sum(totals1)\n",
    "\n",
    "for i in fig1.patches:\n",
    "    fig1.text(i.get_x() + 0.03, i.get_height() + 20, \\\n",
    "            str(round((i.get_height() / total1) * 100, 2)) + '%', fontsize=12,\n",
    "                color='black')\n",
    "\n",
    "fig2 = sns.barplot(ax=axes[1], x = \"object_type\", y = \"num_id_unchain\", data = kind_unchain) \n",
    "fig2.set_title(\"Несетевые заведения\", fontsize = 15)\n",
    "fig2.set_xlabel(\"Тип заведения\", fontsize = 10)\n",
    "fig2.set_ylabel(\"Количество заведений\", fontsize = 10)\n",
    "fig2.set_xticklabels(fig2.get_xticklabels(), rotation=45)\n",
    "\n",
    "totals2 = []\n",
    "for i in fig2.patches:\n",
    "    totals2.append(i.get_height())\n",
    "    \n",
    "total2 = sum(totals2)\n",
    "\n",
    "for i in fig2.patches:\n",
    "    fig2.text(i.get_x() + 0.03, i.get_height() + 50, \\\n",
    "            str(round((i.get_height() / total2) * 100, 2)) + '%', fontsize=12,\n",
    "                color='black')\n",
    "plt.show()"
   ]
  },
  {
   "cell_type": "markdown",
   "metadata": {},
   "source": [
    "Мы видим, что среди сетевых заведений лидируют кафе, фастфуд, рестораны. Среди несетевых - кафе, столовые и снова рестораны."
   ]
  },
  {
   "cell_type": "markdown",
   "metadata": {},
   "source": [
    "Теперь рассмотрим отношение между сетевыми и несетевыми заведениями внутри каждой категории:"
   ]
  },
  {
   "cell_type": "code",
   "execution_count": 38,
   "metadata": {},
   "outputs": [
    {
     "data": {
      "image/png": "[encoded data removed]",
      "text/plain": [
       "<Figure size 864x576 with 1 Axes>"
      ]
     },
     "metadata": {
      "needs_background": "light"
     },
     "output_type": "display_data"
    }
   ],
   "source": [
    "plt.figure(figsize=(12, 8))\n",
    "fig = sns.countplot(x = \"object_type\", hue = 'chain', data = rest)\n",
    "fig.set_title(\"Соотношение числа сетевых и несетевых заведений в разрезе типов\", fontsize = 20)\n",
    "fig.set_xlabel(\"Тип заведения\", fontsize = 15)\n",
    "fig.set_ylabel(\"Число заведений\", fontsize = 15)\n",
    "fig.set_xticklabels(fig.get_xticklabels(), rotation=45)\n",
    "fig.legend([\"несетевые\", \"сетевые\"])\n",
    "\n",
    "patch = fig.patches\n",
    "half = int(len(patch)/2)\n",
    "for i in range(half):\n",
    "    p1= patch[i]\n",
    "    p2 = patch[i + half]\n",
    "    height_1 = p1.get_height()\n",
    "    height_2 = p2.get_height()\n",
    "    total = height_1 + height_2\n",
    "    width_1 = p1.get_x() + p1.get_width() / 2\n",
    "    width_2 = p2.get_x() + p2.get_width() / 2\n",
    "    fig.text(width_1 - 0.15, height_1 + 50,\"{:.0%}\".format(height_1 / total))\n",
    "    fig.text(width_2 - 0.15, height_2 + 50,\"{:.0%}\".format(height_2 / total))       \n",
    "plt.show()"
   ]
  },
  {
   "cell_type": "markdown",
   "metadata": {},
   "source": [
    "Как видно, в сравнительном выражении только количество заведений фастфуда более-менее близко у обеих групп. Число кафе, ресторанов и точек кулинарии различается примерно в три раза в пользу несетевых заведений. В остальных категориях практически все точки относятся к несетевым."
   ]
  },
  {
   "cell_type": "markdown",
   "metadata": {},
   "source": [
    "### **Посадочные места в сетевых заведениях** <a name=\"seats_chain\"></a>"
   ]
  },
  {
   "cell_type": "markdown",
   "metadata": {},
   "source": [
    "Сгруппируем данные по названию сети и отразим среднее число посадочных мест внутри каждой сети на графике. В качестве среднего выберем медиану, поскольку характер распределения посадочных мест отличается от нормального."
   ]
  },
  {
   "cell_type": "code",
   "execution_count": 39,
   "metadata": {},
   "outputs": [],
   "source": [
    "seats_chain = rest.query('chain == True').groupby(by = 'object_name').agg({'id':'count', 'number':'median'}).reset_index()\\\n",
    "                               .rename(columns = {'id':'num_id', 'number':'avg_number'})\\\n",
    "                               .sort_values(by = 'avg_number', ascending = False)"
   ]
  },
  {
   "cell_type": "code",
   "execution_count": 40,
   "metadata": {},
   "outputs": [
    {
     "data": {
      "image/png": "[encoded data removed]",
      "text/plain": [
       "<Figure size 864x576 with 1 Axes>"
      ]
     },
     "metadata": {
      "needs_background": "light"
     },
     "output_type": "display_data"
    }
   ],
   "source": [
    "plt.figure(figsize=(12, 8))\n",
    "fig = sns.scatterplot(x = \"num_id\", y = \"avg_number\", data = seats_chain)\n",
    "fig.set_title(\"Совместное распределение числа заведений в сети и числа посадочных мест\", fontsize = 20)\n",
    "fig.set_xlabel(\"Число заведений в сети\", fontsize = 15)\n",
    "fig.set_ylabel(\"Среднее число посадочных мест\", fontsize = 15)\n",
    "plt.show()"
   ]
  },
  {
   "cell_type": "markdown",
   "metadata": {},
   "source": [
    "Как видно, почти все точки располагаются в левой части графика, причем концентрация выше в углу. Это говорит о том, что для сетевых заведений характерно малое число заведений с большим числом посадочных мест. Основная часть сетей состоит не более чем из 6-7 заведений и менее чем 150 мест."
   ]
  },
  {
   "cell_type": "markdown",
   "metadata": {},
   "source": [
    "### **Среднее число посадочных мест в зависимости от типа заведения** <a name=\"mean_seats\"></a>"
   ]
  },
  {
   "cell_type": "markdown",
   "metadata": {},
   "source": [
    "Определим, сколько всего и в среднем посадочных мест приходится на заведения того или иного типа:"
   ]
  },
  {
   "cell_type": "code",
   "execution_count": 41,
   "metadata": {},
   "outputs": [
    {
     "data": {
      "text/html": [
       "<div>\n",
       "<style scoped>\n",
       "    .dataframe tbody tr th:only-of-type {\n",
       "        vertical-align: middle;\n",
       "    }\n",
       "\n",
       "    .dataframe tbody tr th {\n",
       "        vertical-align: top;\n",
       "    }\n",
       "\n",
       "    .dataframe thead th {\n",
       "        text-align: right;\n",
       "    }\n",
       "</style>\n",
       "<table border=\"1\" class=\"dataframe\">\n",
       "  <thead>\n",
       "    <tr style=\"text-align: right;\">\n",
       "      <th></th>\n",
       "      <th>object_type</th>\n",
       "      <th>num_seats</th>\n",
       "    </tr>\n",
       "  </thead>\n",
       "  <tbody>\n",
       "    <tr>\n",
       "      <td>7</td>\n",
       "      <td>столовая</td>\n",
       "      <td>336793.0</td>\n",
       "    </tr>\n",
       "    <tr>\n",
       "      <td>3</td>\n",
       "      <td>кафе</td>\n",
       "      <td>241539.0</td>\n",
       "    </tr>\n",
       "    <tr>\n",
       "      <td>6</td>\n",
       "      <td>ресторан</td>\n",
       "      <td>221091.0</td>\n",
       "    </tr>\n",
       "    <tr>\n",
       "      <td>8</td>\n",
       "      <td>фастфуд</td>\n",
       "      <td>39494.0</td>\n",
       "    </tr>\n",
       "    <tr>\n",
       "      <td>0</td>\n",
       "      <td>бар</td>\n",
       "      <td>37221.0</td>\n",
       "    </tr>\n",
       "    <tr>\n",
       "      <td>1</td>\n",
       "      <td>буфет</td>\n",
       "      <td>29721.0</td>\n",
       "    </tr>\n",
       "    <tr>\n",
       "      <td>4</td>\n",
       "      <td>кафетерий</td>\n",
       "      <td>3628.0</td>\n",
       "    </tr>\n",
       "    <tr>\n",
       "      <td>2</td>\n",
       "      <td>закусочная</td>\n",
       "      <td>2731.0</td>\n",
       "    </tr>\n",
       "    <tr>\n",
       "      <td>5</td>\n",
       "      <td>кулинария</td>\n",
       "      <td>1526.0</td>\n",
       "    </tr>\n",
       "  </tbody>\n",
       "</table>\n",
       "</div>"
      ],
      "text/plain": [
       "  object_type  num_seats\n",
       "7    столовая   336793.0\n",
       "3        кафе   241539.0\n",
       "6    ресторан   221091.0\n",
       "8     фастфуд    39494.0\n",
       "0         бар    37221.0\n",
       "1       буфет    29721.0\n",
       "4   кафетерий     3628.0\n",
       "2  закусочная     2731.0\n",
       "5   кулинария     1526.0"
      ]
     },
     "execution_count": 41,
     "metadata": {},
     "output_type": "execute_result"
    }
   ],
   "source": [
    "seats = rest.groupby(by = 'object_type').agg({'number' : 'sum'}).reset_index()\\\n",
    "                         .rename(columns = {'number':'num_seats'}).sort_values(by = 'num_seats', ascending = False)\n",
    "seats"
   ]
  },
  {
   "cell_type": "code",
   "execution_count": 42,
   "metadata": {},
   "outputs": [
    {
     "data": {
      "image/png": "[encoded data removed]",
      "text/plain": [
       "<Figure size 864x576 with 1 Axes>"
      ]
     },
     "metadata": {
      "needs_background": "light"
     },
     "output_type": "display_data"
    }
   ],
   "source": [
    "plt.figure(figsize=(12, 8))\n",
    "fig = sns.barplot(x = \"object_type\", y = \"num_seats\", data = seats) \n",
    "fig.set_title(\"Общее число мест в заведениях разного типа\", fontsize = 20)\n",
    "fig.set_xlabel(\"Тип заведения\", fontsize = 15)\n",
    "fig.set_ylabel(\"Число мест\", fontsize = 15)\n",
    "fig.set_xticklabels(fig.get_xticklabels(), rotation=45)\n",
    "\n",
    "totals = []\n",
    "for i in fig.patches:\n",
    "    totals.append(i.get_height())\n",
    "    \n",
    "total = sum(totals)\n",
    "\n",
    "for i in fig.patches:\n",
    "    fig.text(i.get_x() + 0.1, i.get_height() + 2000, \\\n",
    "            str(round((i.get_height() / total) * 100, 2)) + '%', fontsize=12,\n",
    "                color='black')\n",
    "plt.show()"
   ]
  },
  {
   "cell_type": "markdown",
   "metadata": {},
   "source": [
    "Несмотря на то, что на кафе приходится самая большая доля всех заведений, по суммарному количеству мест (241 500) они уступают столовым (337 000). На третьем месте рестораны (221 000)."
   ]
  },
  {
   "cell_type": "code",
   "execution_count": 43,
   "metadata": {},
   "outputs": [],
   "source": [
    "seats1 = rest.groupby(by = 'object_type')"
   ]
  },
  {
   "cell_type": "markdown",
   "metadata": {},
   "source": [
    "Средние значения:"
   ]
  },
  {
   "cell_type": "code",
   "execution_count": 44,
   "metadata": {},
   "outputs": [
    {
     "data": {
      "image/png": "[encoded data removed]",
      "text/plain": [
       "<Figure size 864x576 with 1 Axes>"
      ]
     },
     "metadata": {
      "needs_background": "light"
     },
     "output_type": "display_data"
    }
   ],
   "source": [
    "plt.figure(figsize=(12, 8))\n",
    "fig = sns.barplot(x = \"object_type\", y = \"number\", data = rest) \n",
    "fig.set_title(\"Среднее число мест в заведениях разного типа\", fontsize = 20)\n",
    "fig.set_xlabel(\"Тип заведения\", fontsize = 15)\n",
    "fig.set_ylabel(\"Среднее число мест\", fontsize = 15)\n",
    "fig.set_xticklabels(fig.get_xticklabels(), rotation=45)\n",
    "plt.show()"
   ]
  },
  {
   "cell_type": "markdown",
   "metadata": {},
   "source": [
    "По среднему количеству мест лидируют столовые и рестораны."
   ]
  },
  {
   "cell_type": "markdown",
   "metadata": {},
   "source": [
    "### **Выделение информации об улицах** <a name=\"streets\"></a>"
   ]
  },
  {
   "cell_type": "markdown",
   "metadata": {},
   "source": [
    "Рассмотрим, как выглядят типичные записи об адресе заведений:"
   ]
  },
  {
   "cell_type": "code",
   "execution_count": 45,
   "metadata": {},
   "outputs": [
    {
     "data": {
      "text/plain": [
       "0             город Москва, улица Егора Абакумова, дом 9\n",
       "1      город Москва, улица Талалихина, дом 2/1, корпус 1\n",
       "2              город Москва, Абельмановская улица, дом 6\n",
       "3                город Москва, Абрамцевская улица, дом 1\n",
       "4      город Москва, Абрамцевская улица, дом 9, корпус 1\n",
       "5     город Москва, Абрамцевская улица, дом 15, корпус 1\n",
       "6          город Москва, переулок Сивцев Вражек, дом 6/2\n",
       "7    город Москва, Авиамоторная улица, дом 8, строение 1\n",
       "8    город Москва, Авиамоторная улица, дом 8, строение 1\n",
       "9    город Москва, Авиамоторная улица, дом 8, строение 1\n",
       "Name: address, dtype: object"
      ]
     },
     "execution_count": 45,
     "metadata": {},
     "output_type": "execute_result"
    }
   ],
   "source": [
    "pd.set_option('max_colwidth', 200)\n",
    "rest['address'].head(10)"
   ]
  },
  {
   "cell_type": "markdown",
   "metadata": {},
   "source": [
    "Опытным путем было выявлено, что большинство строк начинаются с города Москвы, однако в некоторых записях Москва опущена, и идет либо сразу название улицы, либо название населенного пункта, входящего в состав Москвы, а после него улица. Не будем убирать название населенного пункта, чтобы избежать путаницы с одинаковыми названиями улиц в разных географических местах (например, улица Рабочая в центре Москвы и улица Рабочая в п.Первомайское - разные объекты).\n",
    "\n",
    "После улицы указан либо дом, либо владение, либо строение, либо корпус.\n",
    "\n",
    "Используя выявленные закономерности, заполним новый столбец подстроками, соответствующими названиям улиц. Для этого составим функцию **extract**, которая вырезает из строки ее часть, заключенную между двумя задаваемыми на входе подстроками: "
   ]
  },
  {
   "cell_type": "code",
   "execution_count": 46,
   "metadata": {},
   "outputs": [],
   "source": [
    "# string - исходная строка, start_m - подстрока перед вырезаемой частью, \n",
    "# end_m - подстрока после вырезаемой части\n",
    "\n",
    "# если строка не соответствует задаче (нет указанной первой или последней части), то возвращается нулевое значение\n",
    "\n",
    "def extract(string, start_m, end_m):\n",
    "    try:\n",
    "        start = string.index(start_m) + len(start_m)\n",
    "        end = string.index(end_m, start)\n",
    "        return string[start:end]\n",
    "    except:\n",
    "        return 0"
   ]
  },
  {
   "cell_type": "markdown",
   "metadata": {},
   "source": [
    "Создадим нужный столбец **street**, изначально состоящий только из нулей. Заполним его, применив функцию несколько раз к ячейкам столбца **address**, перебирая в цикле все возможные комбинации строк с адресом. Уже заполненные строки (ненулевые) изменяться в новых итерациях не будут:"
   ]
  },
  {
   "cell_type": "code",
   "execution_count": 47,
   "metadata": {},
   "outputs": [],
   "source": [
    "rest['street'] = np.zeros(rest.shape[0])\n",
    "for i in [\"Москва, \", \"\"]:\n",
    "    for j in [\", дом\", \", владение\", \", корпус\", \", строение\"]:\n",
    "        rest.loc[rest['street'] == 0, 'street'] = rest.apply(lambda row: extract(row['address'], i, j), axis = 1)"
   ]
  },
  {
   "cell_type": "markdown",
   "metadata": {},
   "source": [
    "Проверим, что все комбинации были учтены, и ни нулей, ни пропусков не осталось:"
   ]
  },
  {
   "cell_type": "code",
   "execution_count": 48,
   "metadata": {},
   "outputs": [
    {
     "data": {
      "text/plain": [
       "0"
      ]
     },
     "execution_count": 48,
     "metadata": {},
     "output_type": "execute_result"
    }
   ],
   "source": [
    "rest.query('street == 0').shape[0]"
   ]
  },
  {
   "cell_type": "code",
   "execution_count": 49,
   "metadata": {},
   "outputs": [
    {
     "data": {
      "text/plain": [
       "0"
      ]
     },
     "execution_count": 49,
     "metadata": {},
     "output_type": "execute_result"
    }
   ],
   "source": [
    "rest['street'].isna().sum()"
   ]
  },
  {
   "cell_type": "markdown",
   "metadata": {},
   "source": [
    "Теперь в таблице появился столбец с улицами:"
   ]
  },
  {
   "cell_type": "code",
   "execution_count": 50,
   "metadata": {},
   "outputs": [
    {
     "data": {
      "text/html": [
       "<div>\n",
       "<style scoped>\n",
       "    .dataframe tbody tr th:only-of-type {\n",
       "        vertical-align: middle;\n",
       "    }\n",
       "\n",
       "    .dataframe tbody tr th {\n",
       "        vertical-align: top;\n",
       "    }\n",
       "\n",
       "    .dataframe thead th {\n",
       "        text-align: right;\n",
       "    }\n",
       "</style>\n",
       "<table border=\"1\" class=\"dataframe\">\n",
       "  <thead>\n",
       "    <tr style=\"text-align: right;\">\n",
       "      <th></th>\n",
       "      <th>id</th>\n",
       "      <th>object_name</th>\n",
       "      <th>chain</th>\n",
       "      <th>object_type</th>\n",
       "      <th>address</th>\n",
       "      <th>number</th>\n",
       "      <th>street</th>\n",
       "    </tr>\n",
       "  </thead>\n",
       "  <tbody>\n",
       "    <tr>\n",
       "      <td>0</td>\n",
       "      <td>151635</td>\n",
       "      <td>СМЕТАНА</td>\n",
       "      <td>False</td>\n",
       "      <td>кафе</td>\n",
       "      <td>город Москва, улица Егора Абакумова, дом 9</td>\n",
       "      <td>48</td>\n",
       "      <td>улица Егора Абакумова</td>\n",
       "    </tr>\n",
       "    <tr>\n",
       "      <td>1</td>\n",
       "      <td>77874</td>\n",
       "      <td>Родник</td>\n",
       "      <td>False</td>\n",
       "      <td>кафе</td>\n",
       "      <td>город Москва, улица Талалихина, дом 2/1, корпус 1</td>\n",
       "      <td>35</td>\n",
       "      <td>улица Талалихина</td>\n",
       "    </tr>\n",
       "    <tr>\n",
       "      <td>2</td>\n",
       "      <td>24309</td>\n",
       "      <td>Кафе «Академия»</td>\n",
       "      <td>False</td>\n",
       "      <td>кафе</td>\n",
       "      <td>город Москва, Абельмановская улица, дом 6</td>\n",
       "      <td>95</td>\n",
       "      <td>Абельмановская улица</td>\n",
       "    </tr>\n",
       "    <tr>\n",
       "      <td>3</td>\n",
       "      <td>21894</td>\n",
       "      <td>ПИЦЦЕТОРИЯ</td>\n",
       "      <td>True</td>\n",
       "      <td>кафе</td>\n",
       "      <td>город Москва, Абрамцевская улица, дом 1</td>\n",
       "      <td>40</td>\n",
       "      <td>Абрамцевская улица</td>\n",
       "    </tr>\n",
       "    <tr>\n",
       "      <td>4</td>\n",
       "      <td>119365</td>\n",
       "      <td>Кафе «Вишневая метель»</td>\n",
       "      <td>False</td>\n",
       "      <td>кафе</td>\n",
       "      <td>город Москва, Абрамцевская улица, дом 9, корпус 1</td>\n",
       "      <td>50</td>\n",
       "      <td>Абрамцевская улица</td>\n",
       "    </tr>\n",
       "    <tr>\n",
       "      <td>5</td>\n",
       "      <td>27429</td>\n",
       "      <td>СТОЛ. ПРИ ГОУ СОШ № 1051</td>\n",
       "      <td>False</td>\n",
       "      <td>столовая</td>\n",
       "      <td>город Москва, Абрамцевская улица, дом 15, корпус 1</td>\n",
       "      <td>240</td>\n",
       "      <td>Абрамцевская улица</td>\n",
       "    </tr>\n",
       "    <tr>\n",
       "      <td>6</td>\n",
       "      <td>148815</td>\n",
       "      <td>Брусника</td>\n",
       "      <td>True</td>\n",
       "      <td>кафе</td>\n",
       "      <td>город Москва, переулок Сивцев Вражек, дом 6/2</td>\n",
       "      <td>10</td>\n",
       "      <td>переулок Сивцев Вражек</td>\n",
       "    </tr>\n",
       "    <tr>\n",
       "      <td>7</td>\n",
       "      <td>20957</td>\n",
       "      <td>Буфет МТУСИ</td>\n",
       "      <td>False</td>\n",
       "      <td>столовая</td>\n",
       "      <td>город Москва, Авиамоторная улица, дом 8, строение 1</td>\n",
       "      <td>90</td>\n",
       "      <td>Авиамоторная улица</td>\n",
       "    </tr>\n",
       "    <tr>\n",
       "      <td>8</td>\n",
       "      <td>20958</td>\n",
       "      <td>КПФ СЕМЬЯ-1</td>\n",
       "      <td>False</td>\n",
       "      <td>столовая</td>\n",
       "      <td>город Москва, Авиамоторная улица, дом 8, строение 1</td>\n",
       "      <td>150</td>\n",
       "      <td>Авиамоторная улица</td>\n",
       "    </tr>\n",
       "    <tr>\n",
       "      <td>9</td>\n",
       "      <td>28858</td>\n",
       "      <td>Столовая МТУСИ</td>\n",
       "      <td>False</td>\n",
       "      <td>столовая</td>\n",
       "      <td>город Москва, Авиамоторная улица, дом 8, строение 1</td>\n",
       "      <td>120</td>\n",
       "      <td>Авиамоторная улица</td>\n",
       "    </tr>\n",
       "  </tbody>\n",
       "</table>\n",
       "</div>"
      ],
      "text/plain": [
       "       id               object_name  chain object_type  \\\n",
       "0  151635                   СМЕТАНА  False        кафе   \n",
       "1   77874                    Родник  False        кафе   \n",
       "2   24309           Кафе «Академия»  False        кафе   \n",
       "3   21894                ПИЦЦЕТОРИЯ   True        кафе   \n",
       "4  119365    Кафе «Вишневая метель»  False        кафе   \n",
       "5   27429  СТОЛ. ПРИ ГОУ СОШ № 1051  False    столовая   \n",
       "6  148815                  Брусника   True        кафе   \n",
       "7   20957               Буфет МТУСИ  False    столовая   \n",
       "8   20958               КПФ СЕМЬЯ-1  False    столовая   \n",
       "9   28858            Столовая МТУСИ  False    столовая   \n",
       "\n",
       "                                               address  number  \\\n",
       "0           город Москва, улица Егора Абакумова, дом 9      48   \n",
       "1    город Москва, улица Талалихина, дом 2/1, корпус 1      35   \n",
       "2            город Москва, Абельмановская улица, дом 6      95   \n",
       "3              город Москва, Абрамцевская улица, дом 1      40   \n",
       "4    город Москва, Абрамцевская улица, дом 9, корпус 1      50   \n",
       "5   город Москва, Абрамцевская улица, дом 15, корпус 1     240   \n",
       "6        город Москва, переулок Сивцев Вражек, дом 6/2      10   \n",
       "7  город Москва, Авиамоторная улица, дом 8, строение 1      90   \n",
       "8  город Москва, Авиамоторная улица, дом 8, строение 1     150   \n",
       "9  город Москва, Авиамоторная улица, дом 8, строение 1     120   \n",
       "\n",
       "                   street  \n",
       "0   улица Егора Абакумова  \n",
       "1        улица Талалихина  \n",
       "2    Абельмановская улица  \n",
       "3      Абрамцевская улица  \n",
       "4      Абрамцевская улица  \n",
       "5      Абрамцевская улица  \n",
       "6  переулок Сивцев Вражек  \n",
       "7      Авиамоторная улица  \n",
       "8      Авиамоторная улица  \n",
       "9      Авиамоторная улица  "
      ]
     },
     "execution_count": 50,
     "metadata": {},
     "output_type": "execute_result"
    }
   ],
   "source": [
    "rest.head(10)"
   ]
  },
  {
   "cell_type": "markdown",
   "metadata": {},
   "source": [
    "### **Топ-10 улиц по количеству объектов общественного питания** <a name=\"top10\"></a>"
   ]
  },
  {
   "cell_type": "markdown",
   "metadata": {},
   "source": [
    "Посчитаем, где расположено больше всего объектов общепита:"
   ]
  },
  {
   "cell_type": "code",
   "execution_count": 51,
   "metadata": {},
   "outputs": [
    {
     "data": {
      "text/html": [
       "<div>\n",
       "<style scoped>\n",
       "    .dataframe tbody tr th:only-of-type {\n",
       "        vertical-align: middle;\n",
       "    }\n",
       "\n",
       "    .dataframe tbody tr th {\n",
       "        vertical-align: top;\n",
       "    }\n",
       "\n",
       "    .dataframe thead th {\n",
       "        text-align: right;\n",
       "    }\n",
       "</style>\n",
       "<table border=\"1\" class=\"dataframe\">\n",
       "  <thead>\n",
       "    <tr style=\"text-align: right;\">\n",
       "      <th></th>\n",
       "      <th>street</th>\n",
       "      <th>num_id</th>\n",
       "    </tr>\n",
       "  </thead>\n",
       "  <tbody>\n",
       "    <tr>\n",
       "      <td>1588</td>\n",
       "      <td>проспект Мира</td>\n",
       "      <td>204</td>\n",
       "    </tr>\n",
       "    <tr>\n",
       "      <td>996</td>\n",
       "      <td>Профсоюзная улица</td>\n",
       "      <td>182</td>\n",
       "    </tr>\n",
       "    <tr>\n",
       "      <td>683</td>\n",
       "      <td>Ленинградский проспект</td>\n",
       "      <td>172</td>\n",
       "    </tr>\n",
       "    <tr>\n",
       "      <td>981</td>\n",
       "      <td>Пресненская набережная</td>\n",
       "      <td>167</td>\n",
       "    </tr>\n",
       "    <tr>\n",
       "      <td>406</td>\n",
       "      <td>Варшавское шоссе</td>\n",
       "      <td>162</td>\n",
       "    </tr>\n",
       "    <tr>\n",
       "      <td>686</td>\n",
       "      <td>Ленинский проспект</td>\n",
       "      <td>148</td>\n",
       "    </tr>\n",
       "    <tr>\n",
       "      <td>1333</td>\n",
       "      <td>город Зеленоград</td>\n",
       "      <td>129</td>\n",
       "    </tr>\n",
       "    <tr>\n",
       "      <td>1585</td>\n",
       "      <td>проспект Вернадского</td>\n",
       "      <td>128</td>\n",
       "    </tr>\n",
       "    <tr>\n",
       "      <td>674</td>\n",
       "      <td>Кутузовский проспект</td>\n",
       "      <td>114</td>\n",
       "    </tr>\n",
       "    <tr>\n",
       "      <td>600</td>\n",
       "      <td>Каширское шоссе</td>\n",
       "      <td>111</td>\n",
       "    </tr>\n",
       "  </tbody>\n",
       "</table>\n",
       "</div>"
      ],
      "text/plain": [
       "                      street  num_id\n",
       "1588           проспект Мира     204\n",
       "996        Профсоюзная улица     182\n",
       "683   Ленинградский проспект     172\n",
       "981   Пресненская набережная     167\n",
       "406         Варшавское шоссе     162\n",
       "686       Ленинский проспект     148\n",
       "1333        город Зеленоград     129\n",
       "1585    проспект Вернадского     128\n",
       "674     Кутузовский проспект     114\n",
       "600          Каширское шоссе     111"
      ]
     },
     "execution_count": 51,
     "metadata": {},
     "output_type": "execute_result"
    }
   ],
   "source": [
    "street_pop = rest.groupby(by = 'street').agg({'id' : 'count'}).reset_index()\\\n",
    "                         .rename(columns = {'id':'num_id'}).sort_values(by = 'num_id', ascending = False)\n",
    "street_pop.head(10)"
   ]
  },
  {
   "cell_type": "markdown",
   "metadata": {},
   "source": [
    "Проверим, почему в топ-10 улиц оказался Зеленоград:"
   ]
  },
  {
   "cell_type": "code",
   "execution_count": 52,
   "metadata": {},
   "outputs": [
    {
     "data": {
      "text/html": [
       "<div>\n",
       "<style scoped>\n",
       "    .dataframe tbody tr th:only-of-type {\n",
       "        vertical-align: middle;\n",
       "    }\n",
       "\n",
       "    .dataframe tbody tr th {\n",
       "        vertical-align: top;\n",
       "    }\n",
       "\n",
       "    .dataframe thead th {\n",
       "        text-align: right;\n",
       "    }\n",
       "</style>\n",
       "<table border=\"1\" class=\"dataframe\">\n",
       "  <thead>\n",
       "    <tr style=\"text-align: right;\">\n",
       "      <th></th>\n",
       "      <th>id</th>\n",
       "      <th>object_name</th>\n",
       "      <th>chain</th>\n",
       "      <th>object_type</th>\n",
       "      <th>address</th>\n",
       "      <th>number</th>\n",
       "      <th>street</th>\n",
       "    </tr>\n",
       "  </thead>\n",
       "  <tbody>\n",
       "    <tr>\n",
       "      <td>1405</td>\n",
       "      <td>20199</td>\n",
       "      <td>ЭТО</td>\n",
       "      <td>False</td>\n",
       "      <td>кафе</td>\n",
       "      <td>город Москва, город Зеленоград, корпус 401</td>\n",
       "      <td>35</td>\n",
       "      <td>город Зеленоград</td>\n",
       "    </tr>\n",
       "    <tr>\n",
       "      <td>1406</td>\n",
       "      <td>68113</td>\n",
       "      <td>Френдс</td>\n",
       "      <td>False</td>\n",
       "      <td>кафе</td>\n",
       "      <td>город Москва, город Зеленоград, корпус 435</td>\n",
       "      <td>34</td>\n",
       "      <td>город Зеленоград</td>\n",
       "    </tr>\n",
       "    <tr>\n",
       "      <td>1407</td>\n",
       "      <td>20105</td>\n",
       "      <td>Кафе «Граф Монте-Кристо»</td>\n",
       "      <td>False</td>\n",
       "      <td>кафе</td>\n",
       "      <td>город Москва, город Зеленоград, корпус 436</td>\n",
       "      <td>40</td>\n",
       "      <td>город Зеленоград</td>\n",
       "    </tr>\n",
       "    <tr>\n",
       "      <td>1408</td>\n",
       "      <td>22982</td>\n",
       "      <td>Альфорно</td>\n",
       "      <td>False</td>\n",
       "      <td>кафе</td>\n",
       "      <td>город Москва, город Зеленоград, корпус 438</td>\n",
       "      <td>49</td>\n",
       "      <td>город Зеленоград</td>\n",
       "    </tr>\n",
       "    <tr>\n",
       "      <td>1409</td>\n",
       "      <td>151267</td>\n",
       "      <td>Альфорно</td>\n",
       "      <td>False</td>\n",
       "      <td>кафе</td>\n",
       "      <td>город Москва, город Зеленоград, корпус 438</td>\n",
       "      <td>45</td>\n",
       "      <td>город Зеленоград</td>\n",
       "    </tr>\n",
       "  </tbody>\n",
       "</table>\n",
       "</div>"
      ],
      "text/plain": [
       "          id               object_name  chain object_type  \\\n",
       "1405   20199                       ЭТО  False        кафе   \n",
       "1406   68113                    Френдс  False        кафе   \n",
       "1407   20105  Кафе «Граф Монте-Кристо»  False        кафе   \n",
       "1408   22982                  Альфорно  False        кафе   \n",
       "1409  151267                  Альфорно  False        кафе   \n",
       "\n",
       "                                         address  number            street  \n",
       "1405  город Москва, город Зеленоград, корпус 401      35  город Зеленоград  \n",
       "1406  город Москва, город Зеленоград, корпус 435      34  город Зеленоград  \n",
       "1407  город Москва, город Зеленоград, корпус 436      40  город Зеленоград  \n",
       "1408  город Москва, город Зеленоград, корпус 438      49  город Зеленоград  \n",
       "1409  город Москва, город Зеленоград, корпус 438      45  город Зеленоград  "
      ]
     },
     "execution_count": 52,
     "metadata": {},
     "output_type": "execute_result"
    }
   ],
   "source": [
    "rest.query('street == \"город Зеленоград\"').head(5)"
   ]
  },
  {
   "cell_type": "markdown",
   "metadata": {},
   "source": [
    "В исходных ячейках с адресами нет уточнения по улицам, на которых расположены кафе и рестораны Зеленограда. Строго говоря, эти объекты не подходят под условие задачи, поэтому уберем Зеленоград из рейтинга:"
   ]
  },
  {
   "cell_type": "code",
   "execution_count": 53,
   "metadata": {},
   "outputs": [
    {
     "data": {
      "text/html": [
       "<div>\n",
       "<style scoped>\n",
       "    .dataframe tbody tr th:only-of-type {\n",
       "        vertical-align: middle;\n",
       "    }\n",
       "\n",
       "    .dataframe tbody tr th {\n",
       "        vertical-align: top;\n",
       "    }\n",
       "\n",
       "    .dataframe thead th {\n",
       "        text-align: right;\n",
       "    }\n",
       "</style>\n",
       "<table border=\"1\" class=\"dataframe\">\n",
       "  <thead>\n",
       "    <tr style=\"text-align: right;\">\n",
       "      <th></th>\n",
       "      <th>street</th>\n",
       "      <th>num_id</th>\n",
       "    </tr>\n",
       "  </thead>\n",
       "  <tbody>\n",
       "    <tr>\n",
       "      <td>1588</td>\n",
       "      <td>проспект Мира</td>\n",
       "      <td>204</td>\n",
       "    </tr>\n",
       "    <tr>\n",
       "      <td>996</td>\n",
       "      <td>Профсоюзная улица</td>\n",
       "      <td>182</td>\n",
       "    </tr>\n",
       "    <tr>\n",
       "      <td>683</td>\n",
       "      <td>Ленинградский проспект</td>\n",
       "      <td>172</td>\n",
       "    </tr>\n",
       "    <tr>\n",
       "      <td>981</td>\n",
       "      <td>Пресненская набережная</td>\n",
       "      <td>167</td>\n",
       "    </tr>\n",
       "    <tr>\n",
       "      <td>406</td>\n",
       "      <td>Варшавское шоссе</td>\n",
       "      <td>162</td>\n",
       "    </tr>\n",
       "    <tr>\n",
       "      <td>686</td>\n",
       "      <td>Ленинский проспект</td>\n",
       "      <td>148</td>\n",
       "    </tr>\n",
       "    <tr>\n",
       "      <td>1585</td>\n",
       "      <td>проспект Вернадского</td>\n",
       "      <td>128</td>\n",
       "    </tr>\n",
       "    <tr>\n",
       "      <td>674</td>\n",
       "      <td>Кутузовский проспект</td>\n",
       "      <td>114</td>\n",
       "    </tr>\n",
       "    <tr>\n",
       "      <td>600</td>\n",
       "      <td>Каширское шоссе</td>\n",
       "      <td>111</td>\n",
       "    </tr>\n",
       "    <tr>\n",
       "      <td>605</td>\n",
       "      <td>Кировоградская улица</td>\n",
       "      <td>108</td>\n",
       "    </tr>\n",
       "  </tbody>\n",
       "</table>\n",
       "</div>"
      ],
      "text/plain": [
       "                      street  num_id\n",
       "1588           проспект Мира     204\n",
       "996        Профсоюзная улица     182\n",
       "683   Ленинградский проспект     172\n",
       "981   Пресненская набережная     167\n",
       "406         Варшавское шоссе     162\n",
       "686       Ленинский проспект     148\n",
       "1585    проспект Вернадского     128\n",
       "674     Кутузовский проспект     114\n",
       "600          Каширское шоссе     111\n",
       "605     Кировоградская улица     108"
      ]
     },
     "execution_count": 53,
     "metadata": {},
     "output_type": "execute_result"
    }
   ],
   "source": [
    "top_str = street_pop.query('street != \"город Зеленоград\"').head(10)\n",
    "top_str"
   ]
  },
  {
   "cell_type": "markdown",
   "metadata": {},
   "source": [
    "Построим график:"
   ]
  },
  {
   "cell_type": "code",
   "execution_count": 54,
   "metadata": {},
   "outputs": [
    {
     "data": {
      "image/png": "[encoded data removed]",
      "text/plain": [
       "<Figure size 864x576 with 1 Axes>"
      ]
     },
     "metadata": {
      "needs_background": "light"
     },
     "output_type": "display_data"
    }
   ],
   "source": [
    "plt.figure(figsize=(12, 8))\n",
    "fig = sns.barplot(x = \"num_id\", y = \"street\", data = top_str) \n",
    "fig.set_title(\"Топ-10 улиц с наибольшим числом заведений\", fontsize = 20)\n",
    "fig.set_xlabel(\"Улица\", fontsize = 15)\n",
    "fig.set_ylabel(\"Количество заведеий\", fontsize = 15)\n",
    "plt.show()"
   ]
  },
  {
   "cell_type": "markdown",
   "metadata": {},
   "source": [
    "Для того чтобы определить, в каких районах Москвы находятся указанные улицы, воспользуемся внешним источником. Загрузим справочник улиц, районов и округов Москвы, выложенный в открытый доступ на [github](https://github.com/Distans/temp/blob/main/mosgaz-streets.csv), разместим его в Google Sheets и импортируем по ссылке:"
   ]
  },
  {
   "cell_type": "code",
   "execution_count": 55,
   "metadata": {},
   "outputs": [],
   "source": [
    "file_name = 'https://docs.google.com/spreadsheets/d/1N5EgPTu1LcaQd2KNnSphJgRXYtgNspY9UH_fLnEzKZg/export?format=csv'\n",
    "r = requests.get(file_name)\n",
    "districts = pd.read_csv(BytesIO(r.content))"
   ]
  },
  {
   "cell_type": "code",
   "execution_count": 56,
   "metadata": {},
   "outputs": [
    {
     "data": {
      "text/html": [
       "<div>\n",
       "<style scoped>\n",
       "    .dataframe tbody tr th:only-of-type {\n",
       "        vertical-align: middle;\n",
       "    }\n",
       "\n",
       "    .dataframe tbody tr th {\n",
       "        vertical-align: top;\n",
       "    }\n",
       "\n",
       "    .dataframe thead th {\n",
       "        text-align: right;\n",
       "    }\n",
       "</style>\n",
       "<table border=\"1\" class=\"dataframe\">\n",
       "  <thead>\n",
       "    <tr style=\"text-align: right;\">\n",
       "      <th></th>\n",
       "      <th>streetname</th>\n",
       "      <th>areaid</th>\n",
       "      <th>okrug</th>\n",
       "      <th>area</th>\n",
       "    </tr>\n",
       "  </thead>\n",
       "  <tbody>\n",
       "    <tr>\n",
       "      <td>0</td>\n",
       "      <td>Выставочный переулок</td>\n",
       "      <td>17</td>\n",
       "      <td>ЦАО</td>\n",
       "      <td>Пресненский район</td>\n",
       "    </tr>\n",
       "    <tr>\n",
       "      <td>1</td>\n",
       "      <td>улица Гашека</td>\n",
       "      <td>17</td>\n",
       "      <td>ЦАО</td>\n",
       "      <td>Пресненский район</td>\n",
       "    </tr>\n",
       "    <tr>\n",
       "      <td>2</td>\n",
       "      <td>Большая Никитская улица</td>\n",
       "      <td>17</td>\n",
       "      <td>ЦАО</td>\n",
       "      <td>Пресненский район</td>\n",
       "    </tr>\n",
       "    <tr>\n",
       "      <td>3</td>\n",
       "      <td>Глубокий переулок</td>\n",
       "      <td>17</td>\n",
       "      <td>ЦАО</td>\n",
       "      <td>Пресненский район</td>\n",
       "    </tr>\n",
       "    <tr>\n",
       "      <td>4</td>\n",
       "      <td>Большой Гнездниковский переулок</td>\n",
       "      <td>17</td>\n",
       "      <td>ЦАО</td>\n",
       "      <td>Пресненский район</td>\n",
       "    </tr>\n",
       "  </tbody>\n",
       "</table>\n",
       "</div>"
      ],
      "text/plain": [
       "                        streetname  areaid okrug               area\n",
       "0             Выставочный переулок      17   ЦАО  Пресненский район\n",
       "1                     улица Гашека      17   ЦАО  Пресненский район\n",
       "2          Большая Никитская улица      17   ЦАО  Пресненский район\n",
       "3                Глубокий переулок      17   ЦАО  Пресненский район\n",
       "4  Большой Гнездниковский переулок      17   ЦАО  Пресненский район"
      ]
     },
     "execution_count": 56,
     "metadata": {},
     "output_type": "execute_result"
    }
   ],
   "source": [
    "districts.head()"
   ]
  },
  {
   "cell_type": "code",
   "execution_count": 57,
   "metadata": {},
   "outputs": [
    {
     "name": "stdout",
     "output_type": "stream",
     "text": [
      "<class 'pandas.core.frame.DataFrame'>\n",
      "RangeIndex: 4398 entries, 0 to 4397\n",
      "Data columns (total 4 columns):\n",
      "streetname    4398 non-null object\n",
      "areaid        4398 non-null int64\n",
      "okrug         4398 non-null object\n",
      "area          4398 non-null object\n",
      "dtypes: int64(1), object(3)\n",
      "memory usage: 137.6+ KB\n"
     ]
    }
   ],
   "source": [
    "districts.info()"
   ]
  },
  {
   "cell_type": "markdown",
   "metadata": {},
   "source": [
    "В файле содержится информация об округах и районах, в которых находится та или иная улица. Сопоставим районы полученному топ-10 и сгруппируем получившийся датафрейм по названию улицы, поскольку одна улица может проходить через несколько районов:"
   ]
  },
  {
   "cell_type": "code",
   "execution_count": 58,
   "metadata": {},
   "outputs": [
    {
     "data": {
      "text/html": [
       "<div>\n",
       "<style scoped>\n",
       "    .dataframe tbody tr th:only-of-type {\n",
       "        vertical-align: middle;\n",
       "    }\n",
       "\n",
       "    .dataframe tbody tr th {\n",
       "        vertical-align: top;\n",
       "    }\n",
       "\n",
       "    .dataframe thead th {\n",
       "        text-align: right;\n",
       "    }\n",
       "</style>\n",
       "<table border=\"1\" class=\"dataframe\">\n",
       "  <thead>\n",
       "    <tr style=\"text-align: right;\">\n",
       "      <th></th>\n",
       "      <th>street</th>\n",
       "      <th>area</th>\n",
       "    </tr>\n",
       "  </thead>\n",
       "  <tbody>\n",
       "    <tr>\n",
       "      <td>0</td>\n",
       "      <td>Варшавское шоссе</td>\n",
       "      <td>[Район Чертаново Центральное, Район Чертаново Северное, Район Чертаново Южное, Донской район, Район Нагатино-Садовники, Нагорный район, Район Северное Бутово, Район Южное Бутово]</td>\n",
       "    </tr>\n",
       "    <tr>\n",
       "      <td>1</td>\n",
       "      <td>Каширское шоссе</td>\n",
       "      <td>[Район Москворечье-Сабурово, Район Нагатино-Садовники, Район Орехово-Борисово Южное, Район Орехово-Борисово Северное]</td>\n",
       "    </tr>\n",
       "    <tr>\n",
       "      <td>2</td>\n",
       "      <td>Кировоградская улица</td>\n",
       "      <td>[Район Чертаново Центральное, Район Чертаново Северное, Район Чертаново Южное]</td>\n",
       "    </tr>\n",
       "    <tr>\n",
       "      <td>3</td>\n",
       "      <td>Кутузовский проспект</td>\n",
       "      <td>[Район Дорогомилово, Район Фили-Давыдково]</td>\n",
       "    </tr>\n",
       "    <tr>\n",
       "      <td>4</td>\n",
       "      <td>Ленинградский проспект</td>\n",
       "      <td>[Район Аэропорт, Район Беговой, Хорошевский район, Район Сокол]</td>\n",
       "    </tr>\n",
       "    <tr>\n",
       "      <td>5</td>\n",
       "      <td>Ленинский проспект</td>\n",
       "      <td>[Район Проспект Вернадского, Район Тропарево-Никулино, Донской район, Район Гагаринский, Ломоносовский район, Обручевский район, Район Теплый Стан, Район Якиманка]</td>\n",
       "    </tr>\n",
       "    <tr>\n",
       "      <td>6</td>\n",
       "      <td>Пресненская набережная</td>\n",
       "      <td>[Пресненский район]</td>\n",
       "    </tr>\n",
       "    <tr>\n",
       "      <td>7</td>\n",
       "      <td>Профсоюзная улица</td>\n",
       "      <td>[Академический район, Район Черемушки, Район Ясенево, Район Коньково, Обручевский район, Район Теплый Стан]</td>\n",
       "    </tr>\n",
       "    <tr>\n",
       "      <td>8</td>\n",
       "      <td>проспект Вернадского</td>\n",
       "      <td>[Район Проспект Вернадского, Район Раменки, Район Тропарево-Никулино, Район Гагаринский, Ломоносовский район]</td>\n",
       "    </tr>\n",
       "    <tr>\n",
       "      <td>9</td>\n",
       "      <td>проспект Мира</td>\n",
       "      <td>[Алексеевский район, Ярославский Район, Район Марьина роща, Останкинский район, Район Ростокино, Район Свиблово, Мещанский район]</td>\n",
       "    </tr>\n",
       "  </tbody>\n",
       "</table>\n",
       "</div>"
      ],
      "text/plain": [
       "                   street  \\\n",
       "0        Варшавское шоссе   \n",
       "1         Каширское шоссе   \n",
       "2    Кировоградская улица   \n",
       "3    Кутузовский проспект   \n",
       "4  Ленинградский проспект   \n",
       "5      Ленинский проспект   \n",
       "6  Пресненская набережная   \n",
       "7       Профсоюзная улица   \n",
       "8    проспект Вернадского   \n",
       "9           проспект Мира   \n",
       "\n",
       "                                                                                                                                                                                 area  \n",
       "0  [Район Чертаново Центральное, Район Чертаново Северное, Район Чертаново Южное, Донской район, Район Нагатино-Садовники, Нагорный район, Район Северное Бутово, Район Южное Бутово]  \n",
       "1                                                               [Район Москворечье-Сабурово, Район Нагатино-Садовники, Район Орехово-Борисово Южное, Район Орехово-Борисово Северное]  \n",
       "2                                                                                                      [Район Чертаново Центральное, Район Чертаново Северное, Район Чертаново Южное]  \n",
       "3                                                                                                                                          [Район Дорогомилово, Район Фили-Давыдково]  \n",
       "4                                                                                                                     [Район Аэропорт, Район Беговой, Хорошевский район, Район Сокол]  \n",
       "5                 [Район Проспект Вернадского, Район Тропарево-Никулино, Донской район, Район Гагаринский, Ломоносовский район, Обручевский район, Район Теплый Стан, Район Якиманка]  \n",
       "6                                                                                                                                                                 [Пресненский район]  \n",
       "7                                                                         [Академический район, Район Черемушки, Район Ясенево, Район Коньково, Обручевский район, Район Теплый Стан]  \n",
       "8                                                                       [Район Проспект Вернадского, Район Раменки, Район Тропарево-Никулино, Район Гагаринский, Ломоносовский район]  \n",
       "9                                                   [Алексеевский район, Ярославский Район, Район Марьина роща, Останкинский район, Район Ростокино, Район Свиблово, Мещанский район]  "
      ]
     },
     "execution_count": 58,
     "metadata": {},
     "output_type": "execute_result"
    }
   ],
   "source": [
    "top_str.merge(districts, left_on = 'street', right_on = 'streetname', how = 'inner')[['street', 'area']]\\\n",
    "                    .groupby(by = 'street').agg({'area':'unique'}).reset_index()"
   ]
  },
  {
   "cell_type": "markdown",
   "metadata": {},
   "source": [
    "Получился довольно большой перечень районов из разных АО. По большей части их нельзя классифицировать ни как центральные, ни как окраинные. Скорее, большинство из них расположено в средней уделенности от центра Москвы."
   ]
  },
  {
   "cell_type": "markdown",
   "metadata": {},
   "source": [
    "Вероятно, в топ-10 перечисленные улицы попали благодаря своей протяженности. Так, по [данным Яндекса](https://yandex.ru/company/researches/2017/streets), средняя длина московской улицы - 934 м. Из указанных самые короткие (не считая Пресненской набережной) - Кировоградская улица и Ленинский проспект протяженностью соответственно 4,3 км и 5,6 км. Остальные растянулись более чем на 8 км. Особняком стоит короткая - всего 550 м - Пресненская набережная. Она является центром делового квартала \"Москва-сити\" с небоскребами, поэтому концентрация ресторанов и кафе на ней очень высока."
   ]
  },
  {
   "cell_type": "markdown",
   "metadata": {},
   "source": [
    "### **Улицы с единственным объектом общественного питания** <a name=\"unique_rest\"></a>"
   ]
  },
  {
   "cell_type": "markdown",
   "metadata": {},
   "source": [
    "Теперь определим количество улиц, на которых расположено всего одно заведение общепита, а также районы, где они находятся."
   ]
  },
  {
   "cell_type": "code",
   "execution_count": 59,
   "metadata": {},
   "outputs": [
    {
     "data": {
      "text/html": [
       "<div>\n",
       "<style scoped>\n",
       "    .dataframe tbody tr th:only-of-type {\n",
       "        vertical-align: middle;\n",
       "    }\n",
       "\n",
       "    .dataframe tbody tr th {\n",
       "        vertical-align: top;\n",
       "    }\n",
       "\n",
       "    .dataframe thead th {\n",
       "        text-align: right;\n",
       "    }\n",
       "</style>\n",
       "<table border=\"1\" class=\"dataframe\">\n",
       "  <thead>\n",
       "    <tr style=\"text-align: right;\">\n",
       "      <th></th>\n",
       "      <th>street</th>\n",
       "      <th>num_id</th>\n",
       "    </tr>\n",
       "  </thead>\n",
       "  <tbody>\n",
       "    <tr>\n",
       "      <td>759</td>\n",
       "      <td>Малый Толмачёвский переулок</td>\n",
       "      <td>1</td>\n",
       "    </tr>\n",
       "    <tr>\n",
       "      <td>647</td>\n",
       "      <td>Красногвардейский бульвар</td>\n",
       "      <td>1</td>\n",
       "    </tr>\n",
       "    <tr>\n",
       "      <td>756</td>\n",
       "      <td>Малый Саввинский переулок</td>\n",
       "      <td>1</td>\n",
       "    </tr>\n",
       "    <tr>\n",
       "      <td>138</td>\n",
       "      <td>2-я Филёвская улица</td>\n",
       "      <td>1</td>\n",
       "    </tr>\n",
       "    <tr>\n",
       "      <td>24</td>\n",
       "      <td>1-й Лучевой просек</td>\n",
       "      <td>1</td>\n",
       "    </tr>\n",
       "  </tbody>\n",
       "</table>\n",
       "</div>"
      ],
      "text/plain": [
       "                          street  num_id\n",
       "759  Малый Толмачёвский переулок       1\n",
       "647    Красногвардейский бульвар       1\n",
       "756    Малый Саввинский переулок       1\n",
       "138          2-я Филёвская улица       1\n",
       "24            1-й Лучевой просек       1"
      ]
     },
     "execution_count": 59,
     "metadata": {},
     "output_type": "execute_result"
    }
   ],
   "source": [
    "unique_rest_str = street_pop.query('num_id == 1')\n",
    "unique_rest_str.head()"
   ]
  },
  {
   "cell_type": "markdown",
   "metadata": {},
   "source": [
    "Таких улиц 627. Попробуем определить для них соответствующие районы."
   ]
  },
  {
   "cell_type": "code",
   "execution_count": 60,
   "metadata": {},
   "outputs": [
    {
     "data": {
      "text/html": [
       "<div>\n",
       "<style scoped>\n",
       "    .dataframe tbody tr th:only-of-type {\n",
       "        vertical-align: middle;\n",
       "    }\n",
       "\n",
       "    .dataframe tbody tr th {\n",
       "        vertical-align: top;\n",
       "    }\n",
       "\n",
       "    .dataframe thead th {\n",
       "        text-align: right;\n",
       "    }\n",
       "</style>\n",
       "<table border=\"1\" class=\"dataframe\">\n",
       "  <thead>\n",
       "    <tr style=\"text-align: right;\">\n",
       "      <th></th>\n",
       "      <th>street</th>\n",
       "      <th>area</th>\n",
       "    </tr>\n",
       "  </thead>\n",
       "  <tbody>\n",
       "    <tr>\n",
       "      <td>0</td>\n",
       "      <td>Малый Толмачёвский переулок</td>\n",
       "      <td>Район Якиманка</td>\n",
       "    </tr>\n",
       "    <tr>\n",
       "      <td>1</td>\n",
       "      <td>Красногвардейский бульвар</td>\n",
       "      <td>Пресненский район</td>\n",
       "    </tr>\n",
       "    <tr>\n",
       "      <td>2</td>\n",
       "      <td>Малый Саввинский переулок</td>\n",
       "      <td>Район Хамовники</td>\n",
       "    </tr>\n",
       "    <tr>\n",
       "      <td>3</td>\n",
       "      <td>2-я Филёвская улица</td>\n",
       "      <td>Район Филевский Парк</td>\n",
       "    </tr>\n",
       "    <tr>\n",
       "      <td>4</td>\n",
       "      <td>1-й Лучевой просек</td>\n",
       "      <td>Район Сокольники</td>\n",
       "    </tr>\n",
       "  </tbody>\n",
       "</table>\n",
       "</div>"
      ],
      "text/plain": [
       "                        street                  area\n",
       "0  Малый Толмачёвский переулок        Район Якиманка\n",
       "1    Красногвардейский бульвар     Пресненский район\n",
       "2    Малый Саввинский переулок       Район Хамовники\n",
       "3          2-я Филёвская улица  Район Филевский Парк\n",
       "4           1-й Лучевой просек      Район Сокольники"
      ]
     },
     "execution_count": 60,
     "metadata": {},
     "output_type": "execute_result"
    }
   ],
   "source": [
    "unique_rest_per_area = unique_rest_str.merge(districts, left_on = 'street', right_on = 'streetname', how = 'left')\\\n",
    "                      [['street', 'area']]\n",
    "unique_rest_per_area.head()"
   ]
  },
  {
   "cell_type": "markdown",
   "metadata": {},
   "source": [
    "Получили 673 записи (т.к. несколько улиц проходяят более чем через 1 район). Однако не все ячейки в столбце с районом оказались заполнены. Посмотрим, сколько их и чем обусловлены пропуски:"
   ]
  },
  {
   "cell_type": "code",
   "execution_count": 61,
   "metadata": {},
   "outputs": [
    {
     "data": {
      "text/plain": [
       "109"
      ]
     },
     "execution_count": 61,
     "metadata": {},
     "output_type": "execute_result"
    }
   ],
   "source": [
    "unique_rest_per_area.query('area.isna()').shape[0]"
   ]
  },
  {
   "cell_type": "code",
   "execution_count": 62,
   "metadata": {},
   "outputs": [
    {
     "data": {
      "text/html": [
       "<div>\n",
       "<style scoped>\n",
       "    .dataframe tbody tr th:only-of-type {\n",
       "        vertical-align: middle;\n",
       "    }\n",
       "\n",
       "    .dataframe tbody tr th {\n",
       "        vertical-align: top;\n",
       "    }\n",
       "\n",
       "    .dataframe thead th {\n",
       "        text-align: right;\n",
       "    }\n",
       "</style>\n",
       "<table border=\"1\" class=\"dataframe\">\n",
       "  <thead>\n",
       "    <tr style=\"text-align: right;\">\n",
       "      <th></th>\n",
       "      <th>street</th>\n",
       "      <th>area</th>\n",
       "    </tr>\n",
       "  </thead>\n",
       "  <tbody>\n",
       "    <tr>\n",
       "      <td>28</td>\n",
       "      <td>улица Старые Кузьминки</td>\n",
       "      <td>NaN</td>\n",
       "    </tr>\n",
       "    <tr>\n",
       "      <td>86</td>\n",
       "      <td>26-й километр Московской Кольцевой Автодороги</td>\n",
       "      <td>NaN</td>\n",
       "    </tr>\n",
       "    <tr>\n",
       "      <td>95</td>\n",
       "      <td>улица Высоцкого</td>\n",
       "      <td>NaN</td>\n",
       "    </tr>\n",
       "    <tr>\n",
       "      <td>104</td>\n",
       "      <td>улица Льва Яшина</td>\n",
       "      <td>NaN</td>\n",
       "    </tr>\n",
       "    <tr>\n",
       "      <td>151</td>\n",
       "      <td>104-й километр Московской Кольцевой Автодороги</td>\n",
       "      <td>NaN</td>\n",
       "    </tr>\n",
       "    <tr>\n",
       "      <td>158</td>\n",
       "      <td>улица Недорубова</td>\n",
       "      <td>NaN</td>\n",
       "    </tr>\n",
       "    <tr>\n",
       "      <td>183</td>\n",
       "      <td>улица Капотня</td>\n",
       "      <td>NaN</td>\n",
       "    </tr>\n",
       "    <tr>\n",
       "      <td>406</td>\n",
       "      <td>Пыжёвский переулок</td>\n",
       "      <td>NaN</td>\n",
       "    </tr>\n",
       "    <tr>\n",
       "      <td>471</td>\n",
       "      <td>поселение Сосенское, посёлок Коммунарка, Фитарёвская улица</td>\n",
       "      <td>NaN</td>\n",
       "    </tr>\n",
       "    <tr>\n",
       "      <td>473</td>\n",
       "      <td>поселение Сосенское, посёлок Коммунарка, микрорайон \"Эдальго\"</td>\n",
       "      <td>NaN</td>\n",
       "    </tr>\n",
       "    <tr>\n",
       "      <td>476</td>\n",
       "      <td>поселение Сосенское, посёлок Коммунарка, улица Потаповская Роща</td>\n",
       "      <td>NaN</td>\n",
       "    </tr>\n",
       "    <tr>\n",
       "      <td>477</td>\n",
       "      <td>поселение Сосенское, улица Адмирала Корнилова</td>\n",
       "      <td>NaN</td>\n",
       "    </tr>\n",
       "    <tr>\n",
       "      <td>479</td>\n",
       "      <td>поселение Сосенское, улица Поляны</td>\n",
       "      <td>NaN</td>\n",
       "    </tr>\n",
       "    <tr>\n",
       "      <td>481</td>\n",
       "      <td>поселение Филимонковское, деревня Верхнее Валуево</td>\n",
       "      <td>NaN</td>\n",
       "    </tr>\n",
       "    <tr>\n",
       "      <td>482</td>\n",
       "      <td>поселение Щаповское, вблизи деревни Троицкое</td>\n",
       "      <td>NaN</td>\n",
       "    </tr>\n",
       "    <tr>\n",
       "      <td>483</td>\n",
       "      <td>поселение Щаповское, вблизи пос.Курилово</td>\n",
       "      <td>NaN</td>\n",
       "    </tr>\n",
       "    <tr>\n",
       "      <td>484</td>\n",
       "      <td>поселение Щаповское, деревня Шаганино</td>\n",
       "      <td>NaN</td>\n",
       "    </tr>\n",
       "    <tr>\n",
       "      <td>485</td>\n",
       "      <td>поселение Щаповское, посёлок Курилово, Школьная улица</td>\n",
       "      <td>NaN</td>\n",
       "    </tr>\n",
       "    <tr>\n",
       "      <td>486</td>\n",
       "      <td>поселение Щаповское, улица Евгения Родионова</td>\n",
       "      <td>NaN</td>\n",
       "    </tr>\n",
       "    <tr>\n",
       "      <td>494</td>\n",
       "      <td>поселение Сосенское, посёлок Газопровод</td>\n",
       "      <td>NaN</td>\n",
       "    </tr>\n",
       "  </tbody>\n",
       "</table>\n",
       "</div>"
      ],
      "text/plain": [
       "                                                              street area\n",
       "28                                            улица Старые Кузьминки  NaN\n",
       "86                     26-й километр Московской Кольцевой Автодороги  NaN\n",
       "95                                                   улица Высоцкого  NaN\n",
       "104                                                 улица Льва Яшина  NaN\n",
       "151                   104-й километр Московской Кольцевой Автодороги  NaN\n",
       "158                                                 улица Недорубова  NaN\n",
       "183                                                    улица Капотня  NaN\n",
       "406                                               Пыжёвский переулок  NaN\n",
       "471       поселение Сосенское, посёлок Коммунарка, Фитарёвская улица  NaN\n",
       "473    поселение Сосенское, посёлок Коммунарка, микрорайон \"Эдальго\"  NaN\n",
       "476  поселение Сосенское, посёлок Коммунарка, улица Потаповская Роща  NaN\n",
       "477                    поселение Сосенское, улица Адмирала Корнилова  NaN\n",
       "479                                поселение Сосенское, улица Поляны  NaN\n",
       "481                поселение Филимонковское, деревня Верхнее Валуево  NaN\n",
       "482                     поселение Щаповское, вблизи деревни Троицкое  NaN\n",
       "483                         поселение Щаповское, вблизи пос.Курилово  NaN\n",
       "484                            поселение Щаповское, деревня Шаганино  NaN\n",
       "485            поселение Щаповское, посёлок Курилово, Школьная улица  NaN\n",
       "486                     поселение Щаповское, улица Евгения Родионова  NaN\n",
       "494                          поселение Сосенское, посёлок Газопровод  NaN"
      ]
     },
     "execution_count": 62,
     "metadata": {},
     "output_type": "execute_result"
    }
   ],
   "source": [
    "unique_rest_per_area.query('area.isna()').head(20)"
   ]
  },
  {
   "cell_type": "markdown",
   "metadata": {},
   "source": [
    "Во-первых, нескольких улиц просто не оказалось в справочнике. Во-вторых, некоторые из них в справочнике именуются по-другому (например, МКАД), поэтому не попали в объединенную таблицу. В-третьих, в части заданных адресов вообще нет уточнения по улице (касается в основном заведений и городов).\n",
    "\n",
    "Сначала решим вопрос с поселениями. Собственно, соответствующий район и носит название поселения:"
   ]
  },
  {
   "cell_type": "code",
   "execution_count": 63,
   "metadata": {},
   "outputs": [
    {
     "data": {
      "text/html": [
       "<div>\n",
       "<style scoped>\n",
       "    .dataframe tbody tr th:only-of-type {\n",
       "        vertical-align: middle;\n",
       "    }\n",
       "\n",
       "    .dataframe tbody tr th {\n",
       "        vertical-align: top;\n",
       "    }\n",
       "\n",
       "    .dataframe thead th {\n",
       "        text-align: right;\n",
       "    }\n",
       "</style>\n",
       "<table border=\"1\" class=\"dataframe\">\n",
       "  <thead>\n",
       "    <tr style=\"text-align: right;\">\n",
       "      <th></th>\n",
       "      <th>street</th>\n",
       "      <th>area</th>\n",
       "    </tr>\n",
       "  </thead>\n",
       "  <tbody>\n",
       "    <tr>\n",
       "      <td>0</td>\n",
       "      <td>Малый Толмачёвский переулок</td>\n",
       "      <td>Район Якиманка</td>\n",
       "    </tr>\n",
       "    <tr>\n",
       "      <td>1</td>\n",
       "      <td>Красногвардейский бульвар</td>\n",
       "      <td>Пресненский район</td>\n",
       "    </tr>\n",
       "    <tr>\n",
       "      <td>2</td>\n",
       "      <td>Малый Саввинский переулок</td>\n",
       "      <td>Район Хамовники</td>\n",
       "    </tr>\n",
       "    <tr>\n",
       "      <td>3</td>\n",
       "      <td>2-я Филёвская улица</td>\n",
       "      <td>Район Филевский Парк</td>\n",
       "    </tr>\n",
       "    <tr>\n",
       "      <td>4</td>\n",
       "      <td>1-й Лучевой просек</td>\n",
       "      <td>Район Сокольники</td>\n",
       "    </tr>\n",
       "  </tbody>\n",
       "</table>\n",
       "</div>"
      ],
      "text/plain": [
       "                        street                  area\n",
       "0  Малый Толмачёвский переулок        Район Якиманка\n",
       "1    Красногвардейский бульвар     Пресненский район\n",
       "2    Малый Саввинский переулок       Район Хамовники\n",
       "3          2-я Филёвская улица  Район Филевский Парк\n",
       "4           1-й Лучевой просек      Район Сокольники"
      ]
     },
     "execution_count": 63,
     "metadata": {},
     "output_type": "execute_result"
    }
   ],
   "source": [
    "unique_rest_per_area.loc[unique_rest_per_area['area'].isna() &\\\n",
    "                         unique_rest_per_area['street'].str.contains(\"поселение\"), 'area'] =\\\n",
    "                         unique_rest_per_area.apply(lambda row: extract(row['street'], \"\", \",\"), axis = 1)\n",
    "unique_rest_per_area.head()"
   ]
  },
  {
   "cell_type": "code",
   "execution_count": 64,
   "metadata": {},
   "outputs": [
    {
     "data": {
      "text/plain": [
       "41"
      ]
     },
     "execution_count": 64,
     "metadata": {},
     "output_type": "execute_result"
    }
   ],
   "source": [
    "unique_rest_per_area.query('area.isna()').shape[0]"
   ]
  },
  {
   "cell_type": "markdown",
   "metadata": {},
   "source": [
    "Вместо 109 осталась 41 пустая строчка:"
   ]
  },
  {
   "cell_type": "code",
   "execution_count": 65,
   "metadata": {},
   "outputs": [
    {
     "data": {
      "text/html": [
       "<div>\n",
       "<style scoped>\n",
       "    .dataframe tbody tr th:only-of-type {\n",
       "        vertical-align: middle;\n",
       "    }\n",
       "\n",
       "    .dataframe tbody tr th {\n",
       "        vertical-align: top;\n",
       "    }\n",
       "\n",
       "    .dataframe thead th {\n",
       "        text-align: right;\n",
       "    }\n",
       "</style>\n",
       "<table border=\"1\" class=\"dataframe\">\n",
       "  <thead>\n",
       "    <tr style=\"text-align: right;\">\n",
       "      <th></th>\n",
       "      <th>street</th>\n",
       "      <th>area</th>\n",
       "    </tr>\n",
       "  </thead>\n",
       "  <tbody>\n",
       "    <tr>\n",
       "      <td>28</td>\n",
       "      <td>улица Старые Кузьминки</td>\n",
       "      <td>NaN</td>\n",
       "    </tr>\n",
       "    <tr>\n",
       "      <td>86</td>\n",
       "      <td>26-й километр Московской Кольцевой Автодороги</td>\n",
       "      <td>NaN</td>\n",
       "    </tr>\n",
       "    <tr>\n",
       "      <td>95</td>\n",
       "      <td>улица Высоцкого</td>\n",
       "      <td>NaN</td>\n",
       "    </tr>\n",
       "    <tr>\n",
       "      <td>104</td>\n",
       "      <td>улица Льва Яшина</td>\n",
       "      <td>NaN</td>\n",
       "    </tr>\n",
       "    <tr>\n",
       "      <td>151</td>\n",
       "      <td>104-й километр Московской Кольцевой Автодороги</td>\n",
       "      <td>NaN</td>\n",
       "    </tr>\n",
       "    <tr>\n",
       "      <td>158</td>\n",
       "      <td>улица Недорубова</td>\n",
       "      <td>NaN</td>\n",
       "    </tr>\n",
       "    <tr>\n",
       "      <td>183</td>\n",
       "      <td>улица Капотня</td>\n",
       "      <td>NaN</td>\n",
       "    </tr>\n",
       "    <tr>\n",
       "      <td>406</td>\n",
       "      <td>Пыжёвский переулок</td>\n",
       "      <td>NaN</td>\n",
       "    </tr>\n",
       "    <tr>\n",
       "      <td>523</td>\n",
       "      <td>34-й километр Московской Кольцевой Автодороги</td>\n",
       "      <td>NaN</td>\n",
       "    </tr>\n",
       "    <tr>\n",
       "      <td>530</td>\n",
       "      <td>31-й километр Московской Кольцевой Автодороги</td>\n",
       "      <td>NaN</td>\n",
       "    </tr>\n",
       "    <tr>\n",
       "      <td>534</td>\n",
       "      <td>30-й километр Московской Кольцевой Автодороги</td>\n",
       "      <td>NaN</td>\n",
       "    </tr>\n",
       "    <tr>\n",
       "      <td>544</td>\n",
       "      <td>3-я Подрезковская улица</td>\n",
       "      <td>NaN</td>\n",
       "    </tr>\n",
       "    <tr>\n",
       "      <td>549</td>\n",
       "      <td>38-й километр Московской Кольцевой Автодороги</td>\n",
       "      <td>NaN</td>\n",
       "    </tr>\n",
       "    <tr>\n",
       "      <td>556</td>\n",
       "      <td>проектируемый проезд № 1980</td>\n",
       "      <td>NaN</td>\n",
       "    </tr>\n",
       "    <tr>\n",
       "      <td>559</td>\n",
       "      <td>42-й километр Московской Кольцевой Автодороги</td>\n",
       "      <td>NaN</td>\n",
       "    </tr>\n",
       "    <tr>\n",
       "      <td>574</td>\n",
       "      <td>56-й километр Московской Кольцевой Автодороги</td>\n",
       "      <td>NaN</td>\n",
       "    </tr>\n",
       "    <tr>\n",
       "      <td>579</td>\n",
       "      <td>город Троицк, Пионерская улица</td>\n",
       "      <td>NaN</td>\n",
       "    </tr>\n",
       "    <tr>\n",
       "      <td>580</td>\n",
       "      <td>город Троицк, Троицкий бульвар</td>\n",
       "      <td>NaN</td>\n",
       "    </tr>\n",
       "    <tr>\n",
       "      <td>581</td>\n",
       "      <td>город Троицк, Физическая улица</td>\n",
       "      <td>NaN</td>\n",
       "    </tr>\n",
       "    <tr>\n",
       "      <td>582</td>\n",
       "      <td>город Троицк, Юбилейная улица</td>\n",
       "      <td>NaN</td>\n",
       "    </tr>\n",
       "  </tbody>\n",
       "</table>\n",
       "</div>"
      ],
      "text/plain": [
       "                                             street area\n",
       "28                           улица Старые Кузьминки  NaN\n",
       "86    26-й километр Московской Кольцевой Автодороги  NaN\n",
       "95                                  улица Высоцкого  NaN\n",
       "104                                улица Льва Яшина  NaN\n",
       "151  104-й километр Московской Кольцевой Автодороги  NaN\n",
       "158                                улица Недорубова  NaN\n",
       "183                                   улица Капотня  NaN\n",
       "406                              Пыжёвский переулок  NaN\n",
       "523   34-й километр Московской Кольцевой Автодороги  NaN\n",
       "530   31-й километр Московской Кольцевой Автодороги  NaN\n",
       "534   30-й километр Московской Кольцевой Автодороги  NaN\n",
       "544                         3-я Подрезковская улица  NaN\n",
       "549   38-й километр Московской Кольцевой Автодороги  NaN\n",
       "556                     проектируемый проезд № 1980  NaN\n",
       "559   42-й километр Московской Кольцевой Автодороги  NaN\n",
       "574   56-й километр Московской Кольцевой Автодороги  NaN\n",
       "579                  город Троицк, Пионерская улица  NaN\n",
       "580                  город Троицк, Троицкий бульвар  NaN\n",
       "581                  город Троицк, Физическая улица  NaN\n",
       "582                   город Троицк, Юбилейная улица  NaN"
      ]
     },
     "execution_count": 65,
     "metadata": {},
     "output_type": "execute_result"
    }
   ],
   "source": [
    "unique_rest_per_area.query('area.isna()').head(20)"
   ]
  },
  {
   "cell_type": "markdown",
   "metadata": {},
   "source": [
    "С городами можно поступить так же, как и с поселениями:"
   ]
  },
  {
   "cell_type": "code",
   "execution_count": 66,
   "metadata": {},
   "outputs": [],
   "source": [
    "unique_rest_per_area.loc[unique_rest_per_area['area'].isna() &\\\n",
    "                         unique_rest_per_area['street'].str.contains(\"город\"), 'area'] =\\\n",
    "                         unique_rest_per_area.apply(lambda row: extract(row['street'], \"\", \",\"), axis = 1)"
   ]
  },
  {
   "cell_type": "code",
   "execution_count": 67,
   "metadata": {},
   "outputs": [
    {
     "data": {
      "text/plain": [
       "22"
      ]
     },
     "execution_count": 67,
     "metadata": {},
     "output_type": "execute_result"
    }
   ],
   "source": [
    "unique_rest_per_area.query('area.isna()').shape[0]"
   ]
  },
  {
   "cell_type": "markdown",
   "metadata": {},
   "source": [
    "Осталось всего 22 незаполненных ячейки, что уже непринципиально для дальнейшего анализа (при желании можно было бы указать районы вручную), поэтому удалим их из таблицы:"
   ]
  },
  {
   "cell_type": "code",
   "execution_count": 68,
   "metadata": {},
   "outputs": [],
   "source": [
    "unique_rest_per_area = unique_rest_per_area.query('~area.isna()')"
   ]
  },
  {
   "cell_type": "code",
   "execution_count": 69,
   "metadata": {},
   "outputs": [
    {
     "data": {
      "text/plain": [
       "651"
      ]
     },
     "execution_count": 69,
     "metadata": {},
     "output_type": "execute_result"
    }
   ],
   "source": [
    "unique_rest_per_area.shape[0]"
   ]
  },
  {
   "cell_type": "markdown",
   "metadata": {},
   "source": [
    "Посмотрим, в каких районах чаще всего встречаются улицы с единственным заведением общепита:"
   ]
  },
  {
   "cell_type": "code",
   "execution_count": 70,
   "metadata": {},
   "outputs": [
    {
     "data": {
      "text/html": [
       "<div>\n",
       "<style scoped>\n",
       "    .dataframe tbody tr th:only-of-type {\n",
       "        vertical-align: middle;\n",
       "    }\n",
       "\n",
       "    .dataframe tbody tr th {\n",
       "        vertical-align: top;\n",
       "    }\n",
       "\n",
       "    .dataframe thead th {\n",
       "        text-align: right;\n",
       "    }\n",
       "</style>\n",
       "<table border=\"1\" class=\"dataframe\">\n",
       "  <thead>\n",
       "    <tr style=\"text-align: right;\">\n",
       "      <th></th>\n",
       "      <th>area</th>\n",
       "      <th>num_streets</th>\n",
       "    </tr>\n",
       "  </thead>\n",
       "  <tbody>\n",
       "    <tr>\n",
       "      <td>95</td>\n",
       "      <td>Таганский район</td>\n",
       "      <td>27</td>\n",
       "    </tr>\n",
       "    <tr>\n",
       "      <td>81</td>\n",
       "      <td>Район Хамовники</td>\n",
       "      <td>26</td>\n",
       "    </tr>\n",
       "    <tr>\n",
       "      <td>3</td>\n",
       "      <td>Басманный район</td>\n",
       "      <td>25</td>\n",
       "    </tr>\n",
       "    <tr>\n",
       "      <td>20</td>\n",
       "      <td>Пресненский район</td>\n",
       "      <td>20</td>\n",
       "    </tr>\n",
       "    <tr>\n",
       "      <td>96</td>\n",
       "      <td>Тверской район</td>\n",
       "      <td>20</td>\n",
       "    </tr>\n",
       "    <tr>\n",
       "      <td>51</td>\n",
       "      <td>Район Марьина роща</td>\n",
       "      <td>18</td>\n",
       "    </tr>\n",
       "    <tr>\n",
       "      <td>21</td>\n",
       "      <td>Район Арбат</td>\n",
       "      <td>18</td>\n",
       "    </tr>\n",
       "    <tr>\n",
       "      <td>13</td>\n",
       "      <td>Мещанский район</td>\n",
       "      <td>15</td>\n",
       "    </tr>\n",
       "    <tr>\n",
       "      <td>75</td>\n",
       "      <td>Район Сокольники</td>\n",
       "      <td>15</td>\n",
       "    </tr>\n",
       "    <tr>\n",
       "      <td>33</td>\n",
       "      <td>Район Замоскворечье</td>\n",
       "      <td>14</td>\n",
       "    </tr>\n",
       "  </tbody>\n",
       "</table>\n",
       "</div>"
      ],
      "text/plain": [
       "                   area  num_streets\n",
       "95      Таганский район           27\n",
       "81      Район Хамовники           26\n",
       "3       Басманный район           25\n",
       "20    Пресненский район           20\n",
       "96       Тверской район           20\n",
       "51   Район Марьина роща           18\n",
       "21          Район Арбат           18\n",
       "13      Мещанский район           15\n",
       "75     Район Сокольники           15\n",
       "33  Район Замоскворечье           14"
      ]
     },
     "execution_count": 70,
     "metadata": {},
     "output_type": "execute_result"
    }
   ],
   "source": [
    "unique_rest_per_area.groupby(by = 'area').agg({'street':'count'}).reset_index()\\\n",
    "                    .sort_values(by = 'street', ascending = False).rename(columns = {'street':'num_streets'}).head(10)"
   ]
  },
  {
   "cell_type": "markdown",
   "metadata": {},
   "source": [
    "Все указанные районы располагаются в самом центре Москвы. Вероятно, этот феномен можно обосновать тем, что в центре сохранилось много коротких улиц."
   ]
  },
  {
   "cell_type": "markdown",
   "metadata": {},
   "source": [
    "### **Распределение количества посадочных мест для улиц с большим количеством объектов общественного питания** <a name=\"num_top10\"></a>"
   ]
  },
  {
   "cell_type": "markdown",
   "metadata": {},
   "source": [
    "Посмотрим на топ-10 улиц по количеству заведений общепита с точки зрения числа посадочных мест:"
   ]
  },
  {
   "cell_type": "code",
   "execution_count": 71,
   "metadata": {},
   "outputs": [
    {
     "data": {
      "text/plain": [
       "1496"
      ]
     },
     "execution_count": 71,
     "metadata": {},
     "output_type": "execute_result"
    }
   ],
   "source": [
    "rest.query('street in @top_str.street').shape[0]"
   ]
  },
  {
   "cell_type": "code",
   "execution_count": 72,
   "metadata": {},
   "outputs": [
    {
     "data": {
      "image/png": "[encoded data removed]",
      "text/plain": [
       "<Figure size 864x576 with 1 Axes>"
      ]
     },
     "metadata": {
      "needs_background": "light"
     },
     "output_type": "display_data"
    }
   ],
   "source": [
    "plt.figure(figsize=(12, 8))\n",
    "fig = sns.distplot(rest.query('street in @top_str.street')['number'], bins = 100, kde = False)\n",
    "fig.set_title(\"Количество мест в сетевых заведениях на улицах из топ-10\", fontsize = 20)\n",
    "fig.set_xlabel(\"Число посадочных мест\", fontsize = 15)\n",
    "fig.set_ylabel(\"Число заведений\", fontsize = 15)\n",
    "plt.xlim(0,500)\n",
    "plt.show()"
   ]
  },
  {
   "cell_type": "markdown",
   "metadata": {},
   "source": [
    "Из полутора тысяч таких заведений основная часть приходится на точки, в которых до 50 мест."
   ]
  },
  {
   "cell_type": "code",
   "execution_count": 73,
   "metadata": {},
   "outputs": [
    {
     "data": {
      "image/png": "[encoded data removed]",
      "text/plain": [
       "<Figure size 864x576 with 1 Axes>"
      ]
     },
     "metadata": {
      "needs_background": "light"
     },
     "output_type": "display_data"
    }
   ],
   "source": [
    "plt.figure(figsize=(12, 8))\n",
    "fig = sns.boxplot(x='street', y=\"number\", data=rest.query('street in @top_str.street'))\n",
    "fig.set_title(\"Распределение числа мест в сетевых заведениях на улицах из топ-10\", fontsize = 20)\n",
    "fig.set_xlabel(\"Улица\", fontsize = 15)\n",
    "fig.set_ylabel(\"Число посадочных мест\", fontsize = 15)\n",
    "fig.set_xticklabels(fig.get_xticklabels(), rotation=45)\n",
    "plt.ylim(0,500)\n",
    "plt.show()"
   ]
  },
  {
   "cell_type": "markdown",
   "metadata": {},
   "source": [
    "В разрезе улиц из топ-10 распределения числа посадочных мест не сильно отличаются друг от друга. Чуть выше медиана и третий квартиль у заведений на Кутузовском, Ленинском проспекте и проспекте Мира. Более компактные рестораны находятся на Варшавском шоссе и Пресненской набережной."
   ]
  },
  {
   "cell_type": "markdown",
   "metadata": {},
   "source": [
    "# Вывод и рекомендации <a name=\"conclusion\"></a>"
   ]
  },
  {
   "cell_type": "markdown",
   "metadata": {},
   "source": [
    "Подавляющее большинство заведений общепита в Москве - это кафе, доля которых составляет около 40% (6000 из 15 300). За ними расположились столовые и заведения фастфуда (примерно по 15%). Доля прочих заведений совсем незначительна. При этом несмотря на меньшую популярность столовых, они лидируют по количеству посадочных мест (36%, примерно 337 000 из 914 000), затем кафе (26%) и рестораны (24%). Такой перекос в сторону столовых можно объяснить тем, что они, как правило, располагаются рядом с крупными предприятиями или учебными заведениями, что обуславливает большой приток посетителей, желающих недорого поесть.\n",
    "\n",
    "Встречаются заведения и совсем без посадочных мест. Наиболее характерно это для совсем мелких точек фастфуда и закусочных, а также некоторых кафе. Кроме того, что часть заведений может располагаться на фуд-корте в ТЦ, где посадочные места не привязаны к какому-либо конкретному ресторану, либо спецификой заведения (готовят только под доставку).\n",
    "\n",
    "Несетевые заведение преобладают над сетевыми как по общему количеству (12 300 против 2 900, в 4,1 раза), так и по числу посадочных мест (756 000 против 157 000, в 4,8 раз). Среди несетевых точек больше всего кафе, заведений фастфуда и ресторанов, а среди сетевых - кафе, столовых и ресторанов. Среди сетевых заведений преобладают точки с небольшим (до 50) числом посадочных мест.\n",
    "\n",
    "В среднем наибольшее число посадочных мест предлагают столовые и рестораны, несмотря на распространенность кафе в абсолютном выражении.\n",
    "\n",
    "Улицы из топ-10 по числу заведений довольно протяженные и проходят через несколько районов, что и обуславливает их лидирующие позиции. Эти районы расположены не в историческом центре Москвы, однако в большинстве и не на окраинах (Тропарево-Никулино, Раменки, Беговой, Аэропорт, Дорогомилово, Фили-Давыдково, Гагаринский, Ломоносовский и пр.). Встречаются и удаленные от центра районы (Чертаново, Бутово, Теплый Стан и пр.). Из полутора тысяч таких заведений основная масса представляет собой небольшие кафе с числом посадочных мест до 50 (вероятно, аренда обходится довольно дорого). Несколько более вместительные заведения находятся на Кутузовском, Ленинском проспекте и проспекте Мира. В среднем меньше посадочных мест в точках на Варшавском шоссе и Пресненской набережной.\n",
    "\n",
    "Улицы, на которых располагается только один объект общественного питания, напротив, находятся в историческом центре: Таганский район, Хамовники, Пресненский, Тверской, Арбат и пр. Причина - непродолжительная длина центральных улиц.\n",
    "\n",
    "---\n",
    "На основании проведенного анализа можно сделать следующие выводы и рекомендации:\n",
    "\n",
    "- полученной информации явно недостаточно, чтобы делать выводы о рентабельности открываемой точки. Такие важные факторы, как проходимость места, наличие рядом крупных бизнес- и офисных центров, достопримечательностей, привлекающих туристов каждый год, отелей и т.п., остались неохваченными. Также недостает данных в части стоимости аренды помещений, среднего чека заведений.\n",
    "- открытие типичного для центра небольшого кафе на 30-40 мест могло бы осуществиться с расчетом в первую очередь на туристов. Поскольку поток будет состоять преимущественно не из постоянных клиентов, необычная идея с роботами-официантами будет привлекать все новых любопытных посетителей. Возможно, с помощью рекламы в путеводителях и на туристических сайтах удастся обеспечить высокую посещаемость. В этом случае следует учесть высокие первоначальные затраты (вложение в оформление заведения - столовая неуместна в элитном месте), а также большую стоимость аренды. Также необходимо внимательно отнестись к выбору адреса: многие улицы в центре короткие, и расположение поблизости нескольких конкурентов может не позволить заведению окупиться. \n",
    "- выбор места на одной из топовых улиц может быть экономически обусловлен, даже несмотря на конкуренцию. Как один из вариантов можно рассмотреть деловой центр \"Москва-Сити\" на Пресненской набережной. Огромное количество бизнес-центров обеспечит солидный приток посетителей даже при высокой концентрации кафе и ресторанов, а креативная идея использования роботов-официантов подходит концепции самого современного и инновационного района столицы.\n"
   ]
  }
 ],
 "metadata": {
  "kernelspec": {
   "display_name": "Python 3",
   "language": "python",
   "name": "python3"
  },
  "language_info": {
   "codemirror_mode": {
    "name": "ipython",
    "version": 3
   },
   "file_extension": ".py",
   "mimetype": "text/x-python",
   "name": "python",
   "nbconvert_exporter": "python",
   "pygments_lexer": "ipython3",
   "version": "3.7.7"
  },
  "toc": {
   "base_numbering": 1,
   "nav_menu": {},
   "number_sections": false,
   "sideBar": true,
   "skip_h1_title": false,
   "title_cell": "Table of Contents",
   "title_sidebar": "Contents",
   "toc_cell": false,
   "toc_position": {
    "height": "calc(100% - 180px)",
    "left": "10px",
    "top": "150px",
    "width": "165px"
   },
   "toc_section_display": true,
   "toc_window_display": true
  }
 },
 "nbformat": 4,
 "nbformat_minor": 2
}
