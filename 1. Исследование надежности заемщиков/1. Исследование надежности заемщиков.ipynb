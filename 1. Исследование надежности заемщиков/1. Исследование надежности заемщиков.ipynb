{
 "cells": [
  {
   "cell_type": "markdown",
   "metadata": {},
   "source": [
    "## Исследование надёжности заёмщиков\n",
    "\n",
    "Заказчик — кредитный отдел банка. Нужно разобраться, влияет ли семейное положение и количество детей клиента на факт погашения кредита в срок. Входные данные от банка — статистика о платёжеспособности клиентов.\n",
    "\n",
    "Результаты исследования будут учтены при построении модели **кредитного скоринга** — специальной системы, которая оценивает способность потенциального заёмщика вернуть кредит банку."
   ]
  },
  {
   "cell_type": "markdown",
   "metadata": {},
   "source": [
    "**Цель проекта** - исследование данных о клиентах банка для получения информации о том, влияют ли на отсутствие просроченной задолженности различные параметры:\n",
    "- цель кредита \n",
    "- ежемесячный доход заемщика\n",
    "- его семейное положение\n",
    "- количество детей\n",
    "\n",
    "Массив данных о заемщиках содержит в себе информацию о возрасте клиента, его трудовом стаже, образовании, семейном положении, доходе, количестве детей, типе занятости, ежемесячном доходе, факте наличия просроченной задолженности, цели кредитования.\n",
    "\n",
    "Чтобы дать ответ на поставленные вопросы, сперва требуется обработать данные для дальнейшей работы с ними. Для этого решается ряд **задач**:\n",
    "\n",
    "- заполнение пропусков в столбцах \n",
    "- изменение типа данных в столбцах\n",
    "- обработка дубликатов: проведение проверки, повторяются ли в таблице одинаковые заемщики; изменение регистра в столбцах \n",
    "- категоризация (по целям кредитования, доходу, количеству детей)"
   ]
  },
  {
   "cell_type": "markdown",
   "metadata": {},
   "source": [
    "## Содержание\n",
    "\n",
    "[Обзор данных](#review)\n",
    "\n",
    "[Предобработка данных](#pretreatment)\n",
    "\n",
    "- [Обработка пропусков](#omissions)\n",
    "\n",
    "- [Замена типов данных](#substitution)\n",
    "\n",
    "- [Обработка дубликатов](#duplicate_handling)\n",
    "\n",
    "- [Лемматизация](#lemmatization)\n",
    "\n",
    "- [Категоризация данных](#categorization)\n",
    "\n",
    "[Ответы на поставленные вопросы](#answers)\n",
    "\n",
    "[Общий вывод исследования](#conclusion)\n",
    "\n"
   ]
  },
  {
   "cell_type": "markdown",
   "metadata": {},
   "source": [
    "### Изучение общей информации <a name=\"review\"></a>"
   ]
  },
  {
   "cell_type": "markdown",
   "metadata": {},
   "source": [
    "Импорт библиотек, которые потребуются для выполнения исследования:"
   ]
  },
  {
   "cell_type": "code",
   "execution_count": 1,
   "metadata": {},
   "outputs": [],
   "source": [
    "import pandas as pd\n",
    "from pymystem3 import Mystem"
   ]
  },
  {
   "cell_type": "markdown",
   "metadata": {},
   "source": [
    "Считывание файла с данными в датафрейм **borrowers**:"
   ]
  },
  {
   "cell_type": "code",
   "execution_count": 3,
   "metadata": {},
   "outputs": [],
   "source": [
    "borrowers = pd.read_csv('/datasets/data.csv')"
   ]
  },
  {
   "cell_type": "markdown",
   "metadata": {},
   "source": [
    "Получение данных о первых 15 строках таблицы:"
   ]
  },
  {
   "cell_type": "code",
   "execution_count": 4,
   "metadata": {},
   "outputs": [
    {
     "data": {
      "text/html": [
       "<div>\n",
       "<style scoped>\n",
       "    .dataframe tbody tr th:only-of-type {\n",
       "        vertical-align: middle;\n",
       "    }\n",
       "\n",
       "    .dataframe tbody tr th {\n",
       "        vertical-align: top;\n",
       "    }\n",
       "\n",
       "    .dataframe thead th {\n",
       "        text-align: right;\n",
       "    }\n",
       "</style>\n",
       "<table border=\"1\" class=\"dataframe\">\n",
       "  <thead>\n",
       "    <tr style=\"text-align: right;\">\n",
       "      <th></th>\n",
       "      <th>children</th>\n",
       "      <th>days_employed</th>\n",
       "      <th>dob_years</th>\n",
       "      <th>education</th>\n",
       "      <th>education_id</th>\n",
       "      <th>family_status</th>\n",
       "      <th>family_status_id</th>\n",
       "      <th>gender</th>\n",
       "      <th>income_type</th>\n",
       "      <th>debt</th>\n",
       "      <th>total_income</th>\n",
       "      <th>purpose</th>\n",
       "    </tr>\n",
       "  </thead>\n",
       "  <tbody>\n",
       "    <tr>\n",
       "      <td>0</td>\n",
       "      <td>1</td>\n",
       "      <td>-8437.673028</td>\n",
       "      <td>42</td>\n",
       "      <td>высшее</td>\n",
       "      <td>0</td>\n",
       "      <td>женат / замужем</td>\n",
       "      <td>0</td>\n",
       "      <td>F</td>\n",
       "      <td>сотрудник</td>\n",
       "      <td>0</td>\n",
       "      <td>253875.639453</td>\n",
       "      <td>покупка жилья</td>\n",
       "    </tr>\n",
       "    <tr>\n",
       "      <td>1</td>\n",
       "      <td>1</td>\n",
       "      <td>-4024.803754</td>\n",
       "      <td>36</td>\n",
       "      <td>среднее</td>\n",
       "      <td>1</td>\n",
       "      <td>женат / замужем</td>\n",
       "      <td>0</td>\n",
       "      <td>F</td>\n",
       "      <td>сотрудник</td>\n",
       "      <td>0</td>\n",
       "      <td>112080.014102</td>\n",
       "      <td>приобретение автомобиля</td>\n",
       "    </tr>\n",
       "    <tr>\n",
       "      <td>2</td>\n",
       "      <td>0</td>\n",
       "      <td>-5623.422610</td>\n",
       "      <td>33</td>\n",
       "      <td>Среднее</td>\n",
       "      <td>1</td>\n",
       "      <td>женат / замужем</td>\n",
       "      <td>0</td>\n",
       "      <td>M</td>\n",
       "      <td>сотрудник</td>\n",
       "      <td>0</td>\n",
       "      <td>145885.952297</td>\n",
       "      <td>покупка жилья</td>\n",
       "    </tr>\n",
       "    <tr>\n",
       "      <td>3</td>\n",
       "      <td>3</td>\n",
       "      <td>-4124.747207</td>\n",
       "      <td>32</td>\n",
       "      <td>среднее</td>\n",
       "      <td>1</td>\n",
       "      <td>женат / замужем</td>\n",
       "      <td>0</td>\n",
       "      <td>M</td>\n",
       "      <td>сотрудник</td>\n",
       "      <td>0</td>\n",
       "      <td>267628.550329</td>\n",
       "      <td>дополнительное образование</td>\n",
       "    </tr>\n",
       "    <tr>\n",
       "      <td>4</td>\n",
       "      <td>0</td>\n",
       "      <td>340266.072047</td>\n",
       "      <td>53</td>\n",
       "      <td>среднее</td>\n",
       "      <td>1</td>\n",
       "      <td>гражданский брак</td>\n",
       "      <td>1</td>\n",
       "      <td>F</td>\n",
       "      <td>пенсионер</td>\n",
       "      <td>0</td>\n",
       "      <td>158616.077870</td>\n",
       "      <td>сыграть свадьбу</td>\n",
       "    </tr>\n",
       "    <tr>\n",
       "      <td>5</td>\n",
       "      <td>0</td>\n",
       "      <td>-926.185831</td>\n",
       "      <td>27</td>\n",
       "      <td>высшее</td>\n",
       "      <td>0</td>\n",
       "      <td>гражданский брак</td>\n",
       "      <td>1</td>\n",
       "      <td>M</td>\n",
       "      <td>компаньон</td>\n",
       "      <td>0</td>\n",
       "      <td>255763.565419</td>\n",
       "      <td>покупка жилья</td>\n",
       "    </tr>\n",
       "    <tr>\n",
       "      <td>6</td>\n",
       "      <td>0</td>\n",
       "      <td>-2879.202052</td>\n",
       "      <td>43</td>\n",
       "      <td>высшее</td>\n",
       "      <td>0</td>\n",
       "      <td>женат / замужем</td>\n",
       "      <td>0</td>\n",
       "      <td>F</td>\n",
       "      <td>компаньон</td>\n",
       "      <td>0</td>\n",
       "      <td>240525.971920</td>\n",
       "      <td>операции с жильем</td>\n",
       "    </tr>\n",
       "    <tr>\n",
       "      <td>7</td>\n",
       "      <td>0</td>\n",
       "      <td>-152.779569</td>\n",
       "      <td>50</td>\n",
       "      <td>СРЕДНЕЕ</td>\n",
       "      <td>1</td>\n",
       "      <td>женат / замужем</td>\n",
       "      <td>0</td>\n",
       "      <td>M</td>\n",
       "      <td>сотрудник</td>\n",
       "      <td>0</td>\n",
       "      <td>135823.934197</td>\n",
       "      <td>образование</td>\n",
       "    </tr>\n",
       "    <tr>\n",
       "      <td>8</td>\n",
       "      <td>2</td>\n",
       "      <td>-6929.865299</td>\n",
       "      <td>35</td>\n",
       "      <td>ВЫСШЕЕ</td>\n",
       "      <td>0</td>\n",
       "      <td>гражданский брак</td>\n",
       "      <td>1</td>\n",
       "      <td>F</td>\n",
       "      <td>сотрудник</td>\n",
       "      <td>0</td>\n",
       "      <td>95856.832424</td>\n",
       "      <td>на проведение свадьбы</td>\n",
       "    </tr>\n",
       "    <tr>\n",
       "      <td>9</td>\n",
       "      <td>0</td>\n",
       "      <td>-2188.756445</td>\n",
       "      <td>41</td>\n",
       "      <td>среднее</td>\n",
       "      <td>1</td>\n",
       "      <td>женат / замужем</td>\n",
       "      <td>0</td>\n",
       "      <td>M</td>\n",
       "      <td>сотрудник</td>\n",
       "      <td>0</td>\n",
       "      <td>144425.938277</td>\n",
       "      <td>покупка жилья для семьи</td>\n",
       "    </tr>\n",
       "    <tr>\n",
       "      <td>10</td>\n",
       "      <td>2</td>\n",
       "      <td>-4171.483647</td>\n",
       "      <td>36</td>\n",
       "      <td>высшее</td>\n",
       "      <td>0</td>\n",
       "      <td>женат / замужем</td>\n",
       "      <td>0</td>\n",
       "      <td>M</td>\n",
       "      <td>компаньон</td>\n",
       "      <td>0</td>\n",
       "      <td>113943.491460</td>\n",
       "      <td>покупка недвижимости</td>\n",
       "    </tr>\n",
       "    <tr>\n",
       "      <td>11</td>\n",
       "      <td>0</td>\n",
       "      <td>-792.701887</td>\n",
       "      <td>40</td>\n",
       "      <td>среднее</td>\n",
       "      <td>1</td>\n",
       "      <td>женат / замужем</td>\n",
       "      <td>0</td>\n",
       "      <td>F</td>\n",
       "      <td>сотрудник</td>\n",
       "      <td>0</td>\n",
       "      <td>77069.234271</td>\n",
       "      <td>покупка коммерческой недвижимости</td>\n",
       "    </tr>\n",
       "    <tr>\n",
       "      <td>12</td>\n",
       "      <td>0</td>\n",
       "      <td>NaN</td>\n",
       "      <td>65</td>\n",
       "      <td>среднее</td>\n",
       "      <td>1</td>\n",
       "      <td>гражданский брак</td>\n",
       "      <td>1</td>\n",
       "      <td>M</td>\n",
       "      <td>пенсионер</td>\n",
       "      <td>0</td>\n",
       "      <td>NaN</td>\n",
       "      <td>сыграть свадьбу</td>\n",
       "    </tr>\n",
       "    <tr>\n",
       "      <td>13</td>\n",
       "      <td>0</td>\n",
       "      <td>-1846.641941</td>\n",
       "      <td>54</td>\n",
       "      <td>неоконченное высшее</td>\n",
       "      <td>2</td>\n",
       "      <td>женат / замужем</td>\n",
       "      <td>0</td>\n",
       "      <td>F</td>\n",
       "      <td>сотрудник</td>\n",
       "      <td>0</td>\n",
       "      <td>130458.228857</td>\n",
       "      <td>приобретение автомобиля</td>\n",
       "    </tr>\n",
       "    <tr>\n",
       "      <td>14</td>\n",
       "      <td>0</td>\n",
       "      <td>-1844.956182</td>\n",
       "      <td>56</td>\n",
       "      <td>высшее</td>\n",
       "      <td>0</td>\n",
       "      <td>гражданский брак</td>\n",
       "      <td>1</td>\n",
       "      <td>F</td>\n",
       "      <td>компаньон</td>\n",
       "      <td>1</td>\n",
       "      <td>165127.911772</td>\n",
       "      <td>покупка жилой недвижимости</td>\n",
       "    </tr>\n",
       "  </tbody>\n",
       "</table>\n",
       "</div>"
      ],
      "text/plain": [
       "    children  days_employed  dob_years            education  education_id  \\\n",
       "0          1   -8437.673028         42               высшее             0   \n",
       "1          1   -4024.803754         36              среднее             1   \n",
       "2          0   -5623.422610         33              Среднее             1   \n",
       "3          3   -4124.747207         32              среднее             1   \n",
       "4          0  340266.072047         53              среднее             1   \n",
       "5          0    -926.185831         27               высшее             0   \n",
       "6          0   -2879.202052         43               высшее             0   \n",
       "7          0    -152.779569         50              СРЕДНЕЕ             1   \n",
       "8          2   -6929.865299         35               ВЫСШЕЕ             0   \n",
       "9          0   -2188.756445         41              среднее             1   \n",
       "10         2   -4171.483647         36               высшее             0   \n",
       "11         0    -792.701887         40              среднее             1   \n",
       "12         0            NaN         65              среднее             1   \n",
       "13         0   -1846.641941         54  неоконченное высшее             2   \n",
       "14         0   -1844.956182         56               высшее             0   \n",
       "\n",
       "       family_status  family_status_id gender income_type  debt  \\\n",
       "0    женат / замужем                 0      F   сотрудник     0   \n",
       "1    женат / замужем                 0      F   сотрудник     0   \n",
       "2    женат / замужем                 0      M   сотрудник     0   \n",
       "3    женат / замужем                 0      M   сотрудник     0   \n",
       "4   гражданский брак                 1      F   пенсионер     0   \n",
       "5   гражданский брак                 1      M   компаньон     0   \n",
       "6    женат / замужем                 0      F   компаньон     0   \n",
       "7    женат / замужем                 0      M   сотрудник     0   \n",
       "8   гражданский брак                 1      F   сотрудник     0   \n",
       "9    женат / замужем                 0      M   сотрудник     0   \n",
       "10   женат / замужем                 0      M   компаньон     0   \n",
       "11   женат / замужем                 0      F   сотрудник     0   \n",
       "12  гражданский брак                 1      M   пенсионер     0   \n",
       "13   женат / замужем                 0      F   сотрудник     0   \n",
       "14  гражданский брак                 1      F   компаньон     1   \n",
       "\n",
       "     total_income                            purpose  \n",
       "0   253875.639453                      покупка жилья  \n",
       "1   112080.014102            приобретение автомобиля  \n",
       "2   145885.952297                      покупка жилья  \n",
       "3   267628.550329         дополнительное образование  \n",
       "4   158616.077870                    сыграть свадьбу  \n",
       "5   255763.565419                      покупка жилья  \n",
       "6   240525.971920                  операции с жильем  \n",
       "7   135823.934197                        образование  \n",
       "8    95856.832424              на проведение свадьбы  \n",
       "9   144425.938277            покупка жилья для семьи  \n",
       "10  113943.491460               покупка недвижимости  \n",
       "11   77069.234271  покупка коммерческой недвижимости  \n",
       "12            NaN                    сыграть свадьбу  \n",
       "13  130458.228857            приобретение автомобиля  \n",
       "14  165127.911772         покупка жилой недвижимости  "
      ]
     },
     "execution_count": 4,
     "metadata": {},
     "output_type": "execute_result"
    }
   ],
   "source": [
    "borrowers.head(15)"
   ]
  },
  {
   "cell_type": "markdown",
   "metadata": {},
   "source": [
    "Общая информация о данных таблицы:"
   ]
  },
  {
   "cell_type": "code",
   "execution_count": 5,
   "metadata": {},
   "outputs": [
    {
     "name": "stdout",
     "output_type": "stream",
     "text": [
      "<class 'pandas.core.frame.DataFrame'>\n",
      "RangeIndex: 21525 entries, 0 to 21524\n",
      "Data columns (total 12 columns):\n",
      "children            21525 non-null int64\n",
      "days_employed       19351 non-null float64\n",
      "dob_years           21525 non-null int64\n",
      "education           21525 non-null object\n",
      "education_id        21525 non-null int64\n",
      "family_status       21525 non-null object\n",
      "family_status_id    21525 non-null int64\n",
      "gender              21525 non-null object\n",
      "income_type         21525 non-null object\n",
      "debt                21525 non-null int64\n",
      "total_income        19351 non-null float64\n",
      "purpose             21525 non-null object\n",
      "dtypes: float64(2), int64(5), object(5)\n",
      "memory usage: 2.0+ MB\n"
     ]
    }
   ],
   "source": [
    "borrowers.info()"
   ]
  },
  {
   "cell_type": "markdown",
   "metadata": {},
   "source": [
    "Рассмотрим полученную информацию.\n",
    "\n",
    "В таблице 12 столбцов:\n",
    "\n",
    "- **children** — количество детей в семье / целочисл. тип данных\n",
    "- **days_employed** — общий трудовой стаж в днях / числа с плав.точкой\n",
    "- **dob_years** — возраст клиента в годах / целочисл. тип данных \n",
    "- **education** — уровень образования клиента / строковый тип данных\n",
    "- **education_id** — идентификатор уровня образования / целочисл. тип данных\n",
    "- **family_status** — семейное положение / строковый тип данных\n",
    "- **family_status_id** — идентификатор семейного положения / целочисл. тип данных\n",
    "- **gender** — пол клиента / строковый тип данных\n",
    "- **income_type** — тип занятости / строковый тип данных\n",
    "- **debt** — имел ли задолженность по возврату кредитов / целочисл. тип данных\n",
    "- **total_income** — ежемесячный доход / числа с плав.точкой\n",
    "- **purpose** — цель получения кредита\n",
    "\n",
    "Во всех столбцах, кроме **days_employed** и **total_income**, количество значений одинаково. В указанных столбцах имеются пропуски."
   ]
  },
  {
   "cell_type": "markdown",
   "metadata": {},
   "source": [
    "### Вывод"
   ]
  },
  {
   "cell_type": "markdown",
   "metadata": {},
   "source": [
    "Каждая строка таблицы содержит сведения о заемщиках банка, взявших кредит, - доход, трудовой стаж, количество детей и пр. \n",
    "\n",
    "Проблемы, которые нужно решить, прежде чем приступить к поиску ответов на поставленные вопросы: \n",
    "- пропуски в столбцах **days_employed** и **total_income**\n",
    "- изменение типа данных в столбце **days_employed** с вещественного на целочисленный\n",
    "- обработка дубликатов: проведение проверки, повторяются ли в таблице одинаковые заемщики; изменение регистра в столбце **education** (и, при обнаружении, других)\n",
    "- категоризация (по целям кредитования, доходу, количеству детей)\n"
   ]
  },
  {
   "cell_type": "markdown",
   "metadata": {},
   "source": [
    "### Предобработка данных <a name=\"pretreatment\"></a>"
   ]
  },
  {
   "cell_type": "markdown",
   "metadata": {},
   "source": [
    "### Обработка пропусков <a name=\"omissions\"></a>"
   ]
  },
  {
   "cell_type": "markdown",
   "metadata": {},
   "source": [
    "Столбцы **days_employed** и **total_income** каждый содержат меньше значений (19351), чем все остальные (21525). Следовательно, в них имеются пропуски. Заметим, что общее количество значений в этих столбцах одинаково. Это позволяет предположить, что пропуски приходятся на одни и те же строки. Проверим гипотезу, подсчитав количество строк, в которых одновременно пропущены **days_employed** и **total_income**:\n"
   ]
  },
  {
   "cell_type": "code",
   "execution_count": 6,
   "metadata": {},
   "outputs": [
    {
     "data": {
      "text/plain": [
       "2174"
      ]
     },
     "execution_count": 6,
     "metadata": {},
     "output_type": "execute_result"
    }
   ],
   "source": [
    "borrowers.loc[borrowers['days_employed'].isna() & borrowers['total_income'].isna()].shape[0]"
   ]
  },
  {
   "cell_type": "markdown",
   "metadata": {},
   "source": [
    "Таких строк 2174, а это и есть разница между 21525 и 19351. Таким образом, пропуски в столбцах **days_employed** и **total_income** действительно находятся в одних и тех же строках. Объяснения могут быть следующими: указаные строки либо описывают заемщиков, не работающих в текущий момент (нет ни стажа, ни ежемесячного дохода), либо заемщики являются типичными для выборки, а значения стажа и дохода отличаются от нулевых, но не сохранились по каким-то причинам.  \n",
    "\n",
    "В первом случае осмысленно будет заменить пропущенные значения на нули, во втором - на средние значения показателя по выборке.\n",
    "\n",
    "Проверим, сколько в таблице заемщиков с неуказанным доходом в разбивке по типам занятости:"
   ]
  },
  {
   "cell_type": "code",
   "execution_count": 7,
   "metadata": {},
   "outputs": [
    {
     "data": {
      "text/plain": [
       "сотрудник          1105\n",
       "компаньон           508\n",
       "пенсионер           413\n",
       "госслужащий         147\n",
       "предприниматель       1\n",
       "Name: income_type, dtype: int64"
      ]
     },
     "execution_count": 7,
     "metadata": {},
     "output_type": "execute_result"
    }
   ],
   "source": [
    "borrowers[borrowers['total_income'].isna()]['income_type'].value_counts()"
   ]
  },
  {
   "cell_type": "markdown",
   "metadata": {},
   "source": [
    "Безработных в списке не оказалось, поэтому, предположительно, все лица с неуказанным доходом на самом деле его имеют. Ежемесячный доход - количественная переменная, и пропуски можно заменить на среднее арифметическое по выборке. Проверим, нет ли существенных выбросов, которые могут исказить среднее значение: "
   ]
  },
  {
   "cell_type": "code",
   "execution_count": 8,
   "metadata": {},
   "outputs": [
    {
     "data": {
      "text/plain": [
       "20667.26379327158"
      ]
     },
     "execution_count": 8,
     "metadata": {},
     "output_type": "execute_result"
    }
   ],
   "source": [
    "borrowers['total_income'].min()"
   ]
  },
  {
   "cell_type": "code",
   "execution_count": 9,
   "metadata": {},
   "outputs": [
    {
     "data": {
      "text/plain": [
       "2265604.028722744"
      ]
     },
     "execution_count": 9,
     "metadata": {},
     "output_type": "execute_result"
    }
   ],
   "source": [
    "borrowers['total_income'].max()"
   ]
  },
  {
   "cell_type": "markdown",
   "metadata": {},
   "source": [
    "Минимальный и максимальный доходы выглядят правдоподобно. Рассчитаем среднее:"
   ]
  },
  {
   "cell_type": "code",
   "execution_count": 10,
   "metadata": {},
   "outputs": [],
   "source": [
    "mean_income = borrowers['total_income'].mean()"
   ]
  },
  {
   "cell_type": "code",
   "execution_count": 11,
   "metadata": {},
   "outputs": [
    {
     "data": {
      "text/plain": [
       "167422.30220817294"
      ]
     },
     "execution_count": 11,
     "metadata": {},
     "output_type": "execute_result"
    }
   ],
   "source": [
    "mean_income"
   ]
  },
  {
   "cell_type": "markdown",
   "metadata": {},
   "source": [
    "При оценке заработной платы по выборке часто используют показатель медианы, чтобы избежать усреднения, если распределение не носит нормальный характер. Проверим, чему равна медиана:"
   ]
  },
  {
   "cell_type": "code",
   "execution_count": 12,
   "metadata": {},
   "outputs": [],
   "source": [
    "median_income = borrowers['total_income'].median()"
   ]
  },
  {
   "cell_type": "code",
   "execution_count": 13,
   "metadata": {},
   "outputs": [
    {
     "data": {
      "text/plain": [
       "145017.93753253992"
      ]
     },
     "execution_count": 13,
     "metadata": {},
     "output_type": "execute_result"
    }
   ],
   "source": [
    "median_income"
   ]
  },
  {
   "cell_type": "markdown",
   "metadata": {},
   "source": [
    "Значение медианы не сильно отличается от среднего арифметического, поэтому не принципиально, какой из показателей выбрать. Пусть это будет среднее арифметическое. Заменим на него пропуски в столбце **total_income**:"
   ]
  },
  {
   "cell_type": "code",
   "execution_count": 14,
   "metadata": {},
   "outputs": [],
   "source": [
    "borrowers['total_income'] = borrowers['total_income'].fillna(mean_income)"
   ]
  },
  {
   "cell_type": "markdown",
   "metadata": {},
   "source": [
    "Что касается показателя стажа, без преобразования данных сразу заменить пропуски на среднее арифметическое было бы неверно (хотя стаж - тоже количественная переменная). Во-первых, бросается в глаза значительное количество отрицательных значений: "
   ]
  },
  {
   "cell_type": "code",
   "execution_count": 15,
   "metadata": {},
   "outputs": [
    {
     "data": {
      "text/plain": [
       "15906"
      ]
     },
     "execution_count": 15,
     "metadata": {},
     "output_type": "execute_result"
    }
   ],
   "source": [
    "borrowers.loc[borrowers['days_employed'] < 0].shape[0]"
   ]
  },
  {
   "cell_type": "markdown",
   "metadata": {},
   "source": [
    "Наименьший отрицательный показатель стажа равен:"
   ]
  },
  {
   "cell_type": "code",
   "execution_count": 16,
   "metadata": {},
   "outputs": [
    {
     "data": {
      "text/plain": [
       "-18388.949900568383"
      ]
     },
     "execution_count": 16,
     "metadata": {},
     "output_type": "execute_result"
    }
   ],
   "source": [
    "borrowers.loc[borrowers['days_employed'] < 0]['days_employed'].min()"
   ]
  },
  {
   "cell_type": "markdown",
   "metadata": {},
   "source": [
    "По абсолютному значению он соответствует примерно 50,37 годам стажа (18388 / 365). Остальные значения от -18388 до 0, взятые в абсолютном значении, логически соответствуют стажу от 0 до 50,37 лет.\n",
    "\n",
    "Значительное количество отрицательных значений (15906 / 21525 * 100% = 73,8%) говорит скорее всего о том, что это техническая ошибка, устранить которую можно, умножив указанные показатели на -1:"
   ]
  },
  {
   "cell_type": "code",
   "execution_count": 17,
   "metadata": {},
   "outputs": [],
   "source": [
    "borrowers.loc[borrowers['days_employed'] < 0, 'days_employed'] = borrowers.loc[borrowers['days_employed'] < 0]*(-1)"
   ]
  },
  {
   "cell_type": "markdown",
   "metadata": {},
   "source": [
    "Во-вторых, в столбце **days_employed** встречаются значения, не соответствующие логике переменной. Так, заемщик из пятой строки имеет указанный показатель, равный 340266.072047, что эквивалентно 932 годам стажа. Очевидно, что трудовой стаж не может превышать максимального возраста среди всех заемщиков:"
   ]
  },
  {
   "cell_type": "code",
   "execution_count": 18,
   "metadata": {},
   "outputs": [],
   "source": [
    "max_age = borrowers['dob_years'].max()"
   ]
  },
  {
   "cell_type": "code",
   "execution_count": 19,
   "metadata": {},
   "outputs": [
    {
     "data": {
      "text/plain": [
       "75"
      ]
     },
     "execution_count": 19,
     "metadata": {},
     "output_type": "execute_result"
    }
   ],
   "source": [
    "max_age"
   ]
  },
  {
   "cell_type": "markdown",
   "metadata": {},
   "source": [
    "75 лет - это примерно 27375 дней. Рассмотрим, в каких границах лежит недостоверные значения столбца **days_employed**: "
   ]
  },
  {
   "cell_type": "code",
   "execution_count": 20,
   "metadata": {},
   "outputs": [
    {
     "data": {
      "text/plain": [
       "328728.72060451825"
      ]
     },
     "execution_count": 20,
     "metadata": {},
     "output_type": "execute_result"
    }
   ],
   "source": [
    "borrowers.loc[borrowers['days_employed'] > 27375]['days_employed'].min()"
   ]
  },
  {
   "cell_type": "code",
   "execution_count": 21,
   "metadata": {},
   "outputs": [
    {
     "data": {
      "text/plain": [
       "401755.40047533"
      ]
     },
     "execution_count": 21,
     "metadata": {},
     "output_type": "execute_result"
    }
   ],
   "source": [
    "borrowers.loc[borrowers['days_employed'] > 27375]['days_employed'].max()"
   ]
  },
  {
   "cell_type": "markdown",
   "metadata": {},
   "source": [
    "Заметим, что если разделить полученные числа на 24, получим примерно 13697 и 16740, что соответствует ожидаемым значениям показателя. Это позволяет предположить, что трудовой стаж части заемщиков был представлен не в днях, а в часах. Таким образом, разделив на 24 все значения, большие 328728, приведем данные к нужной форме:"
   ]
  },
  {
   "cell_type": "code",
   "execution_count": 22,
   "metadata": {},
   "outputs": [],
   "source": [
    "borrowers.loc[borrowers['days_employed'] > 328728, 'days_employed'] = borrowers.loc[borrowers['days_employed'] > 328728, 'days_employed'] / 24"
   ]
  },
  {
   "cell_type": "markdown",
   "metadata": {},
   "source": [
    "Теперь данные столбца days_employed приведены к единому виду, и можно заполнить пропуски средним значением трудового стажа:"
   ]
  },
  {
   "cell_type": "code",
   "execution_count": 23,
   "metadata": {},
   "outputs": [],
   "source": [
    "mean_daya_employed = borrowers['days_employed'].mean()"
   ]
  },
  {
   "cell_type": "code",
   "execution_count": 24,
   "metadata": {},
   "outputs": [
    {
     "data": {
      "text/plain": [
       "4641.641176180656"
      ]
     },
     "execution_count": 24,
     "metadata": {},
     "output_type": "execute_result"
    }
   ],
   "source": [
    "mean_daya_employed"
   ]
  },
  {
   "cell_type": "code",
   "execution_count": 25,
   "metadata": {},
   "outputs": [],
   "source": [
    "borrowers['days_employed'] = borrowers['days_employed'].fillna(mean_daya_employed)"
   ]
  },
  {
   "cell_type": "markdown",
   "metadata": {},
   "source": [
    "Убедимся, что пропущенных значений в таблице не осталось:"
   ]
  },
  {
   "cell_type": "code",
   "execution_count": 26,
   "metadata": {},
   "outputs": [
    {
     "data": {
      "text/plain": [
       "children            0\n",
       "days_employed       0\n",
       "dob_years           0\n",
       "education           0\n",
       "education_id        0\n",
       "family_status       0\n",
       "family_status_id    0\n",
       "gender              0\n",
       "income_type         0\n",
       "debt                0\n",
       "total_income        0\n",
       "purpose             0\n",
       "dtype: int64"
      ]
     },
     "execution_count": 26,
     "metadata": {},
     "output_type": "execute_result"
    }
   ],
   "source": [
    "borrowers.isna().sum()"
   ]
  },
  {
   "cell_type": "markdown",
   "metadata": {},
   "source": [
    "### Вывод"
   ]
  },
  {
   "cell_type": "markdown",
   "metadata": {},
   "source": [
    "В таблице были пропущены данные о стаже и ежемесячном доходе некоторых заемщиков. Пропуски находились в одних и тех же строках. Отсутсвующие данные были заменены средними значениями показателей по выборке (в случае стажа - после приведения данных к корректному виду)."
   ]
  },
  {
   "cell_type": "markdown",
   "metadata": {},
   "source": [
    "### Замена типа данных <a name=\"substitution\"></a>"
   ]
  },
  {
   "cell_type": "markdown",
   "metadata": {},
   "source": [
    "Заметим, что в столбце **days_employed** тип данных не соответствует реальному положению вещей: количество дней стажа должно быть целым числом. \n",
    "\n",
    "Приведем значения к нужному типу (int) с помощью метода **astype()**:"
   ]
  },
  {
   "cell_type": "code",
   "execution_count": 27,
   "metadata": {},
   "outputs": [],
   "source": [
    "borrowers['days_employed'] = borrowers['days_employed'].astype('int')"
   ]
  },
  {
   "cell_type": "markdown",
   "metadata": {},
   "source": [
    "Для этих же целей можно было использовать метод **to_numeric()**, однако принципиальной разницы в указанном случае нет."
   ]
  },
  {
   "cell_type": "markdown",
   "metadata": {},
   "source": [
    "### Вывод"
   ]
  },
  {
   "cell_type": "markdown",
   "metadata": {},
   "source": [
    "Тип данных показателя трудового стажа **days_employed** в исходной таблице был изменен с вещественного на целочисленный в соответствии с логикой переменной. Выбор метода обусловлен личными предпочтениями автора."
   ]
  },
  {
   "cell_type": "markdown",
   "metadata": {},
   "source": [
    "### Обработка дубликатов <a name=\"duplicate_handling\"></a>"
   ]
  },
  {
   "cell_type": "markdown",
   "metadata": {},
   "source": [
    "Данные, однозначно идентифицирующие заемщика (например, ИНН, номер паспорта или некий внутрибанковский ID клиента), в приведенной таблице не представлены. Для поиска повторяющихся заемщиков попробуем использовать показатель дохода, т.к. он приведен с большой точностью и, возможно, обеспечит малое число повторов:\n",
    "\n"
   ]
  },
  {
   "cell_type": "code",
   "execution_count": 28,
   "metadata": {},
   "outputs": [
    {
     "data": {
      "text/plain": [
       "1.674223e+05    2174\n",
       "1.128744e+05       1\n",
       "1.091628e+06       1\n",
       "1.820367e+05       1\n",
       "1.224220e+05       1\n",
       "                ... \n",
       "1.796527e+05       1\n",
       "1.332992e+05       1\n",
       "1.150808e+05       1\n",
       "8.489678e+04       1\n",
       "1.500141e+05       1\n",
       "Name: total_income, Length: 19352, dtype: int64"
      ]
     },
     "execution_count": 28,
     "metadata": {},
     "output_type": "execute_result"
    }
   ],
   "source": [
    "borrowers['total_income'].value_counts()"
   ]
  },
  {
   "cell_type": "markdown",
   "metadata": {},
   "source": [
    "Поскольку именно в 2174 строках пропущенные значения столбца **total_income** были искусственно заменены на среднее арифметическое, а других повторов нет, можно предположить, что и сами заемщики в таблице не повторяются."
   ]
  },
  {
   "cell_type": "markdown",
   "metadata": {},
   "source": [
    "Теперь рассмотрим все категориальные переменные на предмет поиска дубликатов. В столбце education одинаковые по смыслу значения написаны разным регистром, что помешает дальнейшему анализу. Исправим это с помощью метода **str.lower()**:"
   ]
  },
  {
   "cell_type": "code",
   "execution_count": 29,
   "metadata": {},
   "outputs": [],
   "source": [
    "borrowers['education'] = borrowers['education'].str.lower()"
   ]
  },
  {
   "cell_type": "code",
   "execution_count": 30,
   "metadata": {},
   "outputs": [
    {
     "data": {
      "text/plain": [
       "среднее                15233\n",
       "высшее                  5260\n",
       "неоконченное высшее      744\n",
       "начальное                282\n",
       "ученая степень             6\n",
       "Name: education, dtype: int64"
      ]
     },
     "execution_count": 30,
     "metadata": {},
     "output_type": "execute_result"
    }
   ],
   "source": [
    "borrowers['education'].value_counts()"
   ]
  },
  {
   "cell_type": "markdown",
   "metadata": {},
   "source": [
    "По аналогии проверим остальные столбцы с категориальными переменными на предмет повторяющихся значений, отличающихся только регистром.\n",
    "\n",
    "В столбце **family_status** такой проблемы нет:"
   ]
  },
  {
   "cell_type": "code",
   "execution_count": 31,
   "metadata": {},
   "outputs": [
    {
     "data": {
      "text/plain": [
       "женат / замужем          12380\n",
       "гражданский брак          4177\n",
       "Не женат / не замужем     2813\n",
       "в разводе                 1195\n",
       "вдовец / вдова             960\n",
       "Name: family_status, dtype: int64"
      ]
     },
     "execution_count": 31,
     "metadata": {},
     "output_type": "execute_result"
    }
   ],
   "source": [
    "borrowers['family_status'].value_counts()"
   ]
  },
  {
   "cell_type": "markdown",
   "metadata": {},
   "source": [
    "В столбце **gender** тоже, однако у одного из заемщиков не определен пол:"
   ]
  },
  {
   "cell_type": "code",
   "execution_count": 32,
   "metadata": {},
   "outputs": [
    {
     "data": {
      "text/plain": [
       "F      14236\n",
       "M       7288\n",
       "XNA        1\n",
       "Name: gender, dtype: int64"
      ]
     },
     "execution_count": 32,
     "metadata": {},
     "output_type": "execute_result"
    }
   ],
   "source": [
    "borrowers['gender'].value_counts()"
   ]
  },
  {
   "cell_type": "markdown",
   "metadata": {},
   "source": [
    "Поскольку одна строка существенно не повлияет на результаты исследования, и, более того, в задаче не требуется исследовать зависимость наличия просрочки по кредитам от пола, поменяем пол на мужской:"
   ]
  },
  {
   "cell_type": "code",
   "execution_count": 33,
   "metadata": {},
   "outputs": [],
   "source": [
    "borrowers.loc[borrowers['gender'] == 'XNA', 'gender'] = 'M'"
   ]
  },
  {
   "cell_type": "code",
   "execution_count": 34,
   "metadata": {},
   "outputs": [
    {
     "data": {
      "text/plain": [
       "F    14236\n",
       "M     7289\n",
       "Name: gender, dtype: int64"
      ]
     },
     "execution_count": 34,
     "metadata": {},
     "output_type": "execute_result"
    }
   ],
   "source": [
    "borrowers['gender'].value_counts()"
   ]
  },
  {
   "cell_type": "markdown",
   "metadata": {},
   "source": [
    "В столбце **income_type** нет значений, отличающихся только регистром:"
   ]
  },
  {
   "cell_type": "code",
   "execution_count": 35,
   "metadata": {},
   "outputs": [
    {
     "data": {
      "text/plain": [
       "сотрудник          11119\n",
       "компаньон           5085\n",
       "пенсионер           3856\n",
       "госслужащий         1459\n",
       "предприниматель        2\n",
       "безработный            2\n",
       "в декрете              1\n",
       "студент                1\n",
       "Name: income_type, dtype: int64"
      ]
     },
     "execution_count": 35,
     "metadata": {},
     "output_type": "execute_result"
    }
   ],
   "source": [
    "borrowers['income_type'].value_counts()"
   ]
  },
  {
   "cell_type": "markdown",
   "metadata": {},
   "source": [
    "В столбце **purpose** также нет значений, отличающихся только регистром, однако встречаются разные формулировки цели кредитования, отличающиеся по форме, но не по смыслу (например, \"свадьба\" и \"на проведение свадьбы\"). Эта проблема будет решена в следующем разделе."
   ]
  },
  {
   "cell_type": "code",
   "execution_count": 36,
   "metadata": {},
   "outputs": [
    {
     "data": {
      "text/plain": [
       "свадьба                                   797\n",
       "на проведение свадьбы                     777\n",
       "сыграть свадьбу                           774\n",
       "операции с недвижимостью                  676\n",
       "покупка коммерческой недвижимости         664\n",
       "операции с жильем                         653\n",
       "покупка жилья для сдачи                   653\n",
       "операции с коммерческой недвижимостью     651\n",
       "покупка жилья                             647\n",
       "жилье                                     647\n",
       "покупка жилья для семьи                   641\n",
       "строительство собственной недвижимости    635\n",
       "недвижимость                              634\n",
       "операции со своей недвижимостью           630\n",
       "строительство жилой недвижимости          626\n",
       "покупка недвижимости                      624\n",
       "покупка своего жилья                      620\n",
       "строительство недвижимости                620\n",
       "ремонт жилью                              612\n",
       "покупка жилой недвижимости                607\n",
       "на покупку своего автомобиля              505\n",
       "заняться высшим образованием              496\n",
       "автомобиль                                495\n",
       "сделка с подержанным автомобилем          489\n",
       "свой автомобиль                           480\n",
       "на покупку подержанного автомобиля        479\n",
       "автомобили                                478\n",
       "на покупку автомобиля                     472\n",
       "дополнительное образование                462\n",
       "приобретение автомобиля                   462\n",
       "сделка с автомобилем                      455\n",
       "высшее образование                        453\n",
       "получение дополнительного образования     447\n",
       "образование                               447\n",
       "получение образования                     443\n",
       "профильное образование                    436\n",
       "получение высшего образования             426\n",
       "заняться образованием                     412\n",
       "Name: purpose, dtype: int64"
      ]
     },
     "execution_count": 36,
     "metadata": {},
     "output_type": "execute_result"
    }
   ],
   "source": [
    "borrowers['purpose'].value_counts()"
   ]
  },
  {
   "cell_type": "markdown",
   "metadata": {},
   "source": [
    "### Вывод"
   ]
  },
  {
   "cell_type": "markdown",
   "metadata": {},
   "source": [
    "Дублирующихся строк в таблице не обнаружено. Исправлены дубликаты - одинаковые слова, написанные разным регистром - в столбце **education**."
   ]
  },
  {
   "cell_type": "markdown",
   "metadata": {},
   "source": [
    "### Лемматизация <a name=\"lemmatization\"></a>"
   ]
  },
  {
   "cell_type": "markdown",
   "metadata": {},
   "source": [
    "Как было замечено выше, необходимо сделать изменения в столбце purpose: привести к единому виду все цели кредитования, имеющий одинаковый смысл, но по-разному записанные. Будем использовать для этого лемматизацию с помощью методов библиотеки **PyMystem**."
   ]
  },
  {
   "cell_type": "code",
   "execution_count": 37,
   "metadata": {},
   "outputs": [],
   "source": [
    "m = Mystem()"
   ]
  },
  {
   "cell_type": "code",
   "execution_count": 38,
   "metadata": {},
   "outputs": [],
   "source": [
    "lemmas = []"
   ]
  },
  {
   "cell_type": "code",
   "execution_count": 39,
   "metadata": {},
   "outputs": [],
   "source": [
    "for purpose in borrowers['purpose']:\n",
    "    lemmas += m.lemmatize(purpose)"
   ]
  },
  {
   "cell_type": "markdown",
   "metadata": {},
   "source": [
    "Посмотрим на повторы лемм:"
   ]
  },
  {
   "cell_type": "code",
   "execution_count": 40,
   "metadata": {},
   "outputs": [
    {
     "name": "stdout",
     "output_type": "stream",
     "text": [
      "Counter({' ': 33677, '\\n': 21525, 'недвижимость': 6367, 'покупка': 5912, 'жилье': 4473, 'автомобиль': 4315, 'образование': 4022, 'с': 2924, 'операция': 2610, 'свадьба': 2348, 'свой': 2235, 'на': 2233, 'строительство': 1881, 'высокий': 1375, 'получение': 1316, 'коммерческий': 1315, 'для': 1294, 'жилой': 1233, 'сделка': 944, 'дополнительный': 909, 'заниматься': 908, 'проведение': 777, 'сыграть': 774, 'сдача': 653, 'семья': 641, 'собственный': 635, 'со': 630, 'ремонт': 612, 'подержанный': 489, 'подержать': 479, 'приобретение': 462, 'профильный': 436})\n"
     ]
    }
   ],
   "source": [
    "from collections import Counter\n",
    "print(Counter(lemmas))"
   ]
  },
  {
   "cell_type": "markdown",
   "metadata": {},
   "source": [
    "Лемматизировав и изучив значения, которые принимает показатель цели кредитования, можно выделить 4 основные группы:\n",
    "- на свадьбу\n",
    "- на операции с недвижимостью\n",
    "- на приобретение автомобиля\n",
    "- на получение образования\n",
    "\n",
    "    Создадим новые столбцы в исходной таблице: в **lemmas** поместим все леммы столбца **purpose**, в **purpose_briefly** - одну из четырех целей кредитования в зависимости от лемм."
   ]
  },
  {
   "cell_type": "code",
   "execution_count": 41,
   "metadata": {},
   "outputs": [],
   "source": [
    "def lemmatisation(row):\n",
    "    return m.lemmatize(row['purpose']) \n",
    " \n",
    "borrowers['lemmas'] = borrowers.apply(lemmatisation, axis = 1)"
   ]
  },
  {
   "cell_type": "code",
   "execution_count": 42,
   "metadata": {},
   "outputs": [
    {
     "data": {
      "text/plain": [
       "0                             [покупка,  , жилье, \\n]\n",
       "1                   [приобретение,  , автомобиль, \\n]\n",
       "2                             [покупка,  , жилье, \\n]\n",
       "3                [дополнительный,  , образование, \\n]\n",
       "4                           [сыграть,  , свадьба, \\n]\n",
       "                             ...                     \n",
       "21520                  [операция,  , с,  , жилье, \\n]\n",
       "21521               [сделка,  , с,  , автомобиль, \\n]\n",
       "21522                              [недвижимость, \\n]\n",
       "21523    [на,  , покупка,  , свой,  , автомобиль, \\n]\n",
       "21524             [на,  , покупка,  , автомобиль, \\n]\n",
       "Name: lemmas, Length: 21525, dtype: object"
      ]
     },
     "execution_count": 42,
     "metadata": {},
     "output_type": "execute_result"
    }
   ],
   "source": [
    "borrowers['lemmas']"
   ]
  },
  {
   "cell_type": "code",
   "execution_count": 43,
   "metadata": {},
   "outputs": [],
   "source": [
    "def purpose_briefly(row):\n",
    "    purpose = row['lemmas']\n",
    "    try:\n",
    "        if 'жилье' in purpose or 'недвижимость' in purpose:\n",
    "            return 'недвижимость'\n",
    "        if 'свадьба' in purpose:\n",
    "            return 'свадьба'\n",
    "        if 'автомобиль' in purpose:\n",
    "            return 'автомобиль'\n",
    "        if 'образование' in purpose:\n",
    "            return 'образование'\n",
    "    except:\n",
    "        print('Не присвоена цель заемщику. Проверьте корректность внесения данных')\n",
    "        print(row)\n"
   ]
  },
  {
   "cell_type": "code",
   "execution_count": 44,
   "metadata": {},
   "outputs": [],
   "source": [
    "borrowers['purpose_briefly'] = borrowers.apply(purpose_briefly, axis = 1)"
   ]
  },
  {
   "cell_type": "code",
   "execution_count": 45,
   "metadata": {},
   "outputs": [
    {
     "data": {
      "text/plain": [
       "0        недвижимость\n",
       "1          автомобиль\n",
       "2        недвижимость\n",
       "3         образование\n",
       "4             свадьба\n",
       "             ...     \n",
       "21520    недвижимость\n",
       "21521      автомобиль\n",
       "21522    недвижимость\n",
       "21523      автомобиль\n",
       "21524      автомобиль\n",
       "Name: purpose_briefly, Length: 21525, dtype: object"
      ]
     },
     "execution_count": 45,
     "metadata": {},
     "output_type": "execute_result"
    }
   ],
   "source": [
    "borrowers['purpose_briefly']"
   ]
  },
  {
   "cell_type": "markdown",
   "metadata": {},
   "source": [
    "Проверим, что для каждого заемщика была определена из четырех целей кредитования (суммарное количество строк по катергориям совпадает с общим числом строк таблицы, отсутствует сигнал \"не присвоена цель\" (указан в конструкции **try-except** функции **purpose_briefly**)):"
   ]
  },
  {
   "cell_type": "code",
   "execution_count": 46,
   "metadata": {},
   "outputs": [
    {
     "data": {
      "text/plain": [
       "недвижимость    10840\n",
       "автомобиль       4315\n",
       "образование      4022\n",
       "свадьба          2348\n",
       "Name: purpose_briefly, dtype: int64"
      ]
     },
     "execution_count": 46,
     "metadata": {},
     "output_type": "execute_result"
    }
   ],
   "source": [
    "borrowers['purpose_briefly'].value_counts()"
   ]
  },
  {
   "cell_type": "markdown",
   "metadata": {},
   "source": [
    "### Вывод"
   ]
  },
  {
   "cell_type": "markdown",
   "metadata": {},
   "source": [
    "Изучение столбца **purpose** показало, что среди значительного количества целей кредитования, записанных по-разному, можно выделить всего четыре, отличающихся друг от друга по смыслу: кредит на недвижимость, автомобиль, свадьбу или образование. С помощью лемматизации каждому из заемщиков присвоена одна из указанных целей."
   ]
  },
  {
   "cell_type": "markdown",
   "metadata": {},
   "source": [
    "### Категоризация данных <a name=\"categorization\"></a>"
   ]
  },
  {
   "cell_type": "markdown",
   "metadata": {},
   "source": [
    "В предыдущем пункте вместе с лемматизацией данных из столбца **purpose** была проведена и их категоризация. Для удобства интерпретации имеет смысл также категоризировать данные в столбце **children**, разбив их на три группы: нет детей, 1-2 ребенка, многодетный. Но прежде проверим корректность значений указанного столбца:"
   ]
  },
  {
   "cell_type": "code",
   "execution_count": 47,
   "metadata": {},
   "outputs": [
    {
     "data": {
      "text/plain": [
       " 0     14149\n",
       " 1      4818\n",
       " 2      2055\n",
       " 3       330\n",
       " 20       76\n",
       "-1        47\n",
       " 4        41\n",
       " 5         9\n",
       "Name: children, dtype: int64"
      ]
     },
     "execution_count": 47,
     "metadata": {},
     "output_type": "execute_result"
    }
   ],
   "source": [
    "borrowers['children'].value_counts()"
   ]
  },
  {
   "cell_type": "markdown",
   "metadata": {},
   "source": [
    "В данных определенно содержатся ошибки: число детей не может быть отрицательным. Также сомнителен показатель, равный 20. \n",
    "\n",
    "Заменим -1 на 1 (ошибка могла появиться, если данные набирали вручную и случайно поставили минус). Один ребенок в семье довольно типичен для выборки (более 20% заемщиков), поэтому увеличение этого показателя менее, чем на 1% сильно не исказит картину."
   ]
  },
  {
   "cell_type": "code",
   "execution_count": 48,
   "metadata": {},
   "outputs": [],
   "source": [
    "borrowers.loc[borrowers['children'] == -1, 'children'] = 1"
   ]
  },
  {
   "cell_type": "markdown",
   "metadata": {},
   "source": [
    "Рассмотрим, что представляют из себя заемщики с 20 детьми:"
   ]
  },
  {
   "cell_type": "code",
   "execution_count": 49,
   "metadata": {},
   "outputs": [
    {
     "data": {
      "text/html": [
       "<div>\n",
       "<style scoped>\n",
       "    .dataframe tbody tr th:only-of-type {\n",
       "        vertical-align: middle;\n",
       "    }\n",
       "\n",
       "    .dataframe tbody tr th {\n",
       "        vertical-align: top;\n",
       "    }\n",
       "\n",
       "    .dataframe thead th {\n",
       "        text-align: right;\n",
       "    }\n",
       "</style>\n",
       "<table border=\"1\" class=\"dataframe\">\n",
       "  <thead>\n",
       "    <tr style=\"text-align: right;\">\n",
       "      <th></th>\n",
       "      <th>children</th>\n",
       "      <th>days_employed</th>\n",
       "      <th>dob_years</th>\n",
       "      <th>education</th>\n",
       "      <th>education_id</th>\n",
       "      <th>family_status</th>\n",
       "      <th>family_status_id</th>\n",
       "      <th>gender</th>\n",
       "      <th>income_type</th>\n",
       "      <th>debt</th>\n",
       "      <th>total_income</th>\n",
       "      <th>purpose</th>\n",
       "      <th>lemmas</th>\n",
       "      <th>purpose_briefly</th>\n",
       "    </tr>\n",
       "  </thead>\n",
       "  <tbody>\n",
       "    <tr>\n",
       "      <td>606</td>\n",
       "      <td>20</td>\n",
       "      <td>880</td>\n",
       "      <td>21</td>\n",
       "      <td>среднее</td>\n",
       "      <td>1</td>\n",
       "      <td>женат / замужем</td>\n",
       "      <td>0</td>\n",
       "      <td>M</td>\n",
       "      <td>компаньон</td>\n",
       "      <td>0</td>\n",
       "      <td>145334.865002</td>\n",
       "      <td>покупка жилья</td>\n",
       "      <td>[покупка,  , жилье, \\n]</td>\n",
       "      <td>недвижимость</td>\n",
       "    </tr>\n",
       "    <tr>\n",
       "      <td>720</td>\n",
       "      <td>20</td>\n",
       "      <td>855</td>\n",
       "      <td>44</td>\n",
       "      <td>среднее</td>\n",
       "      <td>1</td>\n",
       "      <td>женат / замужем</td>\n",
       "      <td>0</td>\n",
       "      <td>F</td>\n",
       "      <td>компаньон</td>\n",
       "      <td>0</td>\n",
       "      <td>112998.738649</td>\n",
       "      <td>покупка недвижимости</td>\n",
       "      <td>[покупка,  , недвижимость, \\n]</td>\n",
       "      <td>недвижимость</td>\n",
       "    </tr>\n",
       "    <tr>\n",
       "      <td>1074</td>\n",
       "      <td>20</td>\n",
       "      <td>3310</td>\n",
       "      <td>56</td>\n",
       "      <td>среднее</td>\n",
       "      <td>1</td>\n",
       "      <td>женат / замужем</td>\n",
       "      <td>0</td>\n",
       "      <td>F</td>\n",
       "      <td>сотрудник</td>\n",
       "      <td>1</td>\n",
       "      <td>229518.537004</td>\n",
       "      <td>получение образования</td>\n",
       "      <td>[получение,  , образование, \\n]</td>\n",
       "      <td>образование</td>\n",
       "    </tr>\n",
       "    <tr>\n",
       "      <td>2510</td>\n",
       "      <td>20</td>\n",
       "      <td>2714</td>\n",
       "      <td>59</td>\n",
       "      <td>высшее</td>\n",
       "      <td>0</td>\n",
       "      <td>вдовец / вдова</td>\n",
       "      <td>2</td>\n",
       "      <td>F</td>\n",
       "      <td>сотрудник</td>\n",
       "      <td>0</td>\n",
       "      <td>264474.835577</td>\n",
       "      <td>операции с коммерческой недвижимостью</td>\n",
       "      <td>[операция,  , с,  , коммерческий,  , недвижимо...</td>\n",
       "      <td>недвижимость</td>\n",
       "    </tr>\n",
       "    <tr>\n",
       "      <td>2941</td>\n",
       "      <td>20</td>\n",
       "      <td>2161</td>\n",
       "      <td>0</td>\n",
       "      <td>среднее</td>\n",
       "      <td>1</td>\n",
       "      <td>женат / замужем</td>\n",
       "      <td>0</td>\n",
       "      <td>F</td>\n",
       "      <td>сотрудник</td>\n",
       "      <td>0</td>\n",
       "      <td>199739.941398</td>\n",
       "      <td>на покупку автомобиля</td>\n",
       "      <td>[на,  , покупка,  , автомобиль, \\n]</td>\n",
       "      <td>автомобиль</td>\n",
       "    </tr>\n",
       "    <tr>\n",
       "      <td>3302</td>\n",
       "      <td>20</td>\n",
       "      <td>4641</td>\n",
       "      <td>35</td>\n",
       "      <td>среднее</td>\n",
       "      <td>1</td>\n",
       "      <td>Не женат / не замужем</td>\n",
       "      <td>4</td>\n",
       "      <td>F</td>\n",
       "      <td>госслужащий</td>\n",
       "      <td>0</td>\n",
       "      <td>167422.302208</td>\n",
       "      <td>профильное образование</td>\n",
       "      <td>[профильный,  , образование, \\n]</td>\n",
       "      <td>образование</td>\n",
       "    </tr>\n",
       "    <tr>\n",
       "      <td>3396</td>\n",
       "      <td>20</td>\n",
       "      <td>4641</td>\n",
       "      <td>56</td>\n",
       "      <td>высшее</td>\n",
       "      <td>0</td>\n",
       "      <td>женат / замужем</td>\n",
       "      <td>0</td>\n",
       "      <td>F</td>\n",
       "      <td>компаньон</td>\n",
       "      <td>0</td>\n",
       "      <td>167422.302208</td>\n",
       "      <td>высшее образование</td>\n",
       "      <td>[высокий,  , образование, \\n]</td>\n",
       "      <td>образование</td>\n",
       "    </tr>\n",
       "    <tr>\n",
       "      <td>3671</td>\n",
       "      <td>20</td>\n",
       "      <td>913</td>\n",
       "      <td>23</td>\n",
       "      <td>среднее</td>\n",
       "      <td>1</td>\n",
       "      <td>Не женат / не замужем</td>\n",
       "      <td>4</td>\n",
       "      <td>F</td>\n",
       "      <td>сотрудник</td>\n",
       "      <td>0</td>\n",
       "      <td>101255.492076</td>\n",
       "      <td>на покупку подержанного автомобиля</td>\n",
       "      <td>[на,  , покупка,  , подержать,  , автомобиль, \\n]</td>\n",
       "      <td>автомобиль</td>\n",
       "    </tr>\n",
       "    <tr>\n",
       "      <td>3697</td>\n",
       "      <td>20</td>\n",
       "      <td>2907</td>\n",
       "      <td>40</td>\n",
       "      <td>среднее</td>\n",
       "      <td>1</td>\n",
       "      <td>гражданский брак</td>\n",
       "      <td>1</td>\n",
       "      <td>M</td>\n",
       "      <td>сотрудник</td>\n",
       "      <td>0</td>\n",
       "      <td>115380.694664</td>\n",
       "      <td>на покупку подержанного автомобиля</td>\n",
       "      <td>[на,  , покупка,  , подержать,  , автомобиль, \\n]</td>\n",
       "      <td>автомобиль</td>\n",
       "    </tr>\n",
       "    <tr>\n",
       "      <td>3735</td>\n",
       "      <td>20</td>\n",
       "      <td>805</td>\n",
       "      <td>26</td>\n",
       "      <td>высшее</td>\n",
       "      <td>0</td>\n",
       "      <td>Не женат / не замужем</td>\n",
       "      <td>4</td>\n",
       "      <td>M</td>\n",
       "      <td>сотрудник</td>\n",
       "      <td>0</td>\n",
       "      <td>137200.646181</td>\n",
       "      <td>ремонт жилью</td>\n",
       "      <td>[ремонт,  , жилье, \\n]</td>\n",
       "      <td>недвижимость</td>\n",
       "    </tr>\n",
       "  </tbody>\n",
       "</table>\n",
       "</div>"
      ],
      "text/plain": [
       "      children  days_employed  dob_years education  education_id  \\\n",
       "606         20            880         21   среднее             1   \n",
       "720         20            855         44   среднее             1   \n",
       "1074        20           3310         56   среднее             1   \n",
       "2510        20           2714         59    высшее             0   \n",
       "2941        20           2161          0   среднее             1   \n",
       "3302        20           4641         35   среднее             1   \n",
       "3396        20           4641         56    высшее             0   \n",
       "3671        20            913         23   среднее             1   \n",
       "3697        20           2907         40   среднее             1   \n",
       "3735        20            805         26    высшее             0   \n",
       "\n",
       "              family_status  family_status_id gender  income_type  debt  \\\n",
       "606         женат / замужем                 0      M    компаньон     0   \n",
       "720         женат / замужем                 0      F    компаньон     0   \n",
       "1074        женат / замужем                 0      F    сотрудник     1   \n",
       "2510         вдовец / вдова                 2      F    сотрудник     0   \n",
       "2941        женат / замужем                 0      F    сотрудник     0   \n",
       "3302  Не женат / не замужем                 4      F  госслужащий     0   \n",
       "3396        женат / замужем                 0      F    компаньон     0   \n",
       "3671  Не женат / не замужем                 4      F    сотрудник     0   \n",
       "3697       гражданский брак                 1      M    сотрудник     0   \n",
       "3735  Не женат / не замужем                 4      M    сотрудник     0   \n",
       "\n",
       "       total_income                                purpose  \\\n",
       "606   145334.865002                          покупка жилья   \n",
       "720   112998.738649                   покупка недвижимости   \n",
       "1074  229518.537004                  получение образования   \n",
       "2510  264474.835577  операции с коммерческой недвижимостью   \n",
       "2941  199739.941398                  на покупку автомобиля   \n",
       "3302  167422.302208                 профильное образование   \n",
       "3396  167422.302208                     высшее образование   \n",
       "3671  101255.492076     на покупку подержанного автомобиля   \n",
       "3697  115380.694664     на покупку подержанного автомобиля   \n",
       "3735  137200.646181                           ремонт жилью   \n",
       "\n",
       "                                                 lemmas purpose_briefly  \n",
       "606                             [покупка,  , жилье, \\n]    недвижимость  \n",
       "720                      [покупка,  , недвижимость, \\n]    недвижимость  \n",
       "1074                    [получение,  , образование, \\n]     образование  \n",
       "2510  [операция,  , с,  , коммерческий,  , недвижимо...    недвижимость  \n",
       "2941                [на,  , покупка,  , автомобиль, \\n]      автомобиль  \n",
       "3302                   [профильный,  , образование, \\n]     образование  \n",
       "3396                      [высокий,  , образование, \\n]     образование  \n",
       "3671  [на,  , покупка,  , подержать,  , автомобиль, \\n]      автомобиль  \n",
       "3697  [на,  , покупка,  , подержать,  , автомобиль, \\n]      автомобиль  \n",
       "3735                             [ремонт,  , жилье, \\n]    недвижимость  "
      ]
     },
     "execution_count": 49,
     "metadata": {},
     "output_type": "execute_result"
    }
   ],
   "source": [
    "borrowers.loc[borrowers['children'] == 20].head(10)"
   ]
  },
  {
   "cell_type": "markdown",
   "metadata": {},
   "source": [
    "Закономерности обнаружить не удается. Более того, сложно предположить, откуда появилась такая ошибка, поэтому пренебрежем ею (всего 76 строк в массиве более чем из 21000 записей) и заменим 20 на самое часто встречаемое значение - 0."
   ]
  },
  {
   "cell_type": "code",
   "execution_count": 50,
   "metadata": {},
   "outputs": [],
   "source": [
    "borrowers.loc[borrowers['children'] == 20, 'children'] = 0"
   ]
  },
  {
   "cell_type": "markdown",
   "metadata": {},
   "source": [
    "После преобразований некорректные значения ушли:"
   ]
  },
  {
   "cell_type": "code",
   "execution_count": 51,
   "metadata": {},
   "outputs": [
    {
     "data": {
      "text/plain": [
       "0    14225\n",
       "1     4865\n",
       "2     2055\n",
       "3      330\n",
       "4       41\n",
       "5        9\n",
       "Name: children, dtype: int64"
      ]
     },
     "execution_count": 51,
     "metadata": {},
     "output_type": "execute_result"
    }
   ],
   "source": [
    "borrowers['children'].value_counts()"
   ]
  },
  {
   "cell_type": "markdown",
   "metadata": {},
   "source": [
    "Теперь категоризируем заемщиков в зависимости от количества детей:"
   ]
  },
  {
   "cell_type": "code",
   "execution_count": 52,
   "metadata": {},
   "outputs": [],
   "source": [
    "def num_children(row):\n",
    "    num_child = row['children']\n",
    "    try:\n",
    "        if num_child == 0:\n",
    "            return 'нет детей'\n",
    "        if num_child == 1 or num_child == 2:\n",
    "            return '1-2 ребенка'\n",
    "        if num_child >= 0:\n",
    "            return 'многодетный'\n",
    "    except:\n",
    "        print('Ошибка в исходных значениях')\n",
    "        print(row)"
   ]
  },
  {
   "cell_type": "code",
   "execution_count": 53,
   "metadata": {},
   "outputs": [],
   "source": [
    "borrowers['num_children'] = borrowers.apply(num_children, axis = 1)"
   ]
  },
  {
   "cell_type": "code",
   "execution_count": 54,
   "metadata": {},
   "outputs": [
    {
     "data": {
      "text/plain": [
       "нет детей      14225\n",
       "1-2 ребенка     6920\n",
       "многодетный      380\n",
       "Name: num_children, dtype: int64"
      ]
     },
     "execution_count": 54,
     "metadata": {},
     "output_type": "execute_result"
    }
   ],
   "source": [
    "borrowers['num_children'].value_counts()"
   ]
  },
  {
   "cell_type": "markdown",
   "metadata": {},
   "source": [
    "В задании также необходимо выявить зависимость между уровнем дохода и возвратом кредита в срок, поэтому желательно категоризировать заемщиков по уровню доходов. Ранее мы уже проверяли, в каком диапазоне лежит этот показатель:"
   ]
  },
  {
   "cell_type": "code",
   "execution_count": 55,
   "metadata": {},
   "outputs": [
    {
     "data": {
      "text/plain": [
       "20667.26379327158"
      ]
     },
     "execution_count": 55,
     "metadata": {},
     "output_type": "execute_result"
    }
   ],
   "source": [
    "borrowers['total_income'].min()"
   ]
  },
  {
   "cell_type": "code",
   "execution_count": 56,
   "metadata": {},
   "outputs": [
    {
     "data": {
      "text/plain": [
       "2265604.028722744"
      ]
     },
     "execution_count": 56,
     "metadata": {},
     "output_type": "execute_result"
    }
   ],
   "source": [
    "borrowers['total_income'].max()"
   ]
  },
  {
   "cell_type": "markdown",
   "metadata": {},
   "source": [
    "Возьмем за основу следующую градацию:\n",
    "- до 50 000 (вкл.) - очень низкий\n",
    "- свыше 50 000 до 100 000 (вкл.) - низкий\n",
    "- свыше 100 000 до 150 000 (вкл.) - средний\n",
    "- свыше 150 000 до 200 000 (вкл.) - высокий\n",
    "- свыше 200 000 - очень высокий"
   ]
  },
  {
   "cell_type": "code",
   "execution_count": 57,
   "metadata": {},
   "outputs": [],
   "source": [
    "def income_grade(row):\n",
    "    income_gr = row['total_income']\n",
    "    try:\n",
    "        if 0 <= income_gr <= 50000:\n",
    "            return 'очень низкий доход (0 - 50 000)'\n",
    "        if 50000 < income_gr <= 100000:\n",
    "            return 'низкий доход (50 000 - 100 000)'\n",
    "        if 100000 < income_gr <= 150000:\n",
    "            return 'средний доход (100 000 - 150 000)'\n",
    "        if 150000 < income_gr <= 200000:\n",
    "            return 'высокий доход (150 000 - 200 000)'\n",
    "        if 200000 < income_gr:\n",
    "            return 'очень высокий доход (более 200 000)'\n",
    "    except:\n",
    "        print('Ошибка в исходных значениях дохода')\n",
    "        print(row)"
   ]
  },
  {
   "cell_type": "code",
   "execution_count": 58,
   "metadata": {},
   "outputs": [],
   "source": [
    "borrowers['income_grade'] = borrowers.apply(income_grade, axis = 1)"
   ]
  },
  {
   "cell_type": "code",
   "execution_count": 59,
   "metadata": {},
   "outputs": [
    {
     "data": {
      "text/plain": [
       "высокий доход (150 000 - 200 000)      6292\n",
       "средний доход (100 000 - 150 000)      5704\n",
       "очень высокий доход (более 200 000)    5066\n",
       "низкий доход (50 000 - 100 000)        4091\n",
       "очень низкий доход (0 - 50 000)         372\n",
       "Name: income_grade, dtype: int64"
      ]
     },
     "execution_count": 59,
     "metadata": {},
     "output_type": "execute_result"
    }
   ],
   "source": [
    "borrowers['income_grade'].value_counts()"
   ]
  },
  {
   "cell_type": "markdown",
   "metadata": {},
   "source": [
    "### Вывод"
   ]
  },
  {
   "cell_type": "markdown",
   "metadata": {},
   "source": [
    "Данные категоризированы следующим образом: \n",
    "- **цель кредитования**:\n",
    "    - недвижимость\n",
    "    - образование\n",
    "    - автомобиль\n",
    "    - свадьба\n",
    "- **количество детей**:\n",
    "    - нет детей\n",
    "    - 1-2 ребенка\n",
    "    - многодетные\n",
    "- **среднемесячный доход**:\n",
    "    - очень низкий доход (до 50 000)\n",
    "    - низкий доход (50 000 - 100 000)\n",
    "    - средний доход (100 000 - 150 000)\n",
    "    - высокий доход (150 000 - 200 000)\n",
    "    - очень высокий доход (более 200 000)"
   ]
  },
  {
   "cell_type": "markdown",
   "metadata": {},
   "source": [
    "### Ответы на вопросы<a name=\"answers\"></a>"
   ]
  },
  {
   "cell_type": "markdown",
   "metadata": {},
   "source": [
    "- Есть ли зависимость между наличием детей и возвратом кредита в срок?"
   ]
  },
  {
   "cell_type": "markdown",
   "metadata": {},
   "source": [
    "Поскольку последовательность действий, которую надо осуществить над данными для получения ответов на последние четыре вопроса, однотипна, составим функцию. \n",
    "\n",
    "На вход функция принимает датафрейм **data**, столбец с категориями **ind**, а также столбец **val**, по значениям которого строится сводная таблица (аналоги аргументов **index** и **values** для построения сводной таблицы).\n",
    "\n",
    "Функция возвращает сводную таблицу, в строках которой находятся заемщики, разбитые по заданной категроии. Столбец **debt** будет показывать количество заемщиков с просрочкой по каждой категории, **total** - общее количество заемщиков указанной категории, **ratio** - долю заемщиков с просрочкой от общего их числа. Таблица отсортирована по столбцу **ratio** в порядке убывания."
   ]
  },
  {
   "cell_type": "code",
   "execution_count": 60,
   "metadata": {},
   "outputs": [],
   "source": [
    "def build_pivot_sum_debt(data, ind, val):\n",
    "    try:\n",
    "        pivot_t = data.pivot_table(index = ind, values = val, aggfunc = 'sum')\n",
    "        pivot_t['total'] = data[ind].value_counts()\n",
    "        pivot_t['ratio'] = pivot_t[val] / pivot_t['total']\n",
    "        return pivot_t.sort_values('ratio', ascending = False)\n",
    "    except:\n",
    "        print('Проверьте аргументы функции')"
   ]
  },
  {
   "cell_type": "markdown",
   "metadata": {},
   "source": [
    "Для ответа на первый вопрос составим сводную таблицу, которая будет отражать число заемщиков с просрочками по кредиту в разбивке по категориям показателя количества детей:"
   ]
  },
  {
   "cell_type": "code",
   "execution_count": 61,
   "metadata": {},
   "outputs": [
    {
     "data": {
      "text/html": [
       "<div>\n",
       "<style scoped>\n",
       "    .dataframe tbody tr th:only-of-type {\n",
       "        vertical-align: middle;\n",
       "    }\n",
       "\n",
       "    .dataframe tbody tr th {\n",
       "        vertical-align: top;\n",
       "    }\n",
       "\n",
       "    .dataframe thead th {\n",
       "        text-align: right;\n",
       "    }\n",
       "</style>\n",
       "<table border=\"1\" class=\"dataframe\">\n",
       "  <thead>\n",
       "    <tr style=\"text-align: right;\">\n",
       "      <th></th>\n",
       "      <th>debt</th>\n",
       "      <th>total</th>\n",
       "      <th>ratio</th>\n",
       "    </tr>\n",
       "    <tr>\n",
       "      <th>num_children</th>\n",
       "      <th></th>\n",
       "      <th></th>\n",
       "      <th></th>\n",
       "    </tr>\n",
       "  </thead>\n",
       "  <tbody>\n",
       "    <tr>\n",
       "      <td>1-2 ребенка</td>\n",
       "      <td>639</td>\n",
       "      <td>6920</td>\n",
       "      <td>0.092341</td>\n",
       "    </tr>\n",
       "    <tr>\n",
       "      <td>многодетный</td>\n",
       "      <td>31</td>\n",
       "      <td>380</td>\n",
       "      <td>0.081579</td>\n",
       "    </tr>\n",
       "    <tr>\n",
       "      <td>нет детей</td>\n",
       "      <td>1071</td>\n",
       "      <td>14225</td>\n",
       "      <td>0.075290</td>\n",
       "    </tr>\n",
       "  </tbody>\n",
       "</table>\n",
       "</div>"
      ],
      "text/plain": [
       "              debt  total     ratio\n",
       "num_children                       \n",
       "1-2 ребенка    639   6920  0.092341\n",
       "многодетный     31    380  0.081579\n",
       "нет детей     1071  14225  0.075290"
      ]
     },
     "execution_count": 61,
     "metadata": {},
     "output_type": "execute_result"
    }
   ],
   "source": [
    "build_pivot_sum_debt(borrowers, 'num_children', 'debt')"
   ]
  },
  {
   "cell_type": "markdown",
   "metadata": {},
   "source": [
    "### Вывод"
   ]
  },
  {
   "cell_type": "markdown",
   "metadata": {},
   "source": [
    "Доля должников среди бездетных людей ниже, чем среди тех, у кого есть дети. Максимальный процент должников (9,2%) среди людей, у которых 1-2 ребенка. Среди многодетных - 8,1%. Доля должников среди бездетных самая низкая и составляет 7,5%."
   ]
  },
  {
   "cell_type": "markdown",
   "metadata": {},
   "source": [
    "- Есть ли зависимость между семейным положением и возвратом кредита в срок?"
   ]
  },
  {
   "cell_type": "code",
   "execution_count": 62,
   "metadata": {},
   "outputs": [
    {
     "data": {
      "text/html": [
       "<div>\n",
       "<style scoped>\n",
       "    .dataframe tbody tr th:only-of-type {\n",
       "        vertical-align: middle;\n",
       "    }\n",
       "\n",
       "    .dataframe tbody tr th {\n",
       "        vertical-align: top;\n",
       "    }\n",
       "\n",
       "    .dataframe thead th {\n",
       "        text-align: right;\n",
       "    }\n",
       "</style>\n",
       "<table border=\"1\" class=\"dataframe\">\n",
       "  <thead>\n",
       "    <tr style=\"text-align: right;\">\n",
       "      <th></th>\n",
       "      <th>debt</th>\n",
       "      <th>total</th>\n",
       "      <th>ratio</th>\n",
       "    </tr>\n",
       "    <tr>\n",
       "      <th>family_status</th>\n",
       "      <th></th>\n",
       "      <th></th>\n",
       "      <th></th>\n",
       "    </tr>\n",
       "  </thead>\n",
       "  <tbody>\n",
       "    <tr>\n",
       "      <td>Не женат / не замужем</td>\n",
       "      <td>274</td>\n",
       "      <td>2813</td>\n",
       "      <td>0.097405</td>\n",
       "    </tr>\n",
       "    <tr>\n",
       "      <td>гражданский брак</td>\n",
       "      <td>388</td>\n",
       "      <td>4177</td>\n",
       "      <td>0.092890</td>\n",
       "    </tr>\n",
       "    <tr>\n",
       "      <td>женат / замужем</td>\n",
       "      <td>931</td>\n",
       "      <td>12380</td>\n",
       "      <td>0.075202</td>\n",
       "    </tr>\n",
       "    <tr>\n",
       "      <td>в разводе</td>\n",
       "      <td>85</td>\n",
       "      <td>1195</td>\n",
       "      <td>0.071130</td>\n",
       "    </tr>\n",
       "    <tr>\n",
       "      <td>вдовец / вдова</td>\n",
       "      <td>63</td>\n",
       "      <td>960</td>\n",
       "      <td>0.065625</td>\n",
       "    </tr>\n",
       "  </tbody>\n",
       "</table>\n",
       "</div>"
      ],
      "text/plain": [
       "                       debt  total     ratio\n",
       "family_status                               \n",
       "Не женат / не замужем   274   2813  0.097405\n",
       "гражданский брак        388   4177  0.092890\n",
       "женат / замужем         931  12380  0.075202\n",
       "в разводе                85   1195  0.071130\n",
       "вдовец / вдова           63    960  0.065625"
      ]
     },
     "execution_count": 62,
     "metadata": {},
     "output_type": "execute_result"
    }
   ],
   "source": [
    "build_pivot_sum_debt(borrowers, 'family_status', 'debt')"
   ]
  },
  {
   "cell_type": "markdown",
   "metadata": {},
   "source": [
    "### Вывод"
   ]
  },
  {
   "cell_type": "markdown",
   "metadata": {},
   "source": [
    "Есть связь между наличием задолженности и семейным положением заемщика. Доля должников среди неженатых/незамужних самая высокая - 9,7%. Также она высока среди проживающих в гражданском браке - 9,3%. Среди женатых этот показатель составляет 7,5%, среди разведенных - 7,1%. Самая низкая - среди вдовцов (6,6%)."
   ]
  },
  {
   "cell_type": "markdown",
   "metadata": {},
   "source": [
    "- Есть ли зависимость между уровнем дохода и возвратом кредита в срок?"
   ]
  },
  {
   "cell_type": "code",
   "execution_count": 63,
   "metadata": {},
   "outputs": [
    {
     "data": {
      "text/html": [
       "<div>\n",
       "<style scoped>\n",
       "    .dataframe tbody tr th:only-of-type {\n",
       "        vertical-align: middle;\n",
       "    }\n",
       "\n",
       "    .dataframe tbody tr th {\n",
       "        vertical-align: top;\n",
       "    }\n",
       "\n",
       "    .dataframe thead th {\n",
       "        text-align: right;\n",
       "    }\n",
       "</style>\n",
       "<table border=\"1\" class=\"dataframe\">\n",
       "  <thead>\n",
       "    <tr style=\"text-align: right;\">\n",
       "      <th></th>\n",
       "      <th>debt</th>\n",
       "      <th>total</th>\n",
       "      <th>ratio</th>\n",
       "    </tr>\n",
       "    <tr>\n",
       "      <th>income_grade</th>\n",
       "      <th></th>\n",
       "      <th></th>\n",
       "      <th></th>\n",
       "    </tr>\n",
       "  </thead>\n",
       "  <tbody>\n",
       "    <tr>\n",
       "      <td>средний доход (100 000 - 150 000)</td>\n",
       "      <td>491</td>\n",
       "      <td>5704</td>\n",
       "      <td>0.086080</td>\n",
       "    </tr>\n",
       "    <tr>\n",
       "      <td>высокий доход (150 000 - 200 000)</td>\n",
       "      <td>538</td>\n",
       "      <td>6292</td>\n",
       "      <td>0.085505</td>\n",
       "    </tr>\n",
       "    <tr>\n",
       "      <td>низкий доход (50 000 - 100 000)</td>\n",
       "      <td>331</td>\n",
       "      <td>4091</td>\n",
       "      <td>0.080909</td>\n",
       "    </tr>\n",
       "    <tr>\n",
       "      <td>очень высокий доход (более 200 000)</td>\n",
       "      <td>358</td>\n",
       "      <td>5066</td>\n",
       "      <td>0.070667</td>\n",
       "    </tr>\n",
       "    <tr>\n",
       "      <td>очень низкий доход (0 - 50 000)</td>\n",
       "      <td>23</td>\n",
       "      <td>372</td>\n",
       "      <td>0.061828</td>\n",
       "    </tr>\n",
       "  </tbody>\n",
       "</table>\n",
       "</div>"
      ],
      "text/plain": [
       "                                     debt  total     ratio\n",
       "income_grade                                              \n",
       "средний доход (100 000 - 150 000)     491   5704  0.086080\n",
       "высокий доход (150 000 - 200 000)     538   6292  0.085505\n",
       "низкий доход (50 000 - 100 000)       331   4091  0.080909\n",
       "очень высокий доход (более 200 000)   358   5066  0.070667\n",
       "очень низкий доход (0 - 50 000)        23    372  0.061828"
      ]
     },
     "execution_count": 63,
     "metadata": {},
     "output_type": "execute_result"
    }
   ],
   "source": [
    "build_pivot_sum_debt(borrowers, 'income_grade', 'debt')"
   ]
  },
  {
   "cell_type": "markdown",
   "metadata": {},
   "source": [
    "### Вывод"
   ]
  },
  {
   "cell_type": "markdown",
   "metadata": {},
   "source": [
    "Самая высокая доля просрочки среди заемщиков с доходом от 100 000 до 150 000 - 8,6%, практически такое же значение среди заемщиков с доходами от 150 000 до 200 000 р. - 8,5%. Чуть лучше дело обстоит у людей с доходами от 50 000 до 100 000 (8%). Наилучшая платежная дисциплина у заемщиков с доходами свыше 200 000 (7%) и ниже 50 000 (6,1%)."
   ]
  },
  {
   "cell_type": "markdown",
   "metadata": {},
   "source": [
    "- Как разные цели кредита влияют на его возврат в срок?"
   ]
  },
  {
   "cell_type": "code",
   "execution_count": 64,
   "metadata": {},
   "outputs": [
    {
     "data": {
      "text/html": [
       "<div>\n",
       "<style scoped>\n",
       "    .dataframe tbody tr th:only-of-type {\n",
       "        vertical-align: middle;\n",
       "    }\n",
       "\n",
       "    .dataframe tbody tr th {\n",
       "        vertical-align: top;\n",
       "    }\n",
       "\n",
       "    .dataframe thead th {\n",
       "        text-align: right;\n",
       "    }\n",
       "</style>\n",
       "<table border=\"1\" class=\"dataframe\">\n",
       "  <thead>\n",
       "    <tr style=\"text-align: right;\">\n",
       "      <th></th>\n",
       "      <th>debt</th>\n",
       "      <th>total</th>\n",
       "      <th>ratio</th>\n",
       "    </tr>\n",
       "    <tr>\n",
       "      <th>purpose_briefly</th>\n",
       "      <th></th>\n",
       "      <th></th>\n",
       "      <th></th>\n",
       "    </tr>\n",
       "  </thead>\n",
       "  <tbody>\n",
       "    <tr>\n",
       "      <td>автомобиль</td>\n",
       "      <td>403</td>\n",
       "      <td>4315</td>\n",
       "      <td>0.093395</td>\n",
       "    </tr>\n",
       "    <tr>\n",
       "      <td>образование</td>\n",
       "      <td>370</td>\n",
       "      <td>4022</td>\n",
       "      <td>0.091994</td>\n",
       "    </tr>\n",
       "    <tr>\n",
       "      <td>свадьба</td>\n",
       "      <td>186</td>\n",
       "      <td>2348</td>\n",
       "      <td>0.079216</td>\n",
       "    </tr>\n",
       "    <tr>\n",
       "      <td>недвижимость</td>\n",
       "      <td>782</td>\n",
       "      <td>10840</td>\n",
       "      <td>0.072140</td>\n",
       "    </tr>\n",
       "  </tbody>\n",
       "</table>\n",
       "</div>"
      ],
      "text/plain": [
       "                 debt  total     ratio\n",
       "purpose_briefly                       \n",
       "автомобиль        403   4315  0.093395\n",
       "образование       370   4022  0.091994\n",
       "свадьба           186   2348  0.079216\n",
       "недвижимость      782  10840  0.072140"
      ]
     },
     "execution_count": 64,
     "metadata": {},
     "output_type": "execute_result"
    }
   ],
   "source": [
    "build_pivot_sum_debt(borrowers, 'purpose_briefly', 'debt')"
   ]
  },
  {
   "cell_type": "markdown",
   "metadata": {},
   "source": [
    "### Вывод"
   ]
  },
  {
   "cell_type": "markdown",
   "metadata": {},
   "source": [
    "Максимальная доля неплательщиков по кредитам на приобретение автомобиля - 9,3%, также высоко значение по кредитам на образование - 9,2%. Заемные средства на свадьбу не возвращает 7,9% клиентов банка. Минимальный показатель по кредитам, связанным с недвижимостью, - 7,2%."
   ]
  },
  {
   "cell_type": "markdown",
   "metadata": {},
   "source": [
    "### Общий вывод <a name=\"conclusion\"></a>"
   ]
  },
  {
   "cell_type": "markdown",
   "metadata": {},
   "source": [
    "После проведенного исследования можно выделить проблемных заемщиков в каждой рассмотренной категории. \n",
    "\n",
    "Так, доля должников среди людей, имеющих детей, выше, чем среди бездетных. Максимальный процент должников (9,2%) составляют заемщики, у которых 1-2 ребенка. Среди многодетных таковых 8,1%. Доля должников среди бездетных самая низкая - 7,5%.\n",
    "\n",
    "Имеет место связь между просрочками и семейным положением заемщика. Доля должников среди неженатых/незамужних самая высокая - 9,7%. Также она высока среди проживающих в гражданском браке - 9,3%. Среди женатых этот показатель составляет 7,5%, среди разведенных - 7,1%. Меньше всего должников среди вдовцов (6,6%).\n",
    "\n",
    "У заемщиков с доходом от 100 000 до 150 000 самая значительная доля просрочки - 8,6%, практически такое же значение среди заемщиков с доходами от 150 000 до 200 000 р. - 8,5%. Чуть лучше дело обстоит у людей с доходами от 50 000 до 100 000 (8%). Наилучшая платежная дисциплина у заемщиков с доходами свыше 200 000 (7%) и ниже 50 000 (6,1%).\n",
    "\n",
    "Больше всего неплательщиков среди взявших кредит на приобретение автомобиля - 9,3%, а также на образование - 9,2%. Заемные средства на свадьбу возвращает с просрочкой 7,9% клиентов банка. Наилучший показатель по кредитам, связанным с недвижимостью, - 7,2%.\n",
    "\n",
    "Таким образом, можно сформировать портрет наиболее проблемного заемщика: это клиент, имеющий одного или двух детей, неженатый, со средним доходом 100 000 - 150 000, берущий кредит на приобретение автомобиля.\n",
    "\n",
    "Банку-заказчику можно порекомендовать при скоринге клиентов делать выбор при прочих равных в пользу клиентов со следующими характеристиками:\n",
    "\n",
    "- бездетные\n",
    "- вдовцы или разведенные\n",
    "- с доходами менее 50 000 либо более 200 000\n",
    "- берущие кредит на операции с недвижимостью."
   ]
  }
 ],
 "metadata": {
  "kernelspec": {
   "display_name": "Python 3",
   "language": "python",
   "name": "python3"
  },
  "language_info": {
   "codemirror_mode": {
    "name": "ipython",
    "version": 3
   },
   "file_extension": ".py",
   "mimetype": "text/x-python",
   "name": "python",
   "nbconvert_exporter": "python",
   "pygments_lexer": "ipython3",
   "version": "3.7.7"
  },
  "toc": {
   "base_numbering": 1,
   "nav_menu": {},
   "number_sections": false,
   "sideBar": true,
   "skip_h1_title": true,
   "title_cell": "Table of Contents",
   "title_sidebar": "Contents",
   "toc_cell": false,
   "toc_position": {},
   "toc_section_display": true,
   "toc_window_display": false
  }
 },
 "nbformat": 4,
 "nbformat_minor": 2
}
